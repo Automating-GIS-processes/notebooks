{
 "cells": [
  {
   "cell_type": "markdown",
   "metadata": {},
   "source": [
    "# Introduction to Geopandas\n",
    "\n",
    "In this lesson, we will cover basics steps needed for interacting with spatial data in Python using geopandas:\n",
    "\n",
    "- Managing filepaths\n",
    "- Reading spatial data from file \n",
    "- Geometry calculations \n",
    "- Writing spatial data to file\n",
    "- Grouping and splitting spatial data into multiple layers\n",
    "\n",
    "\n",
    "Geopandas (http://geopandas.org/) makes it possible to work with geospatial data in Python in a relatively easy way. Geopandas combines the capabilities of the data analysis library [pandas](https://pandas.pydata.org/pandas-docs/stable/) with other packages like [shapely](https://shapely.readthedocs.io/en/stable/manual.html) and [fiona](https://fiona.readthedocs.io/en/latest/manual.html) for managing spatial data. \n",
    "\n",
    "The main data structures in geopandas are `GeoSeries` and `GeoDataFrame` which extend the capabilities of `Series` and `DataFrames` from pandas. This means that we can use all our pandas skills also when working with geopandas!  If you need to refresh your memory about pandas, check out week 5 and 6 lesson materials from the [Geo-Python website](geo-python.github.io). \n",
    "\n",
    "The main difference between geodataframes and pandas dataframes is that a [geodataframe](http://geopandas.org/data_structures.html#geodataframe) should contain one column for geometries. By default, the name of this column is `'geometry'`. The geometry column is a [geoseries](http://geopandas.org/data_structures.html#geoseries) which contains the geometries (points, lines, polygons, multipolygons etc.) as shapely objects. \n",
    "\n",
    "![geodataframe.png](img/geodataframe.png)\n",
    "\n",
    "As we learned in the Geo-Python course, it is conventional to import pandas as `pd`. Similarly,we will import geopandas as `gpd`:"
   ]
  },
  {
   "cell_type": "code",
   "execution_count": null,
   "metadata": {},
   "outputs": [],
   "source": []
  },
  {
   "cell_type": "markdown",
   "metadata": {},
   "source": [
    "## Input data: Finnish topographic database \n",
    "\n",
    "In this lesson we will work with the [National Land Survey of Finland (NLS) topographic database (from 2018)](https://www.maanmittauslaitos.fi/en/maps-and-spatial-data/expert-users/product-descriptions/topographic-database). \n",
    "- The data set is licensed under the NLS' [open data licence](https://www.maanmittauslaitos.fi/en/opendata-licence-cc40) (CC BY 4.0).\n",
    "- Structure of the data is described in a separate Excel file ([download link](http://www.maanmittauslaitos.fi/sites/maanmittauslaitos.fi/files/attachments/2018/10/maastotietokanta_kohdemalli_eng.xlsx)).\n",
    "- Further information about file naming is available at [fairdata.fi](https://etsin.fairdata.fi/dataset/5023ecc7-914a-4494-9e32-d0a39d3b56ae).\n",
    "\n",
    "For this lesson, we have acquired a subset of the topographic database as shapefiles from the Helsinki Region in Finland via the [CSC open data portal](https://avaa.tdata.fi/web/paituli/latauspalvelu):\n",
    "\n",
    "![Paituli data download](img/Paituli_maastotietokanta_download.png)\n",
    "\n",
    "\n",
    "In this lesson, we will focus on **terrain objects** (Feature group: \"Terrain/1\" in the topographic database). The Terrain/1 feature group contains several feature classes. **Our aim in this lesson is to save all the Terrain/1 feature classes into separate files**.\n",
    "\n",
    "*Terrain/1 features in the Topographic Database:*\n",
    "\n",
    "|  feature class | Name of feature                                            | Feature group |\n",
    "|----------------|------------------------------------------------------------|---------------|\n",
    "| 32421          | Motor traffic area                                         | Terrain/1     |\n",
    "| 32200          | Cemetery                                                   | Terrain/1     |\n",
    "| 34300          | Sand                                                       | Terrain/1     |\n",
    "| 34100          | Rock - area                                                | Terrain/1     |\n",
    "| 34700          | Rocky area                                                 | Terrain/1     |\n",
    "| 32500          | Quarry                                                     | Terrain/1     |\n",
    "| 32112          | Mineral resources extraction area, fine-grained material   | Terrain/1     |\n",
    "| 32111          | Mineral resources extraction area, coarse-grained material | Terrain/1     |\n",
    "| 32611          | Field                                                      | Terrain/1     |\n",
    "| 32612          | Garden                                                     | Terrain/1     |\n",
    "| 32800          | Meadow                                                     | Terrain/1     |\n",
    "| 32900          | Park                                                       | Terrain/1     |\n",
    "| 35300          | Paludified land                                            | Terrain/1     |\n",
    "| 35412          | Bog, easy to traverse forested                             | Terrain/1     |\n",
    "| 35411          | Open bog, easy to traverse treeless                        | Terrain/1     |\n",
    "| 35421          | Open fen, difficult to traverse treeless                   | Terrain/1     |\n",
    "| 33000          | Earth fill                                                 | Terrain/1     |\n",
    "| 33100          | Sports and recreation area                                 | Terrain/1     |\n",
    "| 36200          | Lake water                                                 | Terrain/1     |\n",
    "| 36313          | Watercourse area                                           | Terrain/1     |\n",
    "\n",
    "\n",
    "According to the [naming convention](https://etsin.fairdata.fi/dataset/5023ecc7-914a-4494-9e32-d0a39d3b56ae), all files that start with a letter `m` and end with `p` contain the objects we are interested in (Terrain/1 polygons). "
   ]
  },
  {
   "cell_type": "markdown",
   "metadata": {},
   "source": [
    "## Downloading data\n",
    "\n",
    "You can use `wget` program (available in Binder and CSC Notebooks) to download the data from the command line from this download link: https://github.com/AutoGIS/data/raw/master/L2_data.zip. Let's download the data into the same folder with the lesson 2 notebooks (`.../notebooks/L2`):\n",
    "\n",
    "1. Open up a new terminal window\n",
    "2. Navigate to the correct folder in the terminal:\n",
    "\n",
    "```\n",
    "# Navigate to lesson 2 notebooks directory:\n",
    "cd autogis/notebooks/L2\n",
    "    \n",
    "```\n",
    "3. Use `wget` to dowload the data from the dowload link:\n",
    "    \n",
    "```\n",
    "wget https://github.com/AutoGIS/data/raw/master/L2_data.zip\n",
    "    \n",
    "```\n",
    "<div class=\"alert alert-info\">\n",
    "\n",
    "**Copy-paste**\n",
    "    \n",
    "You can paste copied text in JupyterLab Terminal by pressing `SHIFT` + `RIGHT-CLICK` on your mouse and choosing `Paste`.\n",
    "\n",
    "</div>\n",
    "\n",
    "Once you have downloaded the `L2_data.zip` file into your (cloud) computer, you can unzip the file using `unzip` command in the Terminal (or e.g. 7zip on Windows if working with own computer). Run the following commands in the `.../notebooks/L2` -directory:\n",
    "\n",
    "``` \n",
    "$ unzip L2_data.zip\n",
    "$ ls L2_data\n",
    "\n",
    "```\n",
    "You can also check the contents of the downloaded and unzipped file in the file browser window. \n",
    "\n",
    "The L2_data folder contains several subfolders according to the file strucutre in the topographic database shapefile distribution. After unzipping the downloaded file, you can find the data for this tutorial under: `L2_data/NLS/2018/L4/L41/L4132R.shp`. Notice that Shapefile -fileformat contains many separate files such as `.dbf` that contains the attribute information, and `.prj` -file that contains information about coordinate reference system."
   ]
  },
  {
   "cell_type": "markdown",
   "metadata": {},
   "source": [
    "## Managing filepaths\n",
    "\n",
    "Built-in module `os` provides many useful functions for interacting with the operating system. One of the most useful submodules in the os package is the [os.path-module](https://docs.python.org/2/library/os.path.html) for manipulating file paths. This week, we have data in different sub-folders and we can practice how to use `os` path tools when defining filepaths.\n",
    "\n",
    "Let's import `os` and see how we can construct a filepath by joining a folder path and file name:"
   ]
  },
  {
   "cell_type": "code",
   "execution_count": null,
   "metadata": {},
   "outputs": [],
   "source": [
    "\n",
    "\n",
    "# Define path to folder\n",
    "input_folder = \n",
    "\n",
    "# Join folder path and filename \n",
    "fp = \n",
    "\n",
    "# Print out the full file path\n"
   ]
  },
  {
   "cell_type": "markdown",
   "metadata": {},
   "source": [
    "## Reading a Shapefile\n",
    "\n",
    "Esri Shapefile is the default file format when reading in data usign geopandas, so we only need to pass the file path in order to read in our data:"
   ]
  },
  {
   "cell_type": "code",
   "execution_count": null,
   "metadata": {},
   "outputs": [],
   "source": [
    "\n",
    "\n",
    "# Read file using gpd.read_file()\n"
   ]
  },
  {
   "cell_type": "markdown",
   "metadata": {},
   "source": [
    "Let's check the data type:"
   ]
  },
  {
   "cell_type": "code",
   "execution_count": null,
   "metadata": {
    "collapsed": false,
    "jupyter": {
     "outputs_hidden": false
    }
   },
   "outputs": [],
   "source": []
  },
  {
   "cell_type": "markdown",
   "metadata": {},
   "source": [
    "Here we see that our `data` -variable is a `GeoDataFrame`. GeoDataFrame extends the functionalities of\n",
    "`pandas.DataFrame` in a way that it is possible to handle spatial data using similar approaches and datastructures as in pandas (hence the name geopandas). \n",
    "\n",
    "Let's check the first rows of data: "
   ]
  },
  {
   "cell_type": "code",
   "execution_count": null,
   "metadata": {
    "collapsed": false,
    "jupyter": {
     "outputs_hidden": false
    }
   },
   "outputs": [],
   "source": []
  },
  {
   "cell_type": "markdown",
   "metadata": {},
   "source": [
    "- Check all column names:"
   ]
  },
  {
   "cell_type": "code",
   "execution_count": null,
   "metadata": {},
   "outputs": [],
   "source": []
  },
  {
   "cell_type": "markdown",
   "metadata": {},
   "source": [
    "As you might guess, the column names are in Finnish.\n",
    "Let's select only the useful columns and rename them into English:"
   ]
  },
  {
   "cell_type": "code",
   "execution_count": null,
   "metadata": {},
   "outputs": [],
   "source": []
  },
  {
   "cell_type": "markdown",
   "metadata": {},
   "source": [
    "Define new column names in a dictionary:"
   ]
  },
  {
   "cell_type": "code",
   "execution_count": null,
   "metadata": {},
   "outputs": [],
   "source": []
  },
  {
   "cell_type": "markdown",
   "metadata": {},
   "source": [
    "Rename:"
   ]
  },
  {
   "cell_type": "code",
   "execution_count": null,
   "metadata": {},
   "outputs": [],
   "source": []
  },
  {
   "cell_type": "markdown",
   "metadata": {},
   "source": [
    "Check the output:"
   ]
  },
  {
   "cell_type": "code",
   "execution_count": null,
   "metadata": {},
   "outputs": [],
   "source": []
  },
  {
   "cell_type": "markdown",
   "metadata": {},
   "source": [
    "#### Check your understanding"
   ]
  },
  {
   "cell_type": "markdown",
   "metadata": {},
   "source": [
    "<div class=\"alert alert-info\">\n",
    "    \n",
    "Figure out the following information from our input data using your pandas skills:\n",
    "    \n",
    "- Number of rows?\n",
    "- Number of classes?\n",
    "- Number of groups?\n",
    "</div>"
   ]
  },
  {
   "cell_type": "code",
   "execution_count": null,
   "metadata": {},
   "outputs": [],
   "source": []
  },
  {
   "cell_type": "markdown",
   "metadata": {},
   "source": [
    "It is always a good idea to explore your data also on a map. Creating a simple map from a `GeoDataFrame` is really easy: you can use ``.plot()`` -function from geopandas that **creates a map based on the geometries of the data**. Geopandas actually uses matplotlib for plotting which we introduced in [Lesson 7 of the Geo-Python course](https://geo-python.github.io/site/notebooks/L7/matplotlib.html).\n",
    "\n",
    "Let's try it out, and plot our GeoDataFrame:"
   ]
  },
  {
   "cell_type": "code",
   "execution_count": null,
   "metadata": {
    "collapsed": false,
    "jupyter": {
     "outputs_hidden": false
    }
   },
   "outputs": [],
   "source": []
  },
  {
   "cell_type": "markdown",
   "metadata": {},
   "source": [
    "Voilá! As we can see, it is really easy to produce a map out of your Shapefile with geopandas. Geopandas automatically positions your map in a way that it covers the whole extent of your data.\n",
    "\n",
    "*If you are living in the Helsinki region, you might recognize the shapes plotted on the map!*"
   ]
  },
  {
   "cell_type": "markdown",
   "metadata": {},
   "source": [
    "## Geometries in Geopandas\n",
    "\n",
    "Geopandas takes advantage of Shapely's geometric objects. Geometries are stored in a column called *geometry* that is a default column name for\n",
    "storing geometric information in geopandas."
   ]
  },
  {
   "cell_type": "markdown",
   "metadata": {},
   "source": [
    "Let's print the first 5 rows of the column 'geometry':"
   ]
  },
  {
   "cell_type": "code",
   "execution_count": null,
   "metadata": {
    "collapsed": false,
    "jupyter": {
     "outputs_hidden": false
    }
   },
   "outputs": [],
   "source": []
  },
  {
   "cell_type": "markdown",
   "metadata": {},
   "source": [
    "As we can see the `geometry` column contains familiar looking values, namely Shapely `Polygon` -objects. Since the spatial data is stored as Shapely objects, **it is possible to use Shapely methods** when dealing with geometries in geopandas.\n",
    "\n",
    "Let's have a closer look at the polygons and try to apply some of the Shapely methods we are already familiar with.\n",
    "\n",
    "Let's start by checking the area of the first polygon in the data:"
   ]
  },
  {
   "cell_type": "code",
   "execution_count": null,
   "metadata": {},
   "outputs": [],
   "source": [
    "# Access the geometry on the first row of data\n"
   ]
  },
  {
   "cell_type": "code",
   "execution_count": null,
   "metadata": {},
   "outputs": [],
   "source": [
    "# Print information about the area \n",
    "print(\"Area:\",  \"square meters\")"
   ]
  },
  {
   "cell_type": "markdown",
   "metadata": {},
   "source": [
    "\n",
    "Let's do the same for the first five rows in the data; \n",
    "\n",
    "- Iterate over the GeoDataFrame rows using the `iterrows()` -function that we learned [during the Lesson 6 of the Geo-Python course](https://geo-python.github.io/site/notebooks/L6/pandas/advanced-data-processing-with-pandas.html#Iterating-rows-and-using-self-made-functions-in-Pandas).\n",
    "- For each row, print the area of the polygon (here, we'll limit the for-loop to a selection of the first five rows):"
   ]
  },
  {
   "cell_type": "code",
   "execution_count": null,
   "metadata": {
    "collapsed": false,
    "jupyter": {
     "outputs_hidden": false
    }
   },
   "outputs": [],
   "source": [
    "# Iterate over rows and print the area of a Polygon\n",
    "for index, row in data[0:5].iterrows():\n",
    "    \n",
    "    # Get the area from the shapely-object stored in the geometry-column\n",
    "    poly_area = row['geometry'].area\n",
    "    \n",
    "    # Print info\n",
    "    print(f\"Polygon area at index {index} is: {round(poly_area,0)} square meters\")"
   ]
  },
  {
   "cell_type": "markdown",
   "metadata": {},
   "source": [
    "As you see from here, all **pandas** methods, such as the `iterrows()` function, are directly available in Geopandas without the need to call pandas separately because Geopandas is an **extension** for pandas. \n",
    "\n",
    "In practice, it is not necessary to use the iterrows()-approach to calculate the area for all features. Geodataframes and geoseries have an attribute `area` which we can use for accessing the area for each feature at once: "
   ]
  },
  {
   "cell_type": "code",
   "execution_count": null,
   "metadata": {},
   "outputs": [],
   "source": []
  },
  {
   "cell_type": "markdown",
   "metadata": {},
   "source": [
    "Let's next create a new column into our GeoDataFrame where we calculate and store the areas of individual polygons:"
   ]
  },
  {
   "cell_type": "code",
   "execution_count": null,
   "metadata": {
    "collapsed": false,
    "jupyter": {
     "outputs_hidden": false
    }
   },
   "outputs": [],
   "source": [
    "# Create a new column called 'area' \n"
   ]
  },
  {
   "cell_type": "markdown",
   "metadata": {},
   "source": [
    "Check the output:"
   ]
  },
  {
   "cell_type": "code",
   "execution_count": null,
   "metadata": {},
   "outputs": [],
   "source": []
  },
  {
   "cell_type": "markdown",
   "metadata": {},
   "source": [
    "These values correspond to the ones we saw in previous step when iterating rows.\n",
    "\n",
    "Let's check what is the `min`, `max` and `mean` of those areas using familiar functions from our previous Pandas lessions."
   ]
  },
  {
   "cell_type": "code",
   "execution_count": null,
   "metadata": {},
   "outputs": [],
   "source": [
    "# Maximum area\n"
   ]
  },
  {
   "cell_type": "code",
   "execution_count": null,
   "metadata": {},
   "outputs": [],
   "source": [
    "# Minimum area\n"
   ]
  },
  {
   "cell_type": "code",
   "execution_count": null,
   "metadata": {},
   "outputs": [],
   "source": [
    "# Average area\n"
   ]
  },
  {
   "cell_type": "markdown",
   "metadata": {},
   "source": [
    "## Writing data into a shapefile\n",
    "\n",
    "It is possible to export GeoDataFrames into various data formats using the [to_file()](http://geopandas.org/io.html#writing-spatial-data) method. In our case, we want to export subsets of the data into Shapefiles (one file for each feature class).\n",
    "\n",
    "Let's first select one class (class number `36200`, \"Lake water\") from the data as a new GeoDataFrame:\n"
   ]
  },
  {
   "cell_type": "code",
   "execution_count": null,
   "metadata": {},
   "outputs": [],
   "source": [
    "# Select a class\n"
   ]
  },
  {
   "cell_type": "markdown",
   "metadata": {},
   "source": [
    "Check the selection:"
   ]
  },
  {
   "cell_type": "code",
   "execution_count": null,
   "metadata": {},
   "outputs": [],
   "source": []
  },
  {
   "cell_type": "markdown",
   "metadata": {},
   "source": [
    "- write this layer into a new Shapefile using the `gpd.to_file()` -function:"
   ]
  },
  {
   "cell_type": "code",
   "execution_count": null,
   "metadata": {},
   "outputs": [],
   "source": [
    "# Create a output path for the data\n",
    "output_folder = \n",
    "output_fp = "
   ]
  },
  {
   "cell_type": "code",
   "execution_count": null,
   "metadata": {},
   "outputs": [],
   "source": [
    "# Write those rows into a new file (the default output file format is Shapefile)\n"
   ]
  },
  {
   "cell_type": "markdown",
   "metadata": {},
   "source": [
    "#### Check your understanding"
   ]
  },
  {
   "cell_type": "markdown",
   "metadata": {},
   "source": [
    "<div class=\"alert alert-info\">\n",
    "\n",
    "Read the output Shapefile in a new geodataframe, and check that the data looks ok.\n",
    "</div>"
   ]
  },
  {
   "cell_type": "code",
   "execution_count": null,
   "metadata": {},
   "outputs": [],
   "source": []
  },
  {
   "cell_type": "code",
   "execution_count": null,
   "metadata": {},
   "outputs": [],
   "source": []
  },
  {
   "cell_type": "code",
   "execution_count": null,
   "metadata": {},
   "outputs": [],
   "source": []
  },
  {
   "cell_type": "markdown",
   "metadata": {},
   "source": [
    "## Grouping the Geodataframe\n",
    "\n",
    "One really useful function that can be used in Pandas/Geopandas is [groupby()](http://pandas.pydata.org/pandas-docs/stable/generated/pandas.DataFrame.groupby.html) which groups data based on values on selected column(s). We saw and used this function already in Lesson 6 of the Geo-Python course. \n",
    "\n",
    "Next we will automate the file export task; we will group the data based on column `CLASS` and export a shapefile for each class.\n",
    "\n",
    "Let's continue with the same input file we already read previously into the variable `data`. We also selected and renamed a subset of the columns.\n",
    "\n",
    "Check again the first rows of our input data:"
   ]
  },
  {
   "cell_type": "code",
   "execution_count": null,
   "metadata": {},
   "outputs": [],
   "source": []
  },
  {
   "cell_type": "markdown",
   "metadata": {},
   "source": [
    "The `CLASS` column in the data contains information about different land use types. With `.unique()` -function we can quickly see all different values in that column:"
   ]
  },
  {
   "cell_type": "code",
   "execution_count": null,
   "metadata": {
    "collapsed": false,
    "jupyter": {
     "outputs_hidden": false
    }
   },
   "outputs": [],
   "source": [
    "# Print all unique values in the column\n"
   ]
  },
  {
   "cell_type": "markdown",
   "metadata": {},
   "source": [
    "- Now we can use that information to group our data and save all land use types into different layers:"
   ]
  },
  {
   "cell_type": "code",
   "execution_count": null,
   "metadata": {
    "collapsed": false,
    "jupyter": {
     "outputs_hidden": false
    }
   },
   "outputs": [],
   "source": [
    "# Group the data by class\n",
    "\n",
    "\n",
    "# Let's see what we have\n"
   ]
  },
  {
   "cell_type": "markdown",
   "metadata": {},
   "source": [
    "As we can see, `groupby` -function gives us an object called `DataFrameGroupBy` which is similar to list of keys and values (in a dictionary) that we can iterate over.\n",
    "\n",
    "Check group keys:"
   ]
  },
  {
   "cell_type": "code",
   "execution_count": null,
   "metadata": {},
   "outputs": [],
   "source": []
  },
  {
   "cell_type": "markdown",
   "metadata": {},
   "source": [
    "The group keys are unique values from the column by which we grouped the dataframe.\n",
    "\n",
    "Check how many rows of data each group has:"
   ]
  },
  {
   "cell_type": "code",
   "execution_count": null,
   "metadata": {
    "collapsed": false,
    "jupyter": {
     "outputs_hidden": false
    }
   },
   "outputs": [],
   "source": [
    "# Iterate over the grouped object\n",
    "for key, group in grouped:\n",
    "\n",
    "    # Let's check how many rows each group has:\n"
   ]
  },
  {
   "cell_type": "markdown",
   "metadata": {},
   "source": [
    "There are, for example, 56 lake polygons in the input data."
   ]
  },
  {
   "cell_type": "markdown",
   "metadata": {},
   "source": [
    "We can also check how the _last_ group looks like (we have the variables in memory from the last iteration of the for-loop):"
   ]
  },
  {
   "cell_type": "code",
   "execution_count": null,
   "metadata": {},
   "outputs": [],
   "source": []
  },
  {
   "cell_type": "markdown",
   "metadata": {},
   "source": [
    "Notice that the index numbers refer to the row numbers in the original data -GeoDataFrame."
   ]
  },
  {
   "cell_type": "markdown",
   "metadata": {},
   "source": [
    "Check also the data type of the group:"
   ]
  },
  {
   "cell_type": "code",
   "execution_count": null,
   "metadata": {},
   "outputs": [],
   "source": []
  },
  {
   "cell_type": "markdown",
   "metadata": {},
   "source": [
    "As we can see, each set of data are now grouped into separate GeoDataFrames, and we can save them into separate files."
   ]
  },
  {
   "cell_type": "markdown",
   "metadata": {},
   "source": [
    "### Saving multiple output files\n",
    "\n",
    "Let's **export each class into a separate Shapefile**. While doing this, we also want to **create unique filenames for each class**.\n",
    "\n",
    "When looping over the grouped object, information about the class is stored in the variable `key`, and we can use this information for creating new variable names inside the for-loop. For example, we want to name the shapefile containing lake polygons as \"terrain_36200.shp\".\n",
    "\n",
    "\n",
    "<div class=\"alert alert-info\">\n",
    "\n",
    "**String formatting**\n",
    "    \n",
    "There are different approaches for formatting strings in Python. Here are a couple of different ways for putting together file-path names using two variables:\n",
    "\n",
    "```\n",
    "basename = \"terrain\"\n",
    "key = 36200\n",
    "\n",
    "# OPTION 1. Concatenating using the `+` operator:\n",
    "out_fp = basename + \"_\" + str(key) + \".shp\"\n",
    "\n",
    "# OPTION 2. Positional formatting using `%` operator\n",
    "out_fp = \"%s_%s.shp\" %(basename, key)\n",
    "    \n",
    "# OPTION 3. Positional formatting using `.format()`\n",
    "out_fp = \"{}_{}.shp\".format(basename, key)\n",
    "```\n",
    "    \n",
    "Read more from here: https://pyformat.info/\n",
    "</div>\n",
    "\n",
    "\n",
    "Let's now export terrain classes into separate Shapefiles.\n",
    "\n",
    "- First, create a new folder for the outputs:"
   ]
  },
  {
   "cell_type": "code",
   "execution_count": null,
   "metadata": {},
   "outputs": [],
   "source": [
    "# Determine output directory\n",
    "output_folder = \n",
    "\n",
    "# Create a new folder called 'Results' \n",
    "result_folder = "
   ]
  },
  {
   "cell_type": "code",
   "execution_count": null,
   "metadata": {},
   "outputs": [],
   "source": [
    "# Check if the folder exists already\n",
    "if not os.path.exists(result_folder):\n",
    "    \n",
    "    # If it does not exist, create one\n",
    "    print(\"Creating a folder for the results..\")\n",
    "    os.makedirs(result_folder)\n",
    "    \n",
    "else:\n",
    "    print(\"Results folder exists already.\")"
   ]
  },
  {
   "cell_type": "markdown",
   "metadata": {},
   "source": [
    "At this point, you can go to the file browser and check that the new folder was created successfully.\n",
    "\n",
    "- Iterate over groups, create a file name, and save group to file:"
   ]
  },
  {
   "cell_type": "code",
   "execution_count": null,
   "metadata": {
    "collapsed": false,
    "jupyter": {
     "outputs_hidden": false
    }
   },
   "outputs": [],
   "source": [
    "# Iterate over the groups\n",
    "for key, group in grouped:\n",
    "    \n",
    "    # Format the filename \n",
    "\n",
    "\n",
    "    # Print information about the process\n",
    "\n",
    "\n",
    "    # Create an output path\n",
    "\n",
    "\n",
    "    # Export the data\n"
   ]
  },
  {
   "cell_type": "markdown",
   "metadata": {},
   "source": [
    "Excellent! Now we have saved those individual classes into separate Shapefiles and named the file according to the class name. These kind of grouping operations can be really handy when dealing with layers of spatial data. Doing similar process manually would be really laborious and error-prone."
   ]
  },
  {
   "cell_type": "markdown",
   "metadata": {},
   "source": [
    "### Extra: save data to csv"
   ]
  },
  {
   "cell_type": "markdown",
   "metadata": {},
   "source": [
    "We can also extract basic statistics from our geodataframe, and save this information as a text file. \n",
    "\n",
    "Let's summarize the total area of each group:"
   ]
  },
  {
   "cell_type": "code",
   "execution_count": null,
   "metadata": {},
   "outputs": [],
   "source": [
    "area_info = grouped.area.sum().round()"
   ]
  },
  {
   "cell_type": "code",
   "execution_count": null,
   "metadata": {},
   "outputs": [],
   "source": [
    "area_info"
   ]
  },
  {
   "cell_type": "markdown",
   "metadata": {},
   "source": [
    "- save area info to csv using pandas:"
   ]
  },
  {
   "cell_type": "code",
   "execution_count": null,
   "metadata": {},
   "outputs": [],
   "source": [
    "# Create an output path\n",
    "area_info.to_csv(os.path.join(result_folder, \"terrain_class_areas.csv\"), header=True)"
   ]
  },
  {
   "cell_type": "markdown",
   "metadata": {},
   "source": [
    "## Summary\n",
    "\n",
    "In this tutorial we introduced the first steps of using geopandas. More specifically you should know how to:\n",
    "\n",
    "1. Read data from Shapefile using geopandas\n",
    "\n",
    "2. Access geometry information in a geodataframe\n",
    "\n",
    "4. Write GeoDataFrame data from Shapefile using geopandas\n",
    "\n",
    "5. Automate a task to save specific rows from data into Shapefile based on specific key using `groupby()` -function\n",
    "\n",
    "6. Extra: saving attribute information to a csv file.\n",
    "\n",
    "\n",
    " "
   ]
  }
 ],
 "metadata": {
  "kernelspec": {
   "display_name": "Python 3",
   "language": "python",
   "name": "python3"
  },
  "language_info": {
   "codemirror_mode": {
    "name": "ipython",
    "version": 3
   },
   "file_extension": ".py",
   "mimetype": "text/x-python",
   "name": "python",
   "nbconvert_exporter": "python",
   "pygments_lexer": "ipython3",
   "version": "3.9.1"
  }
 },
 "nbformat": 4,
 "nbformat_minor": 4
}
