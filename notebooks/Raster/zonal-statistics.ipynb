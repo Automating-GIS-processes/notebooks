{
 "cells": [
  {
   "cell_type": "markdown",
   "metadata": {},
   "source": [
    "Zonal statistics\n",
    "================\n",
    "\n",
    "Quite often you have a situtation when you want to summarize raster datasets based on vector geometries, such as calculating the average elevation of specific area.\n",
    "\n",
    "[Rasterstats](https://github.com/perrygeo/python-rasterstats) is a Python module that does exactly that, easily.\n",
    "\n",
    "- Let's start by reading the data:"
   ]
  },
  {
   "cell_type": "code",
   "execution_count": null,
   "metadata": {},
   "outputs": [],
   "source": [
    "import rasterio\n",
    "from rasterio.plot import show\n",
    "from rasterstats import zonal_stats\n",
    "import osmnx as ox\n",
    "import geopandas as gpd\n",
    "import os\n",
    "import matplotlib.pyplot as plt\n",
    "%matplotlib inline\n",
    "\n",
    "# File path\n",
    "data_dir = \"L5_data\"\n",
    "dem_fp = os.path.join(data_dir, \"Helsinki_DEM2x2m_Mosaic.tif\")\n",
    "\n",
    "# Read the Digital Elevation Model for Helsinki\n",
    "dem = rasterio.open(dem_fp)\n",
    "dem"
   ]
  },
  {
   "cell_type": "markdown",
   "metadata": {},
   "source": [
    "Good, now our elevation data is in read mode.\n",
    "\n",
    "Next, we want to calculate the elevation of two neighborhoods located in Helsinki, called `Kallio` and `Pihlajamäki`, and find out which one of them is higher based on the elevation data. We will use a package called [OSMnx](https://github.com/gboeing/osmnx) to fetch the data from OpenStreetMap for those areas.\n",
    "\n",
    "- Specify place names for `Kallio` and `Pihlajamäki` that Nominatim can identify https://nominatim.openstreetmap.org/, and retrieve the "
   ]
  },
  {
   "cell_type": "code",
   "execution_count": null,
   "metadata": {},
   "outputs": [],
   "source": [
    "# Keywords for Kallio and Helsinki in such format that they can be found from OSM\n",
    "kallio_q = \"Kallio, Helsinki, Finland\"\n",
    "pihlajamaki_q = \"Pihlajamäki, Malmi, Helsinki, Finland\"\n",
    "\n",
    "# Retrieve the geometries of those areas using osmnx\n",
    "kallio = ox.gdf_from_place(kallio_q)\n",
    "pihlajamaki = ox.gdf_from_place(pihlajamaki_q)\n",
    "\n",
    "# Reproject to same coordinate system as the \n",
    "kallio = kallio.to_crs(crs=dem.crs)\n",
    "pihlajamaki = pihlajamaki.to_crs(crs=dem.crs)\n",
    "\n",
    "type(kallio)"
   ]
  },
  {
   "cell_type": "markdown",
   "metadata": {},
   "source": [
    "As we can see, now we have retrieved data from OSMnx and they are stored as GeoDataFrames.\n",
    "\n",
    "- Let's see how our datasets look by plotting the DEM and the regions on top of it"
   ]
  },
  {
   "cell_type": "code",
   "execution_count": null,
   "metadata": {},
   "outputs": [],
   "source": [
    "# Plot the Polygons on top of the DEM\n",
    "ax = kallio.plot(facecolor='None', edgecolor='red', linewidth=2)\n",
    "ax = pihlajamaki.plot(ax=ax, facecolor='None', edgecolor='blue', linewidth=2)\n",
    "\n",
    "# Plot DEM\n",
    "show((dem, 1), ax=ax)"
   ]
  },
  {
   "cell_type": "markdown",
   "metadata": {},
   "source": [
    "**Which one is higher? Kallio or Pihlajamäki? We can use zonal statistics to find out!**\n",
    "\n",
    "- First we need to get the values of the dem as numpy array and the affine of the raster"
   ]
  },
  {
   "cell_type": "code",
   "execution_count": null,
   "metadata": {},
   "outputs": [],
   "source": [
    "# Read the raster values\n",
    "array = dem.read(1)\n",
    "\n",
    "# Get the affine\n",
    "affine = dem.transform"
   ]
  },
  {
   "cell_type": "markdown",
   "metadata": {},
   "source": [
    "- Now we can calculate the zonal statistics by using the function `zonal_stats`."
   ]
  },
  {
   "cell_type": "code",
   "execution_count": null,
   "metadata": {},
   "outputs": [],
   "source": [
    "# Calculate zonal statistics for Kallio\n",
    "zs_kallio = zonal_stats(kallio, array, affine=affine, stats=['min', 'max', 'mean', 'median', 'majority'])\n",
    "\n",
    "# Calculate zonal statistics for Pihlajamäki\n",
    "zs_pihla = zonal_stats(pihlajamaki, array, affine=affine, stats=['min', 'max', 'mean', 'median', 'majority'])\n"
   ]
  },
  {
   "cell_type": "markdown",
   "metadata": {},
   "source": [
    "Okey. So what do we have now?"
   ]
  },
  {
   "cell_type": "code",
   "execution_count": null,
   "metadata": {},
   "outputs": [],
   "source": [
    "print(zs_kallio)\n",
    "print(zs_pihla)"
   ]
  },
  {
   "cell_type": "markdown",
   "metadata": {},
   "source": [
    "Super! Now we can see that Pihlajamäki seems to be slightly higher compared to Kallio."
   ]
  }
 ],
 "metadata": {
  "kernelspec": {
   "display_name": "Python [default]",
   "language": "python",
   "name": "python3"
  },
  "language_info": {
   "codemirror_mode": {
    "name": "ipython",
    "version": 3
   },
   "file_extension": ".py",
   "mimetype": "text/x-python",
   "name": "python",
   "nbconvert_exporter": "python",
   "pygments_lexer": "ipython3",
   "version": "3.5.6"
  }
 },
 "nbformat": 4,
 "nbformat_minor": 4
}
