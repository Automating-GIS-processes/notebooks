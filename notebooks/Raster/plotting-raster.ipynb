{
 "cells": [
  {
   "cell_type": "markdown",
   "metadata": {},
   "source": [
    "# Visualizing raster layers\n",
    "\n",
    "Of course, it is always highly useful to take a look how the data looks like. This is easy with the `plot.show()` -function that comes with rasterio. This can be used to plot a single channel of the data or using mutiple channels simultaniously (multiband). The [channels for the data used in here](https://etsin.avointiede.fi/storage/f/paituli/latuviitta/Landsat_kanavat.pdf) and their corresponding wavelengths are:\n",
    "\n",
    " 1. Blue (0.45 - 0.515)\n",
    " 2. Green (0.525 - 0.605)\n",
    " 3. Red (0.63 - 0.69)\n",
    " 4. NIR (0.75 - 0.90)\n",
    " 5. IR (1.55 - 1.75)\n",
    " "
   ]
  },
  {
   "cell_type": "markdown",
   "metadata": {},
   "source": [
    "## Basic plotting\n"
   ]
  },
  {
   "cell_type": "code",
   "execution_count": null,
   "metadata": {},
   "outputs": [],
   "source": [
    "import rasterio\n",
    "from rasterio.plot import show\n",
    "import numpy as np\n",
    "import os\n",
    "%matplotlib inline\n",
    "\n",
    "# Data dir\n",
    "data_dir = \"L5_data\"\n",
    "\n",
    "# Filepath\n",
    "fp = os.path.join(data_dir, \"Helsinki_masked_p188r018_7t20020529_z34__LV-FIN.tif\")\n",
    "\n",
    "# Open the file:\n",
    "raster = rasterio.open(fp)\n",
    "\n",
    "# Plot band 1\n",
    "show((raster, 1))"
   ]
  },
  {
   "cell_type": "markdown",
   "metadata": {},
   "source": [
    "Here we can see that the `show` function created a map showing the pixel values of band 1.\n",
    "\n",
    "Let's see how the different bands look like by placing them next to each other:"
   ]
  },
  {
   "cell_type": "code",
   "execution_count": null,
   "metadata": {},
   "outputs": [],
   "source": [
    "import matplotlib.pyplot as plt\n",
    "%matplotlib inline\n",
    "\n",
    "# Initialize subplots \n",
    "fig, (ax1, ax2, ax3) = plt.subplots(ncols=3, nrows=1, figsize=(10, 4), sharey=True)\n",
    "\n",
    "# Plot Red, Green and Blue (rgb)\n",
    "show((raster, 4), cmap='Reds', ax=ax1)\n",
    "show((raster, 3), cmap='Greens', ax=ax2)\n",
    "show((raster, 1), cmap='Blues', ax=ax3)\n",
    "\n",
    "# Add titles\n",
    "ax1.set_title(\"Red\")\n",
    "ax2.set_title(\"Green\")\n",
    "ax3.set_title(\"Blue\")\n"
   ]
  },
  {
   "cell_type": "markdown",
   "metadata": {},
   "source": [
    "## RGB True color composite\n",
    "\n",
    "Next let's see how we can plot these channels as a normal RGB image.\n",
    "\n",
    "- First we need to read the bands into numpy arrays and normalize the cell values into scale ranging from 0.0 to 1.0:"
   ]
  },
  {
   "cell_type": "code",
   "execution_count": null,
   "metadata": {},
   "outputs": [],
   "source": [
    "# Read the grid values into numpy arrays\n",
    "red = raster.read(3)\n",
    "green = raster.read(2)\n",
    "blue = raster.read(1)\n",
    "\n",
    "# Function to normalize the grid values\n",
    "def normalize(array):\n",
    "    \"\"\"Normalizes numpy arrays into scale 0.0 - 1.0\"\"\"\n",
    "    array_min, array_max = array.min(), array.max()\n",
    "    return ((array - array_min)/(array_max - array_min))\n",
    "\n",
    "# Normalize the bands\n",
    "redn = normalize(red)\n",
    "greenn = normalize(green)\n",
    "bluen = normalize(blue)\n",
    "\n",
    "print(\"Normalized bands\")\n",
    "print(redn.min(), '-', redn.max(), 'mean:', redn.mean())\n",
    "print(greenn.min(), '-', greenn.max(), 'mean:', greenn.mean())\n",
    "print(bluen.min(), '-', bluen.max(), 'mean:', bluen.mean())"
   ]
  },
  {
   "cell_type": "markdown",
   "metadata": {},
   "source": [
    "As the statistics show, now the arrays have been normalized into scale from 0 to 1. \n",
    "\n",
    "- Next we need to stack the values from different values together to produce the RGB true color composite. For this we can use Numpy's [dstack()](https://docs.scipy.org/doc/numpy-1.15.1/reference/generated/numpy.dstack.html) -function:"
   ]
  },
  {
   "cell_type": "code",
   "execution_count": null,
   "metadata": {},
   "outputs": [],
   "source": [
    "# Create RGB natural color composite\n",
    "rgb = np.dstack((redn, greenn, bluen))\n",
    "\n",
    "# Let's see how our color composite looks like\n",
    "plt.imshow(rgb)"
   ]
  },
  {
   "cell_type": "markdown",
   "metadata": {},
   "source": [
    "Here we go, now we have a typical RGB natural color composite image that looks like a photograph taken with the satellite. "
   ]
  },
  {
   "cell_type": "markdown",
   "metadata": {},
   "source": [
    "## False color composite\n",
    "\n",
    "Following the previous example, it is easy to create false color composites with different band configurations. \n",
    "\n",
    "- One of the typical one, is to replace the blue band with near infra-red that can be used to detect vegetation easily where red color is emphasized. Let's use the same raster file as input, and generate our first false color composite:"
   ]
  },
  {
   "cell_type": "code",
   "execution_count": null,
   "metadata": {},
   "outputs": [],
   "source": [
    "# Read the grid values into numpy arrays\n",
    "nir = raster.read(4)\n",
    "red = raster.read(3)\n",
    "green = raster.read(2)\n",
    "\n",
    "# Normalize the values using the function that we defined earlier\n",
    "nirn = normalize(nir)\n",
    "redn = normalize(red)\n",
    "greenn = normalize(green)\n",
    "\n",
    "# Create the composite by stacking\n",
    "nrg = np.dstack((nirn, redn, greenn))\n",
    "\n",
    "# Let's see how our color composite looks like\n",
    "plt.imshow(nrg)"
   ]
  },
  {
   "cell_type": "markdown",
   "metadata": {},
   "source": [
    "As we can see, now the vegetation can be seen more easily from the image (red color)."
   ]
  },
  {
   "cell_type": "markdown",
   "metadata": {},
   "source": [
    "## Histogram of the raster data\n",
    "\n",
    "Typically when working with raster data, you want to look at the histogram of different bands in your data. Luckily that is really easy to do with rasterio by using the `plot.show_hist()` function.\n"
   ]
  },
  {
   "cell_type": "code",
   "execution_count": null,
   "metadata": {},
   "outputs": [],
   "source": [
    "from rasterio.plot import show_hist\n",
    "    \n",
    "show_hist(raster, bins=50, lw=0.0, stacked=False, alpha=0.3,\n",
    "      histtype='stepfilled', title=\"Histogram\")"
   ]
  },
  {
   "cell_type": "markdown",
   "metadata": {},
   "source": [
    "Now we can easily see how the wavelengths of different bands are distributed."
   ]
  }
 ],
 "metadata": {
  "kernelspec": {
   "display_name": "Python [default]",
   "language": "python",
   "name": "python3"
  },
  "language_info": {
   "codemirror_mode": {
    "name": "ipython",
    "version": 3
   },
   "file_extension": ".py",
   "mimetype": "text/x-python",
   "name": "python",
   "nbconvert_exporter": "python",
   "pygments_lexer": "ipython3",
   "version": "3.5.6"
  }
 },
 "nbformat": 4,
 "nbformat_minor": 4
}
