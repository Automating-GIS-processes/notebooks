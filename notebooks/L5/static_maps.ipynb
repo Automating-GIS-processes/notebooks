{
 "cells": [
  {
   "cell_type": "markdown",
   "metadata": {},
   "source": [
    "# Static maps\n",
    "\n",
    "### Download data\n",
    "\n",
    "Before we start you need to download (and then extract) the dataset zip-package used during this lesson [from this link](https://github.com/AutoGIS/data/raw/master/L5_data.zip).\n",
    "\n",
    "You should have following Shapefiles in the `data` folder:\n",
    "\n",
    "  - addresses.shp\n",
    "  - metro.shp\n",
    "  - roads.shp\n",
    "  - some.geojson\n",
    "  - TravelTimes_to_5975375_RailwayStation.shp\n",
    "\n",
    "Download and extract data for this lesson:\n",
    "\n",
    "```\n",
    "    $ cd /home/jovyan/work/autogis/notebooks/notebooks/L5\n",
    "    $ wget https://github.com/AutoGIS/data/raw/master/L5_data.zip\n",
    "    $ unzip L5_data.zip\n",
    "```"
   ]
  },
  {
   "cell_type": "markdown",
   "metadata": {},
   "source": [
    "## Static maps in Geopandas\n",
    "\n",
    "We have already plotted basic static maps using geopandas during the previous weeks of this course. Remember that when using the [plot() method in geopandas](http://geopandas.org/mapping.html#mapping-tools), we are actually using the tools available from [matplotlib pyplot](https://matplotlib.org/api/pyplot_api.html#pyplot). \n",
    "\n",
    "Let's refresh our memory about the basics of plotting maps by creating a static accessibility map with roads and metro line on it (three layers on top of each other in the same figure). Before plotting the layers, we need to check that they are in the same coordinate reference system.\n",
    "\n",
    "- Read input files:\n"
   ]
  },
  {
   "cell_type": "code",
   "execution_count": null,
   "metadata": {},
   "outputs": [],
   "source": [
    "import geopandas as gpd\n",
    "from pyproj import CRS\n",
    "import matplotlib.pyplot as plt\n",
    "%matplotlib inline\n",
    "\n",
    "# Filepaths\n",
    "grid_fp = \"data/TravelTimes_to_5975375_RailwayStation.shp\"\n",
    "roads_fp = \"data/roads.shp\"\n",
    "metro_fp = \"data/metro.shp\"\n",
    "\n",
    "# Read files\n",
    "grid = gpd.read_file(grid_fp)\n",
    "roads = gpd.read_file(roads_fp)\n",
    "metro = gpd.read_file(metro_fp)"
   ]
  },
  {
   "cell_type": "markdown",
   "metadata": {},
   "source": [
    "<div class=\"alert alert-info\">\n",
    "\n",
    "**Task**\n",
    "\n",
    "Check the coordinate reference systems (crs) of the input files. \n",
    "In case they are not in the same crs, re-project the layers into a common crs.\n",
    "\n",
    "\n",
    "</div>"
   ]
  },
  {
   "cell_type": "code",
   "execution_count": null,
   "metadata": {},
   "outputs": [],
   "source": []
  },
  {
   "cell_type": "code",
   "execution_count": null,
   "metadata": {},
   "outputs": [],
   "source": []
  },
  {
   "cell_type": "code",
   "execution_count": null,
   "metadata": {},
   "outputs": [],
   "source": []
  },
  {
   "cell_type": "code",
   "execution_count": null,
   "metadata": {},
   "outputs": [],
   "source": []
  },
  {
   "cell_type": "markdown",
   "metadata": {},
   "source": [
    "Once the data are in the same projection, we can plot them on a map.\n",
    "\n",
    "<div class=\"alert alert-info\">\n",
    "\n",
    "**Task**\n",
    "\n",
    "- Make a visualization using the `plot()` -function in Geopandas\n",
    "- plot first the grid using \"quantiles\" classification scheme\n",
    "- then add roads and metro in the same plot\n",
    "\n",
    "</div>\n"
   ]
  },
  {
   "cell_type": "markdown",
   "metadata": {},
   "source": [
    "Plotting options for the polygon: \n",
    "- Define the classification scheme using the `scheme` parameter\n",
    "- Change the colormap using the `cmap` parameter. See [colormap options from matplotlib documentation].(https://matplotlib.org/3.1.0/tutorials/colors/colormaps.html#choosing-colormaps-in-matplotlib)\n",
    "- You can add a little bit of transparency for the grid using the `alpha` parameter (ranges from 0 to 1 where 0 is fully transparent and 1 has no transparency)\n",
    "\n",
    "Plotting options fo the lines:\n",
    " - adjust color using `color` parameter. See [color options from matplotlib pyplot documentation](https://matplotlib.org/api/pyplot_api.html#matplotlib.pyplot.colors).\n",
    " - change `linewidth` if needed"
   ]
  },
  {
   "cell_type": "code",
   "execution_count": null,
   "metadata": {},
   "outputs": [],
   "source": []
  },
  {
   "cell_type": "code",
   "execution_count": null,
   "metadata": {},
   "outputs": [],
   "source": []
  },
  {
   "cell_type": "markdown",
   "metadata": {},
   "source": [
    "## Adding basemap from external source\n",
    "\n",
    "It is often useful to add a basemap to your visualization that shows e.g. streets and their names and other useful information directly underneath your visualization. This can be done easily by using ready-made background map tiles that are provided by different providers such as [OpenStreetMap](https://wiki.openstreetmap.org/wiki/Tiles) or [Stamen Design](http://maps.stamen.com). A Python library called [contextily](https://github.com/darribas/contextily) is a handy package that can be used to fetch geospatial raster files and add them to your maps. Map tiles are typically distributed in [Web Mercator projection (EPSG:3857)](http://spatialreference.org/ref/sr-org/epsg3857-wgs84-web-mercator-auxiliary-sphere/), hence **it is often necessary to reproject all the spatial data into** [Web Mercator](https://en.wikipedia.org/wiki/Web_Mercator_projection) before visualizing the data.\n",
    "\n",
    "In this tutorial, we will see how to add a basemap underneath our previous visualization.\n",
    "\n",
    "- Read in the travel time data:"
   ]
  },
  {
   "cell_type": "code",
   "execution_count": null,
   "metadata": {},
   "outputs": [],
   "source": [
    "import geopandas as gpd\n",
    "import matplotlib.pyplot as plt\n",
    "import contextily as ctx\n",
    "%matplotlib inline\n",
    "\n",
    "# Filepaths\n",
    "grid_fp = \"data/TravelTimes_to_5975375_RailwayStation.shp\"\n",
    "\n",
    "# Read data\n",
    "grid = gpd.read_file(grid_fp)\n",
    "grid.head(2)"
   ]
  },
  {
   "cell_type": "markdown",
   "metadata": {},
   "source": [
    "- Check the input crs:"
   ]
  },
  {
   "cell_type": "code",
   "execution_count": null,
   "metadata": {},
   "outputs": [],
   "source": [
    "grid.crs"
   ]
  },
  {
   "cell_type": "markdown",
   "metadata": {},
   "source": [
    "- reproject the layer to ESPG 3857 projection (Web Mercator)"
   ]
  },
  {
   "cell_type": "code",
   "execution_count": null,
   "metadata": {},
   "outputs": [],
   "source": [
    "# Reproject to EPSG 3857\n",
    "data = grid.to_crs(epsg=3857)\n",
    "data.crs"
   ]
  },
  {
   "cell_type": "code",
   "execution_count": null,
   "metadata": {},
   "outputs": [],
   "source": [
    "data.head(2)"
   ]
  },
  {
   "cell_type": "markdown",
   "metadata": {},
   "source": [
    "Now as we can see, the data has been projected to `epsg:3857`. Also the coordinate values in the `geometry` column have changed.\n",
    "\n",
    "- Next, we can plot our data using Geopandas and add a basemap for our plot by using a function called `.add_basemap()` from contextily:"
   ]
  },
  {
   "cell_type": "code",
   "execution_count": null,
   "metadata": {},
   "outputs": [],
   "source": [
    "# Plot the data\n",
    "\n",
    "# Add basemap \n"
   ]
  },
  {
   "cell_type": "markdown",
   "metadata": {},
   "source": [
    "As we can see, now the map has a background map that is by default using a style `ST_Terrain` fetched from [Stamen Design](http://maps.stamen.com/#terrain). \n",
    "\n",
    "However, there are various other possible data sources and styles that can be used. \n",
    "\n",
    "- `tile_providers` contain some of the basic url-addresses for different providers and styles that can be used to control the appearence of your background map:"
   ]
  },
  {
   "cell_type": "code",
   "execution_count": null,
   "metadata": {},
   "outputs": [],
   "source": [
    "dir(ctx.tile_providers)"
   ]
  },
  {
   "cell_type": "markdown",
   "metadata": {},
   "source": [
    "Here, all the names written in capital letters are the ones that can be used as different basemap styles. All names starting with `ST_` are from Stamen Design, and the `OSM_A` (B and C) are a basic map tile style provided by OpenStreetMap. Notice that the letters A, B, and C are only directing to different tile servers, they are not changing the style. It is also possible to pass other tile providers by passing in the url for the tile provider that you are interested in.\n",
    "\n",
    "- It is possible to change the tile provider by passing an address to the tile providers' web address using `url` -parameter in `add_basemap()`. Let's see how we can change the style to `OSM_A` which gives us a background map based on OpenStreetMap:"
   ]
  },
  {
   "cell_type": "code",
   "execution_count": null,
   "metadata": {},
   "outputs": [],
   "source": [
    "# Plot the data\n",
    "\n",
    "# Add basemap with `ST_TONER` style\n"
   ]
  },
  {
   "cell_type": "markdown",
   "metadata": {},
   "source": [
    "As we can see, now the background map changed a bit compared to the earlier one as it was fetched from OpenSteetMap. \n",
    "\n",
    "- Let's take a subset of our data to see a bit better the background map characteristics. "
   ]
  },
  {
   "cell_type": "code",
   "execution_count": null,
   "metadata": {},
   "outputs": [],
   "source": [
    "\n",
    "# Subset the data to seel only grid squares near the destination\n",
    "\n",
    "# Plot the subset\n",
    "\n",
    "# Add basemap with `OSM_A` style\n"
   ]
  },
  {
   "cell_type": "markdown",
   "metadata": {},
   "source": [
    "As we can see now our map has much more details in it as the zoom level of the background map is larger. By default `contextily` sets the zoom level automatically but it is possible to also control that manually using parameter `zoom`. The zoom level is by default specified as `auto` but you can control that by passing in [zoom level](https://wiki.openstreetmap.org/wiki/Zoom_levels) as numbers ranging typically from 1 to 19 (the larger the number, the more details your basemap will have).\n",
    "\n",
    "- Let's reduce the level of detail from our map by passing `zoom=11`:"
   ]
  },
  {
   "cell_type": "code",
   "execution_count": null,
   "metadata": {},
   "outputs": [],
   "source": [
    "\n",
    "# Plot the data from subset\n",
    "\n",
    "# Add basemap with `OSM_A` style using zoom level of 11\n"
   ]
  },
  {
   "cell_type": "markdown",
   "metadata": {},
   "source": [
    "As we can see, the map has now less detail.\n",
    "\n",
    "We can also use `ax.set_xlim()` and `ax.set_ylim()` -parameters to crop our map. The parameters takes as input the coordinates for minimum and maximum on both axis (x and y). We can also change / remove the contribution text by using parameter `attribution`\n",
    "\n",
    "- Let's plot the original data, and crop the map:"
   ]
  },
  {
   "cell_type": "code",
   "execution_count": null,
   "metadata": {},
   "outputs": [],
   "source": [
    "# Plot the data \n",
    "\n",
    "# Add basemap with `OSM_A` style using zoom level of 11 \n",
    "# Modify the attribution \n",
    "\n",
    "# Crop the figure\n"
   ]
  },
  {
   "cell_type": "markdown",
   "metadata": {},
   "source": [
    "It is also possible to use many other map tiles from different [Tile Map Services](https://en.m.wikipedia.org/wiki/Tile_Map_Service) as the background map. A good list of different available sources can be found from [here](http://leaflet-extras.github.io/leaflet-providers/preview/). When using map tiles from different sources, it is necessary to parse a url address to the tile provider following a format defined by the provider. \n",
    "\n",
    "Next, we will see how to use map tiles provided by CartoDB. To do that we need to parse the url address following their [definition](https://github.com/CartoDB/basemap-styles#1-web-raster-basemaps) `'https://{s}.basemaps.cartocdn.com/{style}/{z}/{x}/{y}{scale}.png'` where:\n",
    "\n",
    " - {s}: one of the available subdomains, either [a,b,c,d]\n",
    " - {z} : Zoom level. We support from 0 to 20 zoom levels in OSM tiling system.\n",
    " - {x},{y}: Tile coordinates in OSM tiling system\n",
    " - {scale}: OPTIONAL \"@2x\" for double resolution tiles\n",
    " - {style}: Map style, possible value is one of:\n",
    " \n",
    "    - light_all,\n",
    "    - dark_all,\n",
    "    - light_nolabels,\n",
    "    - light_only_labels,\n",
    "    - dark_nolabels,\n",
    "    - dark_only_labels,\n",
    "    - rastertiles/voyager,\n",
    "    - rastertiles/voyager_nolabels,\n",
    "    - rastertiles/voyager_only_labels,\n",
    "    - rastertiles/voyager_labels_under\n",
    "    \n",
    "- We will use this information to parse the parameters in a way that contextily wants them:"
   ]
  },
  {
   "cell_type": "code",
   "execution_count": null,
   "metadata": {},
   "outputs": [],
   "source": [
    "# The formatting should follow: 'https://{s}.basemaps.cartocdn.com/{style}/{z}/{x}/{y}{scale}.png'\n",
    "# Specify the style to use\n",
    "style = \"rastertiles/voyager\"\n",
    "cartodb_url = 'https://a.basemaps.cartocdn.com/%s/{z}/{x}/{y}.png' % style\n",
    "\n",
    "# Plot the data from subset\n",
    "    \n",
    "# Add basemap with `OSM_A` style using zoom level of 14 \n",
    "\n",
    "# Crop the figure\n"
   ]
  },
  {
   "cell_type": "markdown",
   "metadata": {},
   "source": [
    "As we can see now we have yet again different kind of background map, now coming from CartoDB. \n",
    "\n",
    "- Let's make a minor modification and change the style from `\"rastertiles/voyager\"` to `\"dark_all\"`:"
   ]
  },
  {
   "cell_type": "code",
   "execution_count": null,
   "metadata": {},
   "outputs": [],
   "source": [
    "\n",
    "# The formatting should follow: 'https://{s}.basemaps.cartocdn.com/{style}/{z}/{x}/{y}{r}.png'\n",
    "# Specify the style to use\n",
    "\n",
    "# Plot the data from subset\n",
    "\n",
    "# Add basemap with `OSM_A` style using zoom level of 14 \n",
    "\n",
    "# Crop the figure\n"
   ]
  },
  {
   "cell_type": "markdown",
   "metadata": {},
   "source": [
    "Great! Now we have dark background map fetched from CartoDB. In a similar manner, you can use any map tiles from various other tile providers such as the ones listed in [leaflet-providers](http://leaflet-extras.github.io/leaflet-providers/preview/)."
   ]
  }
 ],
 "metadata": {
  "kernelspec": {
   "display_name": "Python 3",
   "language": "python",
   "name": "python3"
  },
  "language_info": {
   "codemirror_mode": {
    "name": "ipython",
    "version": 3
   },
   "file_extension": ".py",
   "mimetype": "text/x-python",
   "name": "python",
   "nbconvert_exporter": "python",
   "pygments_lexer": "ipython3",
   "version": "3.7.3"
  }
 },
 "nbformat": 4,
 "nbformat_minor": 4
}
