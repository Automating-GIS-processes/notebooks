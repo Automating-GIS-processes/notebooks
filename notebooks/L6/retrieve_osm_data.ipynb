{
 "cells": [
  {
   "cell_type": "markdown",
   "metadata": {},
   "source": [
    "# Retrieving OpenStreetMap data\n",
    "\n",
    "![](img/OSM_logo.png)\n",
    "\n",
    "## What is OpenStreetMap?\n",
    "\n",
    "OpenStreetMap (OSM) is a global collaborative (crowd-sourced) dataset and project that aims at creating a free editable map of the world containing a lot of information about our environment.\n",
    "It contains data for example about streets, buildings, different services, and landuse to mention a few. You can view the map at www.openstreetmap.org. You can also sign up as a contributor if you want to edit the map.\n",
    "\n",
    "OSM has a large userbase with more than 4 million users and over a million contributers that update actively the OSM database with 3 million changesets per day. In total OSM contains 5 billion nodes that form the basis of the digitally mapped world that OSM provides ([stats from November 2019](http://wiki.openstreetmap.org/wiki/Stats)).\n",
    "\n",
    "OpenStreetMap is used not only for integrating the **OSM maps** as background maps to visualizations or online maps, but also for many other purposes such as **routing**, **geocoding**, **education**, and **research**. OSM is also widely used for humanitarian response e.g. in crisis areas (e.g. after natural disasters) and for fostering economic development (see more from [Humanitarian OpenStreetMap Team (HOTOSM) website](https://www.hotosm.org)).\n"
   ]
  },
  {
   "cell_type": "markdown",
   "metadata": {},
   "source": [
    "## OSMnx\n",
    "\n",
    "This week we will explore a Python module called [OSMnx](https://github.com/gboeing/osmnx)\n",
    "that can be used to retrieve, construct, analyze, and visualize street networks from OpenStreetMap, and also retrieve data about Points of Interest such as restaurants, schools, and lots of different kind of services. It is also easy to conduct network routing based on walking, cycling or driving by combining OSMnx functionalities with a package called [NetworkX](https://networkx.github.io/documentation/stable/).\n",
    "\n",
    "To get an overview of the capabilities of the package, see an introductory video given by the lead developer of the package, Prof. Geoff Boeing: [\"Meet the developer: Introduction to OSMnx package by Geoff Boeing\"](https://www.youtube.com/watch?v=Q0uxu25ddc4&list=PLs9D4XVqc6dCAhhvhZB7aHGD8fCeCC_6N).\n",
    "\n",
    "There is also a scientific article available describing the package:\n",
    "\n",
    "- Boeing, G. 2017. [\"OSMnx: New Methods for Acquiring, Constructing, Analyzing, and Visualizing Complex Street Networks.\"](https://www.researchgate.net/publication/309738462_OSMnx_New_Methods_for_Acquiring_Constructing_Analyzing_and_Visualizing_Complex_Street_Networks) Computers, Environment and Urban Systems 65, 126-139. doi:10.1016/j.compenvurbsys.2017.05.004"
   ]
  },
  {
   "cell_type": "markdown",
   "metadata": {},
   "source": [
    "## Download and visualize OpenStreetMap data with OSMnx\n",
    "\n",
    "One the most useful features that OSMnx provides is an easy-to-use way of retrieving [OpenStreetMap](http://www.openstreetmap.org) data (using [OverPass API](http://wiki.openstreetmap.org/wiki/Overpass_API)).\n",
    "\n",
    "In this tutorial, we will learn how to download and visualize OSM data covering a specified area of interest: a district of Kamppi in Helsinki, Finland.\n",
    "\n",
    "### Street network\n",
    "\n",
    "OSMnx makes it really easy to do that as it allows you to specify an address to retrieve the OpenStreetMap data around that area. In fact, OSMnx uses the same Nominatim Geocoding API to do this, which we tested during the Lesson 2.\n",
    "\n",
    "- Let's retrieve OpenStreetMap (OSM) data by specifying ``\"Kamppi, Helsinki, Finland\"`` as the place from where the data should be downloaded.\n"
   ]
  },
  {
   "cell_type": "code",
   "execution_count": null,
   "metadata": {},
   "outputs": [],
   "source": [
    "# Import modules\n",
    "\n",
    "# Specify the name that is used to seach for the data\n",
    "\n",
    "# Fetch OSM street network from the location\n"
   ]
  },
  {
   "cell_type": "markdown",
   "metadata": {},
   "source": [
    "- Check the data type of the graph:"
   ]
  },
  {
   "cell_type": "code",
   "execution_count": null,
   "metadata": {},
   "outputs": [],
   "source": []
  },
  {
   "cell_type": "markdown",
   "metadata": {},
   "source": [
    "Okey, as we can see the data that we retrieved is a special data object called `networkx.classes.multidigraph.MultiDiGraph`. A DiGraph is a data type that stores nodes and edges with optional data, or attributes. What we can see here is that this data type belongs to a Python module called [networkx](https://networkx.github.io/documentation/stable/) that can be used to create, manipulate, and study the structure, dynamics, and functions of complex networks. Networkx module contains algorithms that can be used to calculate [shortest paths](https://networkx.github.io/documentation/networkx-1.10/reference/algorithms.shortest_paths.html)\n",
    "along road networks using e.g. [Dijkstra's](https://en.wikipedia.org/wiki/Dijkstra%27s_algorithm) or [A\\* algorithm](https://en.wikipedia.org/wiki/A*_search_algorithm).\n",
    "\n",
    "- Let's see how our street network looks like. It is easy to visualize the graph with OSMnx with `plot_graph()` function. The function utilizes Matplotlib for visualizing the data,\n",
    "hence as a result it returns a matplotlib figure and axis objects:\n"
   ]
  },
  {
   "cell_type": "code",
   "execution_count": null,
   "metadata": {},
   "outputs": [],
   "source": [
    "# Plot the streets\n"
   ]
  },
  {
   "cell_type": "markdown",
   "metadata": {},
   "source": [
    "Great! Now we can see that our graph contains the nodes (blue circles) and the edges (gray lines) that connects those nodes to each other."
   ]
  },
  {
   "cell_type": "markdown",
   "metadata": {},
   "source": [
    "### Place polygon\n",
    "\n",
    "Let's also plot the Polygon that represents our area of interest (Kamppi, Helsinki). We can retrieve the Polygon geometry using the [gdf_from_place()](https://osmnx.readthedocs.io/en/stable/osmnx.html#osmnx.core.gdf_from_place) -function.\n",
    "\n",
    "- Retrieve the extent of our location:"
   ]
  },
  {
   "cell_type": "code",
   "execution_count": null,
   "metadata": {},
   "outputs": [],
   "source": []
  },
  {
   "cell_type": "markdown",
   "metadata": {},
   "source": [
    "As the name of the function already tells us, `gdf_from_place()`returns a GeoDataFrame based on the specified place name query.\n",
    "\n",
    "- Check the data type:"
   ]
  },
  {
   "cell_type": "code",
   "execution_count": null,
   "metadata": {},
   "outputs": [],
   "source": []
  },
  {
   "cell_type": "markdown",
   "metadata": {},
   "source": [
    "- Check the data:"
   ]
  },
  {
   "cell_type": "code",
   "execution_count": null,
   "metadata": {},
   "outputs": [],
   "source": []
  },
  {
   "cell_type": "markdown",
   "metadata": {},
   "source": [
    "- Plot the area:"
   ]
  },
  {
   "cell_type": "code",
   "execution_count": null,
   "metadata": {},
   "outputs": [],
   "source": []
  },
  {
   "cell_type": "markdown",
   "metadata": {},
   "source": [
    "### Building footprints\n",
    "\n",
    "It is also possible to retrieve other types of OSM data features with OSMnx such as buildings or points of interest (POIs). Let's download the buildings with `OSMnx` [footprints_from_place()](https://osmnx.readthedocs.io/en/stable/osmnx.html#module-osmnx.footprints) -function (same as `buildings_from_place` method in OSMnx<0.9) and plot them on top of our street network in Kamppi. "
   ]
  },
  {
   "cell_type": "markdown",
   "metadata": {},
   "source": [
    "- Retrieve buildings from the area:"
   ]
  },
  {
   "cell_type": "code",
   "execution_count": null,
   "metadata": {},
   "outputs": [],
   "source": []
  },
  {
   "cell_type": "markdown",
   "metadata": {},
   "source": [
    "*Note, you can also get other types of footprints using the parameter `footprint_type` (default is \"buildings\").*"
   ]
  },
  {
   "cell_type": "markdown",
   "metadata": {},
   "source": [
    "- Check how many building footprints we received:"
   ]
  },
  {
   "cell_type": "code",
   "execution_count": null,
   "metadata": {},
   "outputs": [],
   "source": []
  },
  {
   "cell_type": "markdown",
   "metadata": {},
   "source": [
    "Buildings GeoDataFrame contains several polygons.\n",
    "\n",
    "- Check the first rows:"
   ]
  },
  {
   "cell_type": "code",
   "execution_count": null,
   "metadata": {},
   "outputs": [],
   "source": []
  },
  {
   "cell_type": "markdown",
   "metadata": {},
   "source": [
    "As you can see, there are several columns in the buildings-layer. Each column contains information about a spesific tag that OpenStreetMap contributors have added. Each tag consists of a key (the column name), and several potential values (for example `building=yes` or `building=school`). Read more about tags and tagging practices in the [OpenStreetMap wiki](https://wiki.openstreetmap.org/wiki/Tags). "
   ]
  },
  {
   "cell_type": "code",
   "execution_count": null,
   "metadata": {},
   "outputs": [],
   "source": []
  },
  {
   "cell_type": "markdown",
   "metadata": {},
   "source": [
    "### Points-of-interest\n",
    "\n",
    "OSMnx has a nice function called [ox.pois_from_place()](https://osmnx.readthedocs.io/en/stable/osmnx.html#osmnx.pois.pois_from_place) that can be used retrieve specific points-of-interest (POIs) from OpenStreetMap based on their amenity-tag. We can, for excample, retrieve all points with a tag `amenity=restaurant`, by passing an argument to the `amenities` paremeter. We could also retrieve several POI categories by passing a list of [OSM amenity tag values](https://wiki.openstreetmap.org/wiki/Key:amenity) to the function. \n",
    "\n",
    "- Let's retrieve restaurants that are located in our area of interest:"
   ]
  },
  {
   "cell_type": "code",
   "execution_count": null,
   "metadata": {},
   "outputs": [],
   "source": [
    "# Retrieve restaurants\n",
    "\n",
    "\n",
    "# How many restaurants do we have?\n"
   ]
  },
  {
   "cell_type": "markdown",
   "metadata": {},
   "source": [
    "As we can see, there are quite many restaurants in the area.\n",
    "\n",
    "- Let's explore what kind of attributes we have in our restaurants GeoDataFrame:"
   ]
  },
  {
   "cell_type": "code",
   "execution_count": null,
   "metadata": {},
   "outputs": [],
   "source": [
    "# Available columns\n"
   ]
  },
  {
   "cell_type": "markdown",
   "metadata": {},
   "source": [
    "Wow, there is quite a lot of information related to the POIs. One of the useful ones might be for example the `name`, `address information` and `opening_hours` information:"
   ]
  },
  {
   "cell_type": "code",
   "execution_count": null,
   "metadata": {},
   "outputs": [],
   "source": [
    "# Select some useful cols \n",
    "cols = ['name', 'opening_hours', 'addr:city', 'addr:country', \n",
    "        'addr:housenumber', 'addr:postcode', 'addr:street']\n",
    "\n",
    "# Print only selected cols\n"
   ]
  },
  {
   "cell_type": "markdown",
   "metadata": {},
   "source": [
    "As we can see, there exists a lot of useful information about restaurants that can be retrieved easily with OSMnx. Also, if some of the information need updating, you can go over to www.openstreetmap.org and edit the source data! :)\n",
    "\n",
    "### Graph to GeoDataFrame\n",
    "\n",
    "We can now plot all these different OSM layers by using the familiar `plot()` function of Geopandas. As you might remember, the street network data is not a GeoDataFrame (it is `networkx.MultiDiGraph`). Luckily, OSMnx provides a convenient function `graph_to_gdfs()` that can convert the graph into two separate GeoDataFrames where the first one contains the information about the nodes and the second one about the edge.\n",
    "\n",
    "- Let's extract the nodes and edges from the graph as GeoDataFrames:"
   ]
  },
  {
   "cell_type": "code",
   "execution_count": null,
   "metadata": {},
   "outputs": [],
   "source": [
    "# Retrieve nodes and edges\n"
   ]
  },
  {
   "cell_type": "code",
   "execution_count": null,
   "metadata": {},
   "outputs": [],
   "source": []
  },
  {
   "cell_type": "code",
   "execution_count": null,
   "metadata": {},
   "outputs": [],
   "source": []
  },
  {
   "cell_type": "markdown",
   "metadata": {},
   "source": [
    "Nice! Now, as we can see, we have our graph as GeoDataFrames and we can plot them using the same functions and tools as we have used before.\n",
    "\n",
    "<div class=\"alert alert-info\">\n",
    "\n",
    "**Note**\n",
    "\n",
    "There are also other ways of retrieving the data from OpenStreetMap with OSMnx such as passing a Polygon to extract the data from that area, or passing Point coordinates and retrieving data around that location with specific radius. Take a look of this [tutorial to find out how to use those features of OSMnx](https://github.com/gboeing/osmnx-examples/blob/master/notebooks/01-overview-osmnx.ipynb).\n",
    "\n",
    "\n",
    "</div>"
   ]
  },
  {
   "cell_type": "markdown",
   "metadata": {},
   "source": [
    "### Plotting the data\n",
    "\n",
    "- Let's create a map out of the streets, buildings, restaurants, and the area Polygon but let's exclude the nodes (to keep the figure clearer)."
   ]
  },
  {
   "cell_type": "code",
   "execution_count": null,
   "metadata": {},
   "outputs": [],
   "source": [
    "import matplotlib.pyplot as plt\n",
    "\n",
    "fig, ax = plt.subplots(figsize=(12,8))\n",
    "\n",
    "# Plot the footprint\n",
    "\n",
    "\n",
    "# Plot street edges\n",
    "\n",
    "\n",
    "# Plot buildings\n",
    "\n",
    "\n",
    "# Plot restaurants\n"
   ]
  },
  {
   "cell_type": "markdown",
   "metadata": {},
   "source": [
    "Cool! Now we have a map where we have plotted the restaurants, buildings, streets and the boundaries of the selected region of 'Kamppi' in Helsinki. And all of this required only a few lines of code. Pretty neat! \n"
   ]
  },
  {
   "cell_type": "markdown",
   "metadata": {},
   "source": [
    "As a final step, we might want to re-project the layers to a local projection for plotting. Here, we will use the tools we already know, namely `pyproj CRS`. In the latter part of this lesson we will learn how to use OSMnx to re-project our data to UTM coordinates.\n",
    "\n",
    "- Re-project the layers to epsg:3067"
   ]
  },
  {
   "cell_type": "code",
   "execution_count": null,
   "metadata": {},
   "outputs": [],
   "source": [
    "from pyproj import CRS\n",
    "\n",
    "# Set projection\n",
    "\n",
    "# Re-project layers\n"
   ]
  },
  {
   "cell_type": "markdown",
   "metadata": {},
   "source": [
    "- Create a new plot with the re-projected layers:"
   ]
  },
  {
   "cell_type": "code",
   "execution_count": null,
   "metadata": {},
   "outputs": [],
   "source": [
    "fig, ax = plt.subplots(figsize=(12,8))\n",
    "\n",
    "# Plot the footprint\n",
    "\n",
    "\n",
    "# Plot street edges\n",
    "\n",
    "\n",
    "# Plot buildings\n",
    "\n",
    "\n",
    "# Plot restaurants\n",
    "\n"
   ]
  },
  {
   "cell_type": "markdown",
   "metadata": {},
   "source": [
    "<div class=\"alert alert-info\">\n",
    "\n",
    "**Task**\n",
    "\n",
    "Retrieve OpenStreetMap data from some other area! Download these elements using OSMnx functions from your area of interest:\n",
    "    \n",
    "- Extent of the area using `gdf_from_place()`\n",
    "- Street network using `graph_from_place()`, and convert to gdf using `ox.graph_to_gdfs()`\n",
    "- Building footprints using `ox.footprints_from_place()`\n",
    "    \n",
    "*Note, the larger the area you choose, the longer it takes to retrieve data from the API! Use parameter `network_type=drive` to limit the graph query to filter out un-driveable roads.*\n",
    "\n",
    "</div>"
   ]
  },
  {
   "cell_type": "code",
   "execution_count": null,
   "metadata": {},
   "outputs": [],
   "source": []
  },
  {
   "cell_type": "markdown",
   "metadata": {},
   "source": [
    "### Extra: Park polygons\n",
    "Notice that we can also retrieve other types of footprints from OpenStreetMap by specifying the `footprint_type` when using functions from the OSMnx [footprints module](https://osmnx.readthedocs.io/en/stable/osmnx.html#module-osmnx.footprints). `buildings` is the default value for this parameter, but we can also pass other OpenStreetMap tag keys.\n",
    "\n",
    "Let's try to fetch all public parks in the Kamppi area. In OpenStreetMap, parks are often tagged as `leisure=park` (also other tags might be used, such as `landuse=recreation_ground`,`landuse=grass`, see OpenStreetMap, and OSM wiki for more details).\n",
    "\n",
    "- We need to start by fetching all footprints from the tag `leisure`:"
   ]
  },
  {
   "cell_type": "code",
   "execution_count": null,
   "metadata": {},
   "outputs": [],
   "source": [
    "leisure = ox.footprints_from_place(place_name, footprint_type=\"leisure\")"
   ]
  },
  {
   "cell_type": "markdown",
   "metadata": {},
   "source": [
    "- let's check the data:"
   ]
  },
  {
   "cell_type": "code",
   "execution_count": null,
   "metadata": {},
   "outputs": [],
   "source": [
    "leisure.head(3)"
   ]
  },
  {
   "cell_type": "markdown",
   "metadata": {},
   "source": [
    "- Check all values for the column `leisure`:"
   ]
  },
  {
   "cell_type": "code",
   "execution_count": null,
   "metadata": {},
   "outputs": [],
   "source": [
    "leisure[\"leisure\"].value_counts()"
   ]
  },
  {
   "cell_type": "markdown",
   "metadata": {},
   "source": [
    "- select all park polygons (here, selecting both \"park\" and \"playground\"):"
   ]
  },
  {
   "cell_type": "code",
   "execution_count": null,
   "metadata": {},
   "outputs": [],
   "source": [
    "parks = leisure[leisure[\"leisure\"].isin([\"park\",\"playground\"])]"
   ]
  },
  {
   "cell_type": "markdown",
   "metadata": {},
   "source": [
    "- plot the parks:"
   ]
  },
  {
   "cell_type": "code",
   "execution_count": null,
   "metadata": {},
   "outputs": [],
   "source": [
    "parks.plot(color=\"green\")"
   ]
  },
  {
   "cell_type": "markdown",
   "metadata": {},
   "source": [
    "- Finally, we can re-project the park polygons and add them to our map:"
   ]
  },
  {
   "cell_type": "code",
   "execution_count": null,
   "metadata": {},
   "outputs": [],
   "source": [
    "parks = parks.to_crs(projection)"
   ]
  },
  {
   "cell_type": "code",
   "execution_count": null,
   "metadata": {},
   "outputs": [],
   "source": [
    "fig, ax = plt.subplots(figsize=(12,8))\n",
    "\n",
    "# Plot the footprint\n",
    "area.plot(ax=ax, facecolor='black')\n",
    "\n",
    "# Plot the parks\n",
    "parks.plot(ax=ax, facecolor=\"green\")\n",
    "\n",
    "# Plot street edges\n",
    "edges.plot(ax=ax, linewidth=1, edgecolor='dimgray')\n",
    "\n",
    "# Plot buildings\n",
    "buildings.plot(ax=ax, facecolor='silver', alpha=0.7)\n",
    "\n",
    "# Plot restaurants\n",
    "restaurants.plot(ax=ax, color='yellow', alpha=0.7, markersize=10)\n",
    "plt.tight_layout()"
   ]
  }
 ],
 "metadata": {
  "kernelspec": {
   "display_name": "Python 3",
   "language": "python",
   "name": "python3"
  },
  "language_info": {
   "codemirror_mode": {
    "name": "ipython",
    "version": 3
   },
   "file_extension": ".py",
   "mimetype": "text/x-python",
   "name": "python",
   "nbconvert_exporter": "python",
   "pygments_lexer": "ipython3",
   "version": "3.7.3"
  }
 },
 "nbformat": 4,
 "nbformat_minor": 4
}
