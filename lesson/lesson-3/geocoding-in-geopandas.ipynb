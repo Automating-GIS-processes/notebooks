{
 "cells": [
  {
   "cell_type": "markdown",
   "id": "8af945b1",
   "metadata": {},
   "source": [
    "# Geocoding in geopandas\n",
    "\n",
    "Geopandas supports geocoding via a library called\n",
    "[geopy](http://geopy.readthedocs.io/), which needs to be installed to use\n",
    "[geopandas’ `geopandas.tools.geocode()`\n",
    "function](https://geopandas.org/en/stable/docs/user_guide/geocoding.html).\n",
    "`geocode()` expects a `list` or `pandas.Series` of addresses (strings) and\n",
    "returns a `GeoDataFrame` with resolved addresses and point geometries.\n",
    "\n",
    "Let’s try this out.\n",
    "\n",
    "We will geocode addresses stored in a semicolon-separated text file called\n",
    "`addresses.txt`. These addresses are located in the Helsinki Region in Southern\n",
    "Finland."
   ]
  },
  {
   "cell_type": "code",
   "execution_count": null,
   "id": "3002fea2",
   "metadata": {},
   "outputs": [],
   "source": [
    "import pathlib\n",
    "NOTEBOOK_PATH = pathlib.Path().resolve()\n",
    "DATA_DIRECTORY = NOTEBOOK_PATH / \"data\""
   ]
  },
  {
   "cell_type": "code",
   "execution_count": null,
   "id": "13d55cd3",
   "metadata": {},
   "outputs": [],
   "source": []
  },
  {
   "cell_type": "markdown",
   "id": "51eee979",
   "metadata": {},
   "source": [
    "We have an `id` for each row and an address in the `addr` column.\n",
    "\n",
    "\n",
    "## Geocode addresses using *Nominatim*\n",
    "\n",
    "In our example, we will use *Nominatim* as a *geocoding provider*. [*Nominatim*](https://nominatim.org/) is a library and service using OpenStreetMap data, and run by the OpenStreetMap Foundation. Geopandas’\n",
    "[`geocode()`\n",
    "function](http://geopandas.org/reference/geopandas.tools.geocode.html) supports it natively.\n",
    "\n",
    "\n",
    ":::{admonition} Fair-use\n",
    ":class: note\n",
    "\n",
    "[Nominatim’s terms of use](https://operations.osmfoundation.org/policies/nominatim/)\n",
    "require that users of the service make sure they don’t send more frequent\n",
    "requests than one per second, and that a custom **user-agent** string is\n",
    "attached to each query.\n",
    "\n",
    "Geopandas’ implementation allows us to specify a `user_agent`; the library also\n",
    "takes care of respecting the rate-limit of Nominatim.\n",
    ":::"
   ]
  },
  {
   "cell_type": "code",
   "execution_count": null,
   "id": "489bf65f",
   "metadata": {},
   "outputs": [],
   "source": []
  },
  {
   "cell_type": "markdown",
   "id": "964512c0",
   "metadata": {},
   "source": [
    "Et voilà! As a result we received a `GeoDataFrame` that contains a parsed\n",
    "version of our original addresses and a `geometry` column of\n",
    "`shapely.geometry.Point`s that we can use, for instance, to export the data to\n",
    "a geospatial data format.\n",
    "\n",
    "However, the `id` column was discarded in the process. To combine the input\n",
    "data set with our result set, we can use pandas’ [*join*\n",
    "operations](https://pandas.pydata.org/docs/user_guide/merging.html).\n",
    "\n",
    "\n",
    "## Join data frames\n",
    "\n",
    ":::{admonition} Joining data sets using pandas\n",
    ":class: note\n",
    "\n",
    "For a comprehensive overview of different ways of combining DataFrames and\n",
    "Series based on set theory, have a look at pandas documentation about [merge,\n",
    "join and\n",
    "concatenate](https://pandas.pydata.org/pandas-docs/stable/user_guide/merging.html).\n",
    ":::\n",
    "\n",
    "\n",
    "Joining data from two or more data frames or tables is a common task in many\n",
    "(spatial) data analysis workflows. As you might remember from our earlier\n",
    "lessons, combining data from different tables based on common **key** attribute\n",
    "can be done easily in pandas/geopandas using the [`merge()`\n",
    "function](https://pandas.pydata.org/pandas-docs/stable/generated/pandas.DataFrame.merge.html).\n",
    "We used this approach in [exercise 6 of the Geo-Python\n",
    "course](https://geo-python-site.readthedocs.io/en/latest/lessons/L6/exercise-6.html#joining-data-from-one-dataframe-to-another).\n",
    "\n",
    "However, sometimes it is useful to join two data frames together based on their\n",
    "**index**. The data frames have to have the **same number of records** and\n",
    "**share the same index** (simply put, they should have the same order of rows).\n",
    "\n",
    "We can use this approach, here, to join information from the original data\n",
    "frame `addresses` to the geocoded addresses `geocoded_addresses`, row by row.\n",
    "The `join()` function, by default, joins two data frames based on their index.\n",
    "This works correctly for our example, as the order of the two data frames is\n",
    "identical."
   ]
  },
  {
   "cell_type": "code",
   "execution_count": null,
   "id": "5cd1855b",
   "metadata": {},
   "outputs": [],
   "source": []
  },
  {
   "cell_type": "markdown",
   "id": "3ad2a9bd",
   "metadata": {},
   "source": [
    "The output of `join()` is a new `geopandas.GeoDataFrame`:"
   ]
  },
  {
   "cell_type": "code",
   "execution_count": null,
   "id": "1c765e22",
   "metadata": {},
   "outputs": [],
   "source": []
  },
  {
   "cell_type": "markdown",
   "id": "1a35215c",
   "metadata": {},
   "source": [
    "The new data frame has all original columns plus new columns for the `geometry`\n",
    "and for a parsed `address` that can be used to spot-check the results.\n",
    "\n",
    ":::{note}\n",
    "If you would do the join the other way around, i.e. `addresses.join(geocoded_addresses)`, the output would be a `pandas.DataFrame`, not a `geopandas.GeoDataFrame`.\n",
    ":::\n",
    "\n",
    "\n",
    "---\n",
    "\n",
    "\n",
    "It’s now easy to save the new data set as a geospatial file, for instance, in\n",
    "*GeoPackage* format:"
   ]
  },
  {
   "cell_type": "code",
   "execution_count": null,
   "id": "8cb6b0f6",
   "metadata": {},
   "outputs": [],
   "source": []
  }
 ],
 "metadata": {
  "kernelspec": {
   "display_name": "Python 3 (ipykernel)",
   "language": "python",
   "name": "python3"
  },
  "language_info": {
   "codemirror_mode": {
    "name": "ipython",
    "version": 3
   },
   "file_extension": ".py",
   "mimetype": "text/x-python",
   "name": "python",
   "nbconvert_exporter": "python",
   "pygments_lexer": "ipython3",
   "version": "3.10.8"
  }
 },
 "nbformat": 4,
 "nbformat_minor": 5
}
