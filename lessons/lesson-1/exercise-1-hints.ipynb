{
 "cells": [
  {
   "cell_type": "markdown",
   "id": "f04b7880",
   "metadata": {},
   "source": [
    "# Exercise 1\n",
    "\n",
    ":::{important}\n",
    "Please complete this exercise\n",
    "**by the **end of day** on Thursday, 10 November, 2022**\n",
    "(the day before the next work session).\n",
    ":::\n",
    "\n",
    "To start this assignment, [accept the GitHub classroom\n",
    "assignment](https://classroom.github.com/a/aSlecihw), and clone *your own*\n",
    "repository, e.g., in a [CSC\n",
    "Notebook](../../course-info/course-environment)\n",
    "instance. Make sure you commit and push all changes you make (you can\n",
    "revisit instructions on how to use `git` and the JupyterLab git-plugin\n",
    "on the [website of the Geo-Python\n",
    "course](https://geo-python-site.readthedocs.io/en/latest/lessons/L2/git-basics.html).\n",
    "\n",
    "To preview the exercise without logging in, you can find the open course copy\n",
    "of the course’s GitHub repository at\n",
    "[github.com/Automating-GIS-processes-2022/Exercise-1](https://github.com/Automating-GIS-processes-2022/Exercise-1).\n",
    "Don’t attempt to commit changes to that repository, but rather work with your\n",
    "personal GitHub classroom copy (see above).\n",
    "\n",
    ":::{admonition} Pair programming (optional)\n",
    "Students who attend the course at the University of Helsinki **can continue to\n",
    "work in pairs** as in the Geo-Python course. Find more information in\n",
    "Geo-Python’s [lesson\n",
    "2 ‘Why are we working in\n",
    "pairs?’](https://geo-python-site.readthedocs.io/en/latest/lessons/L2/why-pairs.html).\n",
    "\n",
    "However, since working in pairs is optional and voluntary, please each submit\n",
    "your own copy of the completed exercise.\n",
    ":::\n",
    "\n",
    "\n",
    "## Hints\n",
    "\n",
    "- [Geo-Python, lesson 4: Functions](https://geo-python-site.readthedocs.io/en/latest/notebooks/L4/functions.html)\n",
    "- [Geo-Python, lesson 6: Iterating dataframe rows](https://geo-python-site.readthedocs.io/en/latest/notebooks/L6/advanced-data-processing-with-pandas.html#iterating-over-rows)\n",
    "- [Geo-Python, lesson 6: Using assertions](https://geo-python-site.readthedocs.io/en/latest/notebooks/L6/gcp-5-assertions.html)\n",
    "\n",
    "- [`assert` statements](#assert-statements)\n",
    "- [Alternatives to `pandas.DataFrame.iterrows()` (problem&nbsp;3)](#alternatives-to-iterrows)\n",
    "- [Iterating over multiple lists simultaneously](#iterating-over-multiple-lists-simultaneously)\n",
    "\n",
    "\n",
    "(#assert-statements)=\n",
    "### `assert` statements\n",
    "\n",
    "*Assertions* are a language feature in Python that allows the programmer to\n",
    "[assert](https://en.wiktionary.org/wiki/assert), ensure, that a certain\n",
    "condition is met. They are a good way to check that variables are in a suitable\n",
    "range for further computation. For instance, if a function converts a\n",
    "temperature, it can test that its input value is not below absolute zero. In a\n",
    "way, `assert` statements work similar to an electrical fuse: if input current\n",
    "is higher than expected, the fuse blows to protect the applicance that comes\n",
    "after. If input values are outside an expected range, the `assert` statement\n",
    "fails with an error, and stops the program to protect the following code from\n",
    "being executed with wrong input.\n",
    "\n",
    "`assert` statements are often used in functions to ensure the input values are\n",
    "acceptable. Consider the following example:"
   ]
  },
  {
   "cell_type": "code",
   "execution_count": null,
   "id": "24514c94",
   "metadata": {},
   "outputs": [],
   "source": [
    "def divide(dividend, divisor):\n",
    "    \"\"\"Return the division of dividend by divisor.\"\"\"\n",
    "    assert divisor != 0, \"Cannot divide by zero.\"\n",
    "    return (dividend / divisor)\n"
   ]
  },
  {
   "cell_type": "markdown",
   "id": "b771850a",
   "metadata": {},
   "source": [
    "(#alternatives-to-iterrows)=\n",
    "### Alternatives to `pandas.DataFrame.iterrows()` (problem&nbsp;3)\n",
    "\n",
    "It is entirely possible to solve *problem 3* using the `iterrows()` pattern you\n",
    "learnt in [lesson 6 of\n",
    "Geo-Python](https://geo-python-site.readthedocs.io/en/latest/notebooks/L6/advanced-data-processing-with-pandas.html#iterating-over-rows),\n",
    "and your code would look something like this:"
   ]
  },
  {
   "cell_type": "code",
   "execution_count": null,
   "id": "36217d68",
   "metadata": {},
   "outputs": [],
   "source": [
    "import pandas\n",
    "import shapely.geometry\n",
    "\n",
    "data = pandas.DataFrame({\"x\": [10, 20, 30], \"y\": [1, 3, 4]})\n",
    "\n",
    "# Option 1: iterate over DataFrame’s rows:\n",
    "\n",
    "for i, row in data.iterrows():\n",
    "    point = shapely.geometry.Point(row[\"x\"], row[\"y\"])\n",
    "    # ...\n"
   ]
  },
  {
   "cell_type": "markdown",
   "id": "549a6712",
   "metadata": {},
   "source": [
    "**However**, there are better, faster, more elegant solutions that also are shorter to write.\n",
    "Pandas’ `DataFrame`s have a method `apply()` that runs a user-defined function on each row or on each column (depending on the `axis` parameter, if `axis=1`, `apply()` works on rows).\n",
    "\n",
    "The outputs of running the function repeatly (in parallel, to be precise) are collected in a `pandas.GeoSeries` that is the return value of `apply()` and can be assigned to a new column or row (we’ll learn about that in the next lesson, for now let’s convert the data into a list).\n",
    "\n",
    "Let’s look at an easy example to illustrate how that works: We create a simple function that takes a row and multiplies its `x` and `y` values:"
   ]
  },
  {
   "cell_type": "code",
   "execution_count": null,
   "id": "53900367",
   "metadata": {},
   "outputs": [],
   "source": [
    "def multiply(row):\n",
    "    \"\"\"Multiply a row’s x and y values.\"\"\"\n",
    "    return (row[\"x\"] * row[\"y\"])\n",
    "\n",
    "product = data.apply(multiply, axis=1)\n",
    "# note how the function is not called here (no parentheses!),\n",
    "# but only passed as a reference\n",
    "\n",
    "product = list(product)\n",
    "product"
   ]
  },
  {
   "cell_type": "markdown",
   "id": "37178f59",
   "metadata": {},
   "source": [
    "#### Pandas’ `apply()` method\n",
    "\n",
    "Exactly the same can be done with the more complex example of creating a point geometry:"
   ]
  },
  {
   "cell_type": "code",
   "execution_count": null,
   "id": "f37d4475",
   "metadata": {},
   "outputs": [],
   "source": [
    "# Option 2: Define a custom function, and apply this function to the data frame\n",
    "\n",
    "def create_point(row):\n",
    "    \"\"\"Create a Point geometry from a row with x and y values.\"\"\"\n",
    "    point = shapely.geometry.Point(row[\"x\"], row[\"y\"])\n",
    "    return point\n",
    "\n",
    "point_series = data.apply(create_point, axis=1)\n"
   ]
  },
  {
   "cell_type": "markdown",
   "id": "b88643eb",
   "metadata": {},
   "source": [
    "#### `Apply()`ing an anonymous *lambda function*\n",
    "\n",
    "Finally, for simply functions that fit into one single line, we can pass the\n",
    "function in so-called ‘lambda notation’.  Lambda functions follow the syntax\n",
    "`lambda arguments: return-value`, i.e., the keyword `lambda` followed by one or\n",
    "more, comma-separated, argument names (input variables), a colon (`:`), and the\n",
    "return value statement (e.g., a calculation). A lambda function that accepts\n",
    "two arguments and returns their sum, would look like this: `lambda a, b: (a + b)`.\n",
    "\n",
    "Lambda functions can only be used where they are defined, but offer a handy\n",
    "short-cut to not need separate functions for simple expressions. They are very\n",
    "common in data science projects, but should not be over-used: as a\n",
    "rule-of-thumb, don’t use lambda functions if their code does not fit on one\n",
    "(short) line.\n",
    "\n",
    "\n",
    ":::{admonition} Lambda functions\n",
    ":class: info\n",
    "\n",
    "Read more about lambda functions in the official [Python documentation](https://docs.python.org/3/tutorial/controlflow.html#lambda-expressions).\n",
    "\n",
    ":::\n",
    "\n",
    "\n",
    "For the geo-spatial problem we discussed above, we can use a lambda function to\n",
    "create a point ‘on-the-fly’:"
   ]
  },
  {
   "cell_type": "code",
   "execution_count": null,
   "id": "723eb1f9",
   "metadata": {},
   "outputs": [],
   "source": [
    "# Option 3: Apply a lambda function to the data frame\n",
    "\n",
    "point_series = data.apply(\n",
    "    lambda row: shapely.geometry.Point(row[\"x\"], row[\"y\"]),\n",
    "    axis=1\n",
    ")\n"
   ]
  },
  {
   "cell_type": "markdown",
   "id": "fbbb3ae4",
   "metadata": {},
   "source": [
    "(#iterating-over-multiple-lists-simultaneously)=\n",
    "### Iterating over multiple lists simultaneously\n",
    "\n",
    "The [built-in Python function `zip()`](https://docs.python.org/3/library/functions.html#zip)\n",
    "makes it easy to work with multiple lists at the same time. It combines two or\n",
    "more lists and iterates over them in parallel, returning one value of each list\n",
    "at a time. Consider the following example:"
   ]
  },
  {
   "cell_type": "code",
   "execution_count": null,
   "id": "009284f2",
   "metadata": {},
   "outputs": [],
   "source": [
    "dog_names = [\"Blackie\", \"Musti\", \"Svarte\"]\n",
    "dog_ages = [4.5, 2, 15]\n",
    "\n",
    "# Iterate over the names and ages lists in parallel:\n",
    "for name, age in zip(dog_names, dog_ages):\n",
    "    print(f\"{name} is {age} years old\")"
   ]
  },
  {
   "cell_type": "markdown",
   "id": "f221f85d",
   "metadata": {},
   "source": [
    ":::{admonition} Variable names\n",
    ":class: note\n",
    "\n",
    "This example illustrates quite well, why variable names should be chosen wisely: lists, for instance, almost always represent multiple values, so their names should be in plural (E.g., `dog_names`). In a loop, having more than one variable can become confusing quickly; refrain from using short names such as `i` or `j` for anything but a simple counter: use descriptive names such as `name` or `age` in the above example.\n",
    ":::\n",
    "\n",
    "\n",
    ":::{caution}\n",
    "When iterating over lists of different length, zip would shorten all lists to the length of the shortest. By default, this happens **without warning or error message**, so be careful!\n",
    ":::"
   ]
  }
 ],
 "metadata": {
  "kernelspec": {
   "display_name": "python3",
   "name": "python3"
  }
 },
 "nbformat": 4,
 "nbformat_minor": 5
}
