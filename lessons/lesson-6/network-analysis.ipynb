{
 "cells": [
  {
   "cell_type": "markdown",
   "id": "98d229a5",
   "metadata": {},
   "source": [
    "# Network analysis in Python\n",
    "\n",
    "Finding a shortest path using a specific street network is a common GIS problem\n",
    "that has many practical applications. For example, navigation, one of those\n",
    "‘every-day’ applications for which **routing** algorithms are used to find the\n",
    "optimal route between two or more points.\n",
    "\n",
    "Of course, the Python ecosystem has produced packages that can be used to\n",
    "conduct network analyses, such as routing. The\n",
    "[NetworkX](https://networkx.github.io/documentation/) package provides various\n",
    "tools to analyse networks, and implements several different routing algorithms,\n",
    "such as the\n",
    "[Dijkstra’s](https://networkx.org/documentation/stable/reference/algorithms/generated/networkx.algorithms.shortest_paths.generic.shortest_path.html)\n",
    "or the\n",
    "[A\\*](https://networkx.org/documentation/stable/reference/algorithms/shortest_paths.html#module-networkx.algorithms.shortest_paths.astar)\n",
    "algorithms. Both are commonly used to find shortest paths along transport networks.\n",
    "\n",
    "To be able to conduct network analysis, it is, of course, necessary to have a\n",
    "network that is used for the analyses. The\n",
    "[OSMnx](https://osmnx.readthedocs.io/) package enables us to retrieve routable\n",
    "networks from OpenStreetMap for various transport modes (walking, cycling and\n",
    "driving). OSMnx also wraps some of NetworkX’s functionality in a convenient way\n",
    "for using it on OpenStreetMap data.\n",
    "\n",
    "In the following section, we will use OSMnx to find the shortest path between\n",
    "two points based on cyclable roads. With only the tiniest modifications, we can\n",
    "then repeat the analysis for the walkable street network.\n",
    "\n",
    "\n",
    "\n",
    "## Obtain a routable network\n",
    "\n",
    "To download OpenStreetMap data that represents the street network, we can use\n",
    "it’s\n",
    "[`graph_from_place()`](https://osmnx.readthedocs.io/en/stable/osmnx.html#osmnx.graph.graph_from_place)\n",
    "function. As parameters, it expects a place name and, optionally, a network\n",
    "type."
   ]
  },
  {
   "cell_type": "code",
   "execution_count": null,
   "id": "b9c64728",
   "metadata": {},
   "outputs": [],
   "source": [
    "import osmnx\n",
    "\n",
    "PLACE_NAME = \"Kamppi, Helsinki, Finland\"\n",
    "graph = osmnx.graph_from_place(\n",
    "    PLACE_NAME,\n",
    "    network_type=\"bike\"\n",
    ")\n",
    "figure, ax = osmnx.plot_graph(graph)"
   ]
  },
  {
   "cell_type": "markdown",
   "id": "317eeb6e",
   "metadata": {},
   "source": [
    ":::{admonition} Pro tip!\n",
    ":class: hint\n",
    "\n",
    "Sometimes the shortest path might go slightly outside the defined area of\n",
    "interest. To account for this, we can fetch the network for a bit larger area\n",
    "than the district of Kamppi, in case the shortest path is not completely inside\n",
    "its boundaries. \n",
    ":::"
   ]
  },
  {
   "cell_type": "code",
   "execution_count": null,
   "id": "819e53ef",
   "metadata": {},
   "outputs": [],
   "source": []
  },
  {
   "cell_type": "markdown",
   "id": "5a936f3e",
   "metadata": {},
   "source": [
    "### Data overview\n",
    "\n",
    "Now that we obtained a complete network graph for the travel mode we specified\n",
    "(cycling), we can take a closer look at which attributes are assigned to the\n",
    "nodes and edges of the network. It is probably easiest to first convert the\n",
    "network into a geo-data frame on which we can then use the tools we learnt in\n",
    "earlier lessons.\n",
    "\n",
    "To convert a graph into a geo-data frame, we can use `osmnx.graph_to_gdfs()`\n",
    "(see [previous section](retrieve-data-from-openstreetmap)). Here, we can make\n",
    "use of the function’s parameters `nodes` and `edges` to select whether we want\n",
    "only nodes, only edges, or both (the default):"
   ]
  },
  {
   "cell_type": "code",
   "execution_count": null,
   "id": "a299ba78",
   "metadata": {},
   "outputs": [],
   "source": []
  },
  {
   "cell_type": "markdown",
   "id": "3ebd1487",
   "metadata": {},
   "source": [
    "The resulting geo-data frame comprises of a long list of columns. Most of them\n",
    "relate to [OpenStreetMap tags](https://wiki.openstreetmap.org/wiki/Tags), and\n",
    "their names are rather self-explanatory. the columns `u` and `v` describe the\n",
    "topological relationship within the network: they denote the start and end node\n",
    "of each edge.\n",
    "\n",
    ":::{list-table} Columns in `edges`\n",
    ":header-rows: 1\n",
    ":name: columns-in-edges\n",
    "\n",
    "* - Column\n",
    "  - Description\n",
    "  - Data type\n",
    "* - [bridge](http://wiki.openstreetmap.org/wiki/Key:bridge)    \n",
    "  - Bridge feature              \n",
    "  - boolean           \n",
    "* - geometry                                                   \n",
    "  - Geometry of the feature     \n",
    "  - Shapely.geometry  \n",
    "* - [highway](http://wiki.openstreetmap.org/wiki/Key:highway)  \n",
    "  - Tag for roads (road type)   \n",
    "  - str / list        \n",
    "* - [lanes](http://wiki.openstreetmap.org/wiki/Key:lanes)      \n",
    "  - Number of lanes             \n",
    "  - int (or nan)      \n",
    "* - [length](http://wiki.openstreetmap.org/wiki/Key:length)    \n",
    "  - Length of feature (meters)  \n",
    "  - float             \n",
    "* - [maxspeed](http://wiki.openstreetmap.org/wiki/Key:maxspeed)\n",
    "  - maximum legal speed limit   \n",
    "  - int /list         \n",
    "* - [name](http://wiki.openstreetmap.org/wiki/Key:name)        \n",
    "  - Name of the (street) element\n",
    "  - str (or nan)      \n",
    "* - [oneway](http://wiki.openstreetmap.org/wiki/Key:oneway)    \n",
    "  - One way road                \n",
    "  - boolean           \n",
    "* - [osmid](http://wiki.openstreetmap.org/wiki/Node)           \n",
    "  - Unique ids for the element  \n",
    "  - list              \n",
    "* - [u](http://ow.ly/bV8n30h7Ufm)                              \n",
    "  - The start node of edge      \n",
    "  - int               \n",
    "* - [v](http://ow.ly/bV8n30h7Ufm)                              \n",
    "  - The end node of edge       \n",
    "  - int               \n",
    ":::\n",
    "\n",
    "\n",
    "What types of streets does our network comprise of?"
   ]
  },
  {
   "cell_type": "code",
   "execution_count": null,
   "id": "bd5349e2",
   "metadata": {},
   "outputs": [],
   "source": []
  },
  {
   "cell_type": "markdown",
   "id": "a3391ca2",
   "metadata": {},
   "source": [
    "### Transform to projected reference system\n",
    "\n",
    "The network data’s cartographic reference system (CRS) is WGS84 (EPSG:4326), a\n",
    "geographic reference system. That means, distances are recorded and expressed\n",
    "in degrees, areas in square-degrees. This is not convenient for network\n",
    "analyses, such as finding a shortest path.\n",
    "\n",
    "Again, OSMnx’s *graph* objects do not offer a method to transform their\n",
    "geodata, but OSMnx comes with a separate function:\n",
    "[`osmnx.project_graph()`](https://osmnx.readthedocs.io/en/stable/osmnx.html#osmnx.projection.project_graph)\n",
    "accepts an input graph and a CRS as parameters, and returns a new, transformed,\n",
    "graph. If `crs` is omitted, the transformation defaults to the locally most\n",
    "appropriate UTM zone."
   ]
  },
  {
   "cell_type": "code",
   "execution_count": null,
   "id": "d2bd1999",
   "metadata": {},
   "outputs": [],
   "source": []
  },
  {
   "cell_type": "markdown",
   "id": "b664effd",
   "metadata": {},
   "source": [
    "---\n",
    "\n",
    "\n",
    "## Analysing network properties\n",
    "\n",
    "Now that we have prepared a routable network graph, we can turn to the more\n",
    "analytical features of OSMnx, and extract information about the network.\n",
    "To compute basic network characteristics, use\n",
    "[`osmnx.basic_stats()`](https://osmnx.readthedocs.io/en/stable/osmnx.html#osmnx.stats.basic_stats):"
   ]
  },
  {
   "cell_type": "code",
   "execution_count": null,
   "id": "fda0f3eb",
   "metadata": {},
   "outputs": [],
   "source": []
  },
  {
   "cell_type": "markdown",
   "id": "01fe65c5",
   "metadata": {},
   "source": [
    "This does not yet yield all interesting characteristics of our network, as\n",
    "OSMnx does not automatically takes the area covered by the network into\n",
    "consideration. We can do that manually, by, first, delineating the [complex\n",
    "hull](https://en.wikipedia.org/wiki/Convex_hull) of the network (of an ’unary’\n",
    "union of all its features), and then, second, computing the area of this hull."
   ]
  },
  {
   "cell_type": "code",
   "execution_count": null,
   "id": "40328d21",
   "metadata": {},
   "outputs": [],
   "source": []
  },
  {
   "cell_type": "code",
   "execution_count": null,
   "id": "923cbfc1",
   "metadata": {},
   "outputs": [],
   "source": []
  },
  {
   "cell_type": "markdown",
   "id": "eeb85f24",
   "metadata": {},
   "source": [
    "As we can see, now we have a lot of information about our street network that\n",
    "can be used to understand its structure. We can for example see that the average\n",
    "node density in our network is 729.5&nbsp;nodes/km and that\n",
    "the total edge length of our network is more than\n",
    "92&nbsp;kilometers.\n",
    "\n",
    "\n",
    ":::{admonition} Centrality measures\n",
    ":class: note\n",
    "\n",
    "In earlier years, this course also discussed [degree\n",
    "centrality](https://en.wikipedia.org/wiki/Centrality). Computing network\n",
    "centrality has changed in OSMnx: going in-depth would be beyond the scope of\n",
    "this course. Please see the [according OSMnx\n",
    "notebook](https://github.com/gboeing/osmnx-examples/blob/main/notebooks/06-stats-indicators-centrality.ipynb)\n",
    "for an example.\n",
    ":::\n",
    "\n",
    "\n",
    "---\n",
    "\n",
    "\n",
    "## Shortest path analysis\n",
    "\n",
    "Let’s now calculate the shortest path between two points using\n",
    "[`osmnx.shortest_path()`](https://osmnx.readthedocs.io/en/stable/osmnx.html?highlight=get_nearest_node#osmnx.distance.shortest_path).\n",
    "\n",
    "\n",
    "\n",
    "### Origin and destination points \n",
    "\n",
    "First we need to specify the source and target locations for our route. If you\n",
    "are familiar with the Kamppi area, you can specify a custom placename as a\n",
    "source location. Or, you can follow along and choose these points as the origin\n",
    "and destination in the analysis:\n",
    "- [`\"Maria 01, Helsinki\"`](https://nominatim.openstreetmap.org/ui/search.html?q=Maria+01):\n",
    "  a startup hub in a former hospital area.\n",
    "- [`\"ruttopuisto\"`](https://nominatim.openstreetmap.org/ui/search.html?q=ruttopuisto),\n",
    "  a park. The park’s official name is ’Vanha kirkkopuisto’, but Nominatim\n",
    "  is also able to geocode the nickname.\n",
    "\n",
    "We could figure out the coordinates for these locations manually, and create\n",
    "`shapely.geometry.Point`s based on the coordinates.  However, if we would have\n",
    "more than just two points, that would quickly become a chore. Instead, we can\n",
    "use OSMnx to geocode the locations.\n",
    "\n",
    "Remember to transform the origin and destination points to the same reference\n",
    "system as the network data."
   ]
  },
  {
   "cell_type": "code",
   "execution_count": null,
   "id": "07647fa6",
   "metadata": {},
   "outputs": [],
   "source": []
  },
  {
   "cell_type": "markdown",
   "id": "bcc9efe1",
   "metadata": {},
   "source": [
    "We now have `shapely.geometry.Point`s representing the origin and destination\n",
    "locations for our network analysis. In a next step, we need find these points on\n",
    "the routable network before the final routing.\n",
    "\n",
    "\n",
    "\n",
    "### Nearest node\n",
    "\n",
    "To route on the network, we first have to find a starting point and endpoint\n",
    "that is part of the network. Use\n",
    "`[osmnx.distance.nearest_nodes()`](https://osmnx.readthedocs.io/en/stable/osmnx.html#osmnx.distance.nearest_nodes)\n",
    "to return the nearest node’s ID:"
   ]
  },
  {
   "cell_type": "code",
   "execution_count": null,
   "id": "34f9a59c",
   "metadata": {},
   "outputs": [],
   "source": []
  },
  {
   "cell_type": "code",
   "execution_count": null,
   "id": "0fa50e79",
   "metadata": {},
   "outputs": [],
   "source": []
  },
  {
   "cell_type": "markdown",
   "id": "056a6751",
   "metadata": {},
   "source": [
    "### Routing\n",
    "\n",
    "Now we are ready for routing and to find the shortest path between the\n",
    "origin and target locations. We will use\n",
    "[`osmnx.shortest_path()`](https://osmnx.readthedocs.io/en/stable/osmnx.html?highlight=get_nearest_node#osmnx.distance.shortest_path).\n",
    "\n",
    "The function accepts three mandatory parameters: a graph, an origin node id, and\n",
    "a destination node id, and two optional parameters: `weight` can be set to\n",
    "consider a different *cost impedance* than the length of the route, and `cpus`\n",
    "controls parallel computation of many routes."
   ]
  },
  {
   "cell_type": "code",
   "execution_count": null,
   "id": "92156913",
   "metadata": {},
   "outputs": [],
   "source": []
  },
  {
   "cell_type": "markdown",
   "id": "372c7050",
   "metadata": {},
   "source": [
    "As a result we get a list of all the nodes that are along the shortest path. \n",
    "\n",
    "We could extract the locations of those nodes from the `nodes`\n",
    "GeoDataFrame and create a LineString presentation of the points, but luckily,\n",
    "OSMnx can do that for us and we can plot shortest path by using\n",
    "`plot_graph_route()` function:"
   ]
  },
  {
   "cell_type": "code",
   "execution_count": null,
   "id": "31a2dd60",
   "metadata": {},
   "outputs": [],
   "source": []
  },
  {
   "cell_type": "markdown",
   "id": "138327cb",
   "metadata": {},
   "source": [
    "Nice! Now we have the shortest path between our origin and target locations.\n",
    "Being able to analyze shortest paths between locations can be valuable\n",
    "information for many applications.  Here, we only analyzed the shortest paths\n",
    "based on distance but quite often it is more useful to find the optimal routes\n",
    "between locations based on the travelled time. Here, for example we could\n",
    "calculate the time that it takes to cross each road segment by dividing the\n",
    "length of the road segment with the speed limit and calculate the optimal\n",
    "routes by taking into account the speed limits as well that might alter the\n",
    "result especially on longer trips than here.\n",
    "\n",
    "\n",
    "\n",
    "## Saving shortest paths to disk\n",
    "\n",
    "Quite often you need to save the route into a file for further analysis and\n",
    "visualization purposes, or at least have it as a GeoDataFrame object in Python.\n",
    "Hence, let's continue still a bit and see how we can turn the route into a\n",
    "linestring and save the shortest path geometry and related attributes into a\n",
    "geopackage file.\n",
    "\n",
    "First we need to get the nodes that belong to the shortest path:"
   ]
  },
  {
   "cell_type": "code",
   "execution_count": null,
   "id": "5033bc84",
   "metadata": {},
   "outputs": [],
   "source": []
  },
  {
   "cell_type": "markdown",
   "id": "d5dc10a6",
   "metadata": {},
   "source": [
    "As we can see, now we have all the nodes that were part of the shortest path as a GeoDataFrame.\n",
    "\n",
    "Now we can create a LineString out of the Point geometries of the nodes:"
   ]
  },
  {
   "cell_type": "code",
   "execution_count": null,
   "id": "c5f4582d",
   "metadata": {},
   "outputs": [],
   "source": []
  },
  {
   "cell_type": "markdown",
   "id": "6a76be5d",
   "metadata": {},
   "source": [
    "Now we have the route as a LineString geometry. \n",
    "\n",
    "Let's make a GeoDataFrame out of it having some useful information about our\n",
    "route such as a list of the osmids that are part of the route and the length\n",
    "of the route."
   ]
  },
  {
   "cell_type": "code",
   "execution_count": null,
   "id": "1431fc4b",
   "metadata": {},
   "outputs": [],
   "source": []
  },
  {
   "cell_type": "markdown",
   "id": "2e27a9aa",
   "metadata": {},
   "source": [
    "Now we have a GeoDataFrame that we can save to disk. Let's still confirm that\n",
    "everything is ok by plotting our route on top of our street network and some\n",
    "buildings, and plot also the origin and target points on top of our map.\n",
    "\n",
    "Download buildings:"
   ]
  },
  {
   "cell_type": "code",
   "execution_count": null,
   "id": "165e029d",
   "metadata": {},
   "outputs": [],
   "source": []
  },
  {
   "cell_type": "markdown",
   "id": "707de7e9",
   "metadata": {},
   "source": [
    "Let's now plot the route and the street network elements to verify that\n",
    "everything is as it should:"
   ]
  },
  {
   "cell_type": "code",
   "execution_count": null,
   "id": "98a7b788",
   "metadata": {},
   "outputs": [],
   "source": []
  },
  {
   "cell_type": "markdown",
   "id": "9ed826d7",
   "metadata": {},
   "source": [
    "Great everything seems to be in order! As you can see, now we have a full\n",
    "control of all the elements of our map and we can use all the aesthetic\n",
    "properties that matplotlib provides to modify how our map will look like. Now\n",
    "we are almost ready to save our data into disk.\n",
    "\n",
    "\n",
    "\n",
    "## Prepare data for saving to file\n",
    "\n",
    "The data contain certain data types (such as `list`) that should be converted\n",
    "into character strings prior to saving the data to file (an alternative would be\n",
    "to drop invalid columns)."
   ]
  },
  {
   "cell_type": "code",
   "execution_count": null,
   "id": "bf8b51ed",
   "metadata": {},
   "outputs": [],
   "source": []
  },
  {
   "cell_type": "code",
   "execution_count": null,
   "id": "4f30292c",
   "metadata": {},
   "outputs": [],
   "source": []
  },
  {
   "cell_type": "code",
   "execution_count": null,
   "id": "c95b0b95",
   "metadata": {},
   "outputs": [],
   "source": []
  },
  {
   "cell_type": "markdown",
   "id": "9967a1f9",
   "metadata": {},
   "source": [
    "Now we can see that most of the attributes are of type `object` that quite\n",
    "often (such as ours here) refers to a string type of data.\n",
    "\n",
    "## Save the data:"
   ]
  },
  {
   "cell_type": "code",
   "execution_count": null,
   "id": "785438fb",
   "metadata": {},
   "outputs": [],
   "source": [
    "import pathlib\n",
    "NOTEBOOK_PATH = pathlib.Path().resolve()\n",
    "DATA_DIRECTORY = NOTEBOOK_PATH / \"data\""
   ]
  },
  {
   "cell_type": "code",
   "execution_count": null,
   "id": "8c80a605",
   "metadata": {},
   "outputs": [],
   "source": []
  },
  {
   "cell_type": "markdown",
   "id": "bb4de369",
   "metadata": {},
   "source": [
    "Great, now we have saved all the data that was used to produce the maps into a geopackage.\n",
    "\n",
    "\n",
    "\n",
    "## Advanced reading\n",
    "\n",
    "Here we learned how to solve a simple routing task between origin and\n",
    "destination points. What about if we have hundreads or thousands of origins?\n",
    "This is the case if you want to explore the travel distances to a spesific\n",
    "location across the whole city, for example, when analyzing the accessibility\n",
    "of jobs and services (like in the Travel Time Matrix dataset used in previous\n",
    "sections). \n",
    "\n",
    "Check out pyrosm documentation on [working with\n",
    "graphs](https://pyrosm.readthedocs.io/en/latest/graphs.html#working-with-graphs)\n",
    "for more advanced examples of network analysis in python. For example,\n",
    "[pandana](https://udst.github.io/pandana/) is a fast and efficient python\n",
    "library for creating aggretated network analysis in no time across large\n",
    "networks, and pyrosm can be used for preparing the input data for such\n",
    "analysis."
   ]
  }
 ],
 "metadata": {
  "kernelspec": {
   "display_name": "Python 3 (ipykernel)",
   "language": "python",
   "name": "python3"
  },
  "language_info": {
   "codemirror_mode": {
    "name": "ipython",
    "version": 3
   },
   "file_extension": ".py",
   "mimetype": "text/x-python",
   "name": "python",
   "nbconvert_exporter": "python",
   "pygments_lexer": "ipython3",
   "version": "3.10.8"
  }
 },
 "nbformat": 4,
 "nbformat_minor": 5
}
