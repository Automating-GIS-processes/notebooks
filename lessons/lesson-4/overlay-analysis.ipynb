{
 "cells": [
  {
   "cell_type": "markdown",
   "id": "aba6c379",
   "metadata": {},
   "source": [
    "# Overlay analysis\n",
    "\n",
    "Overlay analyses are GIS operations in which two or more vector layers are\n",
    "combined to produce new geometries. Typical overlay operations include *union*,\n",
    "*intersection*, and *difference* - named after the result of the combination of\n",
    "two layers.\n",
    "\n",
    "\n",
    ":::{figure} images/overlay-operations_700x200px.svg\n",
    ":alt: Four panels showing the union, intersection, symmetrical difference and difference of two geometries.\n",
    "\n",
    "Spatial overlay with two input vector layers (rectangle, circle). The resulting vector layer is displayed in green. *Source: [QGIS documentation](https://docs.qgis.org/latest/en/docs/gentle_gis_introduction/vector_spatial_analysis_buffers.html#figure-overlay-operations)*\n",
    ":::\n",
    "\n",
    "\n",
    "In this tutorial, we will carry out an overlay analysis to select those polygon\n",
    "cells of a grid dataset that lie within the city limits of Helsinki. For this\n",
    "exercise, we use two input data sets: a grid of statistical polygons with the\n",
    "travel time to the Helsinki railway station, covering the entire metropolitan\n",
    "area (`helsinki_region_travel_times_to_railway_station.gpkg`) and a polygon\n",
    "data set (with one feature) of the area the municipality of Helsinki covers\n",
    "(`helsinki_municipality.gpkg`). Both files are in logically named subfolders\n",
    "of the `DATA_DIRECTORY`."
   ]
  },
  {
   "cell_type": "code",
   "execution_count": 1,
   "id": "9296b0aa",
   "metadata": {},
   "outputs": [],
   "source": [
    "import pathlib \n",
    "NOTEBOOK_PATH = pathlib.Path().resolve()\n",
    "DATA_DIRECTORY = NOTEBOOK_PATH / \"data\""
   ]
  },
  {
   "cell_type": "code",
   "execution_count": 3,
   "id": "176e274a",
   "metadata": {},
   "outputs": [],
   "source": [
    "import geopandas\n",
    "\n",
    "grid = geopandas.read_file(\n",
    "    DATA_DIRECTORY\n",
    "    / \"helsinki_region_travel_times_to_railway_station\"\n",
    "    / \"helsinki_region_travel_times_to_railway_station.gpkg\"\n",
    ")\n",
    "\n",
    "helsinki = geopandas.read_file(\n",
    "    DATA_DIRECTORY / \"helsinki_municipality\" / \"helsinki_municipality.gpkg\"\n",
    ")"
   ]
  },
  {
   "cell_type": "markdown",
   "id": "b8533a6e",
   "metadata": {},
   "source": [
    "Let’s do a quick overlay visualization of the two layers:"
   ]
  },
  {
   "cell_type": "code",
   "execution_count": 4,
   "id": "59b3e7ff",
   "metadata": {},
   "outputs": [
    {
     "data": {
      "text/plain": [
       "<Axes: >"
      ]
     },
     "execution_count": 4,
     "metadata": {},
     "output_type": "execute_result"
    },
    {
     "data": {
      "image/png": "[encoded data removed]",
      "text/plain": [
       "<Figure size 640x480 with 1 Axes>"
      ]
     },
     "metadata": {},
     "output_type": "display_data"
    }
   ],
   "source": [
    "# Plot the layers\n"
   ]
  },
  {
   "cell_type": "markdown",
   "id": "7842ff70",
   "metadata": {},
   "source": [
    "Here the grey area is the Travel Time Matrix - a data set that contains  13231\n",
    "grid squares (13231 rows of data) that covers the Helsinki region, and the blue\n",
    "area represents the municipality of Helsinki. Our goal is to conduct an overlay\n",
    "analysis and select the geometries from the grid polygon layer that intersect\n",
    "with the Helsinki municipality polygon.\n",
    "\n",
    "When conducting overlay analysis, it is important to first check that the CRS\n",
    "of the layers match. The overlay visualization indicates that everything should\n",
    "be ok (the layers are plotted nicely on top of each other). However, let's\n",
    "still check if the crs match using Python:"
   ]
  },
  {
   "cell_type": "code",
   "execution_count": null,
   "id": "c5f58d11",
   "metadata": {},
   "outputs": [],
   "source": [
    "# Check the crs of the municipality polygon\n"
   ]
  },
  {
   "cell_type": "code",
   "execution_count": null,
   "id": "41d68960",
   "metadata": {},
   "outputs": [],
   "source": [
    "# Ensure that the CRS matches, if not raise an AssertionError\n"
   ]
  },
  {
   "cell_type": "markdown",
   "id": "bfee827c",
   "metadata": {},
   "source": [
    "Indeed, they do. We are now ready to conduct an overlay analysis between these layers. \n",
    "\n",
    "We will create a new layer based on grid polygons that `intersect` with our\n",
    "Helsinki layer. We can use a method `overlay()` of a `GeoDataFrame` to conduct\n",
    "the overlay analysis that takes as an input 1) second GeoDataFrame, and 2)\n",
    "parameter `how` that can be used to control how the overlay analysis is\n",
    "conducted (possible values are `'intersection'`, `'union'`,\n",
    "`'symmetric_difference'`, `'difference'`, and `'identity'`):"
   ]
  },
  {
   "cell_type": "code",
   "execution_count": null,
   "id": "ce476bc3",
   "metadata": {},
   "outputs": [],
   "source": []
  },
  {
   "cell_type": "markdown",
   "id": "2731b730",
   "metadata": {},
   "source": [
    "Let's plot our data and see what we have:"
   ]
  },
  {
   "cell_type": "code",
   "execution_count": null,
   "id": "f62c7b5e",
   "metadata": {},
   "outputs": [],
   "source": []
  },
  {
   "cell_type": "markdown",
   "id": "f001fb7f",
   "metadata": {},
   "source": [
    "As a result, we now have only those grid cells that intersect with the Helsinki\n",
    "borders. If you look closely, you can also observe that **the grid cells are\n",
    "clipped based on the boundary.**\n",
    "\n",
    "- Whatabout the data attributes? Let's see what we have:"
   ]
  },
  {
   "cell_type": "code",
   "execution_count": null,
   "id": "b5838533",
   "metadata": {},
   "outputs": [],
   "source": []
  },
  {
   "cell_type": "markdown",
   "id": "e850759a",
   "metadata": {},
   "source": [
    "As we can see, due to the overlay analysis, the dataset contains the attributes\n",
    "from both input layers.\n",
    "\n",
    "Let's save our result grid as a GeoPackage."
   ]
  },
  {
   "cell_type": "code",
   "execution_count": null,
   "id": "07e6870f",
   "metadata": {},
   "outputs": [],
   "source": []
  },
  {
   "cell_type": "markdown",
   "id": "2097a09b",
   "metadata": {},
   "source": [
    "There are many more examples for different types of overlay analysis in\n",
    "[Geopandas documentation](http://geopandas.org/set_operations.html) where you\n",
    "can go and learn more."
   ]
  }
 ],
 "metadata": {
  "kernelspec": {
   "display_name": "Python 3 (ipykernel)",
   "language": "python",
   "name": "python3"
  },
  "language_info": {
   "codemirror_mode": {
    "name": "ipython",
    "version": 3
   },
   "file_extension": ".py",
   "mimetype": "text/x-python",
   "name": "python",
   "nbconvert_exporter": "python",
   "pygments_lexer": "ipython3",
   "version": "3.10.12"
  }
 },
 "nbformat": 4,
 "nbformat_minor": 5
}
