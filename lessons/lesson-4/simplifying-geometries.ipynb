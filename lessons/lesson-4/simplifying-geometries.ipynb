{
 "cells": [
  {
   "cell_type": "markdown",
   "id": "4b06f1ac",
   "metadata": {},
   "source": [
    "# Simplifying geometries\n",
    "\n",
    "\n",
    "Sometimes it might be useful to be able to simplify geometries. This could be\n",
    "something to consider for example when you have very detailed spatial features\n",
    "that cover the whole world. If you make a map that covers the whole world, it\n",
    "is unnecessary to have really detailed geometries because it is simply\n",
    "impossible to see those small details from your map. Furthermore, it takes a\n",
    "long time to actually render a large quantity of features into a map. Here, we\n",
    "will see how it is possible to simplify geometric features in Python.\n",
    "\n",
    "As an example we will use data representing the Amazon river in South America,\n",
    "and simplify it's geometries.\n",
    "\n",
    "Let's first read the data and see how the river looks like:"
   ]
  },
  {
   "cell_type": "code",
   "execution_count": null,
   "id": "b3252766",
   "metadata": {},
   "outputs": [],
   "source": [
    "import pathlib \n",
    "NOTEBOOK_PATH = pathlib.Path().resolve()\n",
    "DATA_DIRECTORY = NOTEBOOK_PATH / \"data\""
   ]
  },
  {
   "cell_type": "code",
   "execution_count": null,
   "id": "459c69e8",
   "metadata": {},
   "outputs": [],
   "source": [
    "import geopandas\n",
    "\n",
    "amazon = geopandas.read_file(DATA_DIRECTORY / \"amazon_river\" / \"amazon_river.gpkg\")\n",
    "\n",
    "amazon.head()"
   ]
  },
  {
   "cell_type": "code",
   "execution_count": null,
   "id": "85221a2d",
   "metadata": {},
   "outputs": [],
   "source": []
  },
  {
   "cell_type": "code",
   "execution_count": null,
   "id": "99227c3b",
   "metadata": {},
   "outputs": [],
   "source": []
  },
  {
   "cell_type": "markdown",
   "id": "66ab6b50",
   "metadata": {},
   "source": [
    "The LineString that is presented here is quite detailed, so let's see how we\n",
    "can generalize them a bit. As we can see from the coordinate reference system,\n",
    "the data is projected in a system using [Mercator projection based on\n",
    "SIRGAS datum](http://spatialreference.org/ref/sr-org/7868/), and metres as a unit. \n",
    "\n",
    "Generalization can be done easily by using a Shapely function called\n",
    "`.simplify()`. The `tolerance` parameter can be used to adjusts how much\n",
    "geometries should be generalized. **The tolerance value is tied to the\n",
    "coordinate system of the geometries**. Hence, the value we pass here is 20 000\n",
    "**meters** (20 kilometers)."
   ]
  },
  {
   "cell_type": "code",
   "execution_count": null,
   "id": "5e94fc62",
   "metadata": {},
   "outputs": [],
   "source": [
    "# Generalize geometry\n",
    "\n",
    "# Set geometry to be our new simlified geometry\n",
    "\n",
    "# Plot \n"
   ]
  },
  {
   "cell_type": "markdown",
   "id": "a630364b",
   "metadata": {},
   "source": [
    "Nice! As a result, now we have simplified our LineString quite significantly as we can see from the map."
   ]
  }
 ],
 "metadata": {
  "kernelspec": {
   "display_name": "Python 3 (ipykernel)",
   "language": "python",
   "name": "python3"
  },
  "language_info": {
   "codemirror_mode": {
    "name": "ipython",
    "version": 3
   },
   "file_extension": ".py",
   "mimetype": "text/x-python",
   "name": "python",
   "nbconvert_exporter": "python",
   "pygments_lexer": "ipython3",
   "version": "3.10.8"
  }
 },
 "nbformat": 4,
 "nbformat_minor": 5
}
