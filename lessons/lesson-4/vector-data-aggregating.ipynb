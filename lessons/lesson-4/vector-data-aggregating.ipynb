{
 "cells": [
  {
   "cell_type": "markdown",
   "id": "abc40def",
   "metadata": {},
   "source": [
    "# Aggregating data\n",
    "\n",
    "Data aggregation refers to a process where we combine data into groups. When\n",
    "doing spatial data aggregation, we merge the geometries together into coarser\n",
    "units (based on some attribute), and can also calculate summary statistics for\n",
    "these combined geometries from the original, more detailed values. For example,\n",
    "suppose that we are interested in studying continents, but we only have\n",
    "country-level data like the country dataset. If we aggregate the data by\n",
    "continent, we would convert the country-level data into a continent-level\n",
    "dataset.\n",
    "\n",
    "In this tutorial, we will aggregate our travel time data by car travel times\n",
    "(column `car_r_t`), i.e. the grid cells that have the same travel time to\n",
    "Railway Station will be merged together.\n",
    "\n",
    "Let’s start with loading `intersection.gpkg`, the output file of the\n",
    "[previous section](overlay-analysis):"
   ]
  },
  {
   "cell_type": "code",
   "execution_count": null,
   "id": "a403c5a4",
   "metadata": {},
   "outputs": [],
   "source": [
    "import pathlib \n",
    "NOTEBOOK_PATH = pathlib.Path().resolve()\n",
    "DATA_DIRECTORY = NOTEBOOK_PATH / \"data\""
   ]
  },
  {
   "cell_type": "code",
   "execution_count": null,
   "id": "f378228b",
   "metadata": {},
   "outputs": [],
   "source": [
    "import geopandas\n",
    "intersection = geopandas.read_file(DATA_DIRECTORY / \"intersection.gpkg\")"
   ]
  },
  {
   "cell_type": "markdown",
   "id": "6693e43e",
   "metadata": {},
   "source": [
    "For doing the aggregation we will use a method called `dissolve()` that takes\n",
    "as input the column that will be used for conducting the aggregation:"
   ]
  },
  {
   "cell_type": "code",
   "execution_count": null,
   "id": "77c910f3",
   "metadata": {},
   "outputs": [],
   "source": []
  },
  {
   "cell_type": "markdown",
   "id": "4e7c17ef",
   "metadata": {},
   "source": [
    "Let’s compare the number of cells in the layers before and after the\n",
    "aggregation:"
   ]
  },
  {
   "cell_type": "code",
   "execution_count": null,
   "id": "d5384910",
   "metadata": {},
   "outputs": [],
   "source": [
    "print(f\"Rows in original intersection GeoDataFrame: {len(intersection)}\")\n",
    "print(f\"Rows in dissolved layer: {len(dissolved)}\")"
   ]
  },
  {
   "cell_type": "markdown",
   "id": "a0e36673",
   "metadata": {},
   "source": [
    "Indeed the number of rows in our data has decreased and the Polygons were\n",
    "merged together.\n",
    "\n",
    "What actually happened here? Let's take a closer look. \n",
    "\n",
    "Let's see what columns we have now in our GeoDataFrame:"
   ]
  },
  {
   "cell_type": "code",
   "execution_count": null,
   "id": "5974abc2",
   "metadata": {},
   "outputs": [],
   "source": []
  },
  {
   "cell_type": "markdown",
   "id": "9c154bdf",
   "metadata": {},
   "source": [
    "As we can see, the column that we used for conducting the aggregation\n",
    "(`car_r_t`) can not be found from the columns list anymore. What happened to\n",
    "it?\n",
    "\n",
    "Let’s take a look at the indices of our GeoDataFrame:"
   ]
  },
  {
   "cell_type": "code",
   "execution_count": null,
   "id": "84ebf623",
   "metadata": {},
   "outputs": [],
   "source": []
  },
  {
   "cell_type": "markdown",
   "id": "ba3604a9",
   "metadata": {},
   "source": [
    "Aha! Well now we understand where our column went. It is now used as index in\n",
    "our `dissolved` GeoDataFrame. \n",
    "\n",
    "Now, we can for example select only such geometries from the layer that are for\n",
    "example exactly 15 minutes away from the Helsinki Railway Station:"
   ]
  },
  {
   "cell_type": "code",
   "execution_count": null,
   "id": "d3ae90fa",
   "metadata": {},
   "outputs": [],
   "source": []
  },
  {
   "cell_type": "code",
   "execution_count": null,
   "id": "3a6ffd69",
   "metadata": {},
   "outputs": [],
   "source": []
  },
  {
   "cell_type": "code",
   "execution_count": null,
   "id": "db343b8b",
   "metadata": {},
   "outputs": [],
   "source": []
  },
  {
   "cell_type": "markdown",
   "id": "fe871e1b",
   "metadata": {},
   "source": [
    "As we can see, as a result, we have now a Pandas `Series` object containing\n",
    "basically one row from our original aggregated GeoDataFrame.\n",
    "\n",
    "Let’s also visualize those 15 minute grid cells.\n",
    "\n",
    "First, we need to convert the selected row back to a GeoDataFrame:"
   ]
  },
  {
   "cell_type": "code",
   "execution_count": null,
   "id": "837478b6",
   "metadata": {},
   "outputs": [],
   "source": []
  },
  {
   "cell_type": "markdown",
   "id": "1b667fdb",
   "metadata": {},
   "source": [
    "Plot the selection on top of the entire grid:"
   ]
  },
  {
   "cell_type": "code",
   "execution_count": null,
   "id": "4eed5bd2",
   "metadata": {},
   "outputs": [],
   "source": []
  },
  {
   "cell_type": "markdown",
   "id": "eab57c25",
   "metadata": {},
   "source": [
    "Another way to visualize the travel times in the entire GeoDataFrame is to plot using one specific column. In order to use our `car_r_t` column, which is now the index of the GeoDataFrame, we need to reset the index:"
   ]
  },
  {
   "cell_type": "code",
   "execution_count": null,
   "id": "a1b714fe",
   "metadata": {},
   "outputs": [],
   "source": []
  },
  {
   "cell_type": "markdown",
   "id": "be428696",
   "metadata": {},
   "source": [
    "As we can see, we now have our `car_r_t` as a column again, and can then plot the GeoDataFrame passing this column using the `column` parameter:"
   ]
  },
  {
   "cell_type": "code",
   "execution_count": null,
   "id": "96f0f780",
   "metadata": {},
   "outputs": [],
   "source": []
  },
  {
   "cell_type": "markdown",
   "id": "08a152a1-7ff6-4b2b-b7b2-6919e0b93df7",
   "metadata": {},
   "source": [
    "> **How Are Other Columns Aggregated During `dissolve`?**  \n",
    "> \n",
    "> When using the `dissolve` method in GeoPandas (e.g., `dissolved = intersection.dissolve(by=\"car_r_t\")`), here's how other columns are aggregated:\n",
    "> \n",
    "> ### Default Behavior:\n",
    "> - **Default Aggregation Function:** `aggfunc='first'`\n",
    ">   - Keeps the **first value** from each group for columns that are not involved in the aggregation (i.e., not the `by` column).\n",
    ">   - For multiple rows grouped together, only the first row's values are retained for other columns.\n",
    "> \n",
    "> ### Custom Aggregation:\n",
    "> You can control how other columns are aggregated using the `aggfunc` parameter:\n",
    "> ```python\n",
    "> dissolved = intersection.dissolve(by=\"car_r_t\", aggfunc=\"sum\")\n",
    "> ```\n",
    "> Supported aggregation functions include:\n",
    "> - `\"sum\"`: Sum of the values in the group.\n",
    "> - `\"mean\"`: Average of the values in the group.\n",
    "> - `\"min\"`: Minimum value in the group.\n",
    "> - `\"max\"`: Maximum value in the group.\n",
    "> - `\"first\"`: First value in the group (default).\n",
    "> - `\"last\"`: Last value in the group.\n",
    "> - Custom aggregation using a `lambda` function.\n",
    "> \n",
    "> ### Using Multiple Aggregations:\n",
    "> To apply different aggregations to different columns, you can do further aggregation manually:\n",
    "> ```python\n",
    "> dissolved = intersection.dissolve(by=\"car_r_t\")\n",
    "> dissolved = dissolved.groupby(\"car_r_t\").agg({\n",
    ">     \"column1\": \"sum\",\n",
    ">     \"column2\": \"mean\",\n",
    ">     \"column3\": \"max\"\n",
    "> })\n",
    "> ```\n",
    "> \n",
    "> ### Geometry Aggregation:\n",
    "> - The geometries in the grouped rows are **merged (unioned)** into a single geometry for each group."
   ]
  },
  {
   "cell_type": "code",
   "execution_count": null,
   "id": "d29bfdfc-2741-4b31-878e-7dc1d47f3050",
   "metadata": {},
   "outputs": [],
   "source": []
  }
 ],
 "metadata": {
  "kernelspec": {
   "display_name": "Python 3 (ipykernel)",
   "language": "python",
   "name": "python3"
  },
  "language_info": {
   "codemirror_mode": {
    "name": "ipython",
    "version": 3
   },
   "file_extension": ".py",
   "mimetype": "text/x-python",
   "name": "python",
   "nbconvert_exporter": "python",
   "pygments_lexer": "ipython3",
   "version": "3.11.7"
  }
 },
 "nbformat": 4,
 "nbformat_minor": 5
}
