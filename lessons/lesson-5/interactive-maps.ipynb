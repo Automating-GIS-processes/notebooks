{
 "cells": [
  {
   "cell_type": "markdown",
   "id": "594c340a",
   "metadata": {},
   "source": [
    "# Interactive maps\n",
    "\n",
    "[Online\n",
    "maps](https://link.springer.com/referenceworkentry/10.1007/978-3-319-23519-6_1485-2)\n",
    "have been interactive for a long time: virtually all online maps allow to zoom\n",
    "in and out, to pan the map extent, and to select map features, or otherwise\n",
    "query information about them.\n",
    "\n",
    "Interactive content in web pages, such as online maps, are typically\n",
    "implemented using\n",
    "[*JavaScript*/*ECMAScript*](https://en.wikipedia.org/wiki/ECMAScript), a scripting\n",
    "language originally targeted at web pages, primarily, but used for many other\n",
    "applications.\n",
    "\n",
    "In the open source realm, there exist a number of different *JavaScript*\n",
    "libraries for interactive web cartography, including\n",
    "[Leaflet](https://leafletjs.com/), which we will use in this lesson, and\n",
    "[OpenLayers](https://openlayers.org/).\n",
    "\n",
    "No worries, we will not have to write a single line of *JavaScript*; this is a\n",
    "*Python* course, after all. Rather, we will take advantage of the\n",
    "[*Folium*](https://python-visualization.github.io/folium/) Python package: it\n",
    "helps create interactive *Leaflet* maps from data stored in\n",
    "`geopandas.GeoDataFrame`s.\n",
    "\n",
    "\n",
    ":::{admonition} *Folium* resources\n",
    ":class: note\n",
    "\n",
    "Find more information about the capabilities of the *Folium* package on its\n",
    "official web pages:\n",
    "- [Documentation](https://python-visualization.github.io/folium/)\n",
    "- [Example gallery](https://nbviewer.org/github/python-visualization/folium/tree/main/examples/)\n",
    "- [Quickstart tutorial](https://python-visualization.github.io/folium/quickstart.html#Getting-Started)\n",
    ":::\n",
    "\n",
    "\n",
    "## Create a simple interactive web map\n",
    "\n",
    "We will start by creating a simple interactive web map that contains nothing\n",
    "but a base map. This is so we get acustomed to how *Folium*’s syntax works, and\n",
    "which steps we have to take.\n",
    "\n",
    "We create a `folium.Map` object, and specify centred around which `location`\n",
    "and at which initial zoom level (~0-20) a map shall be displayed. By setting\n",
    "`control_scale` to `True`, we make *Folium* display a scale bar."
   ]
  },
  {
   "cell_type": "code",
   "execution_count": null,
   "id": "ac62a8f7",
   "metadata": {},
   "outputs": [],
   "source": [
    "import pathlib\n",
    "NOTEBOOK_PATH = pathlib.Path().resolve()\n",
    "DATA_DIRECTORY = NOTEBOOK_PATH / \"data\"\n",
    "\n",
    "# We will export HTML pages during this lesson,\n",
    "# let’s also prepare an output directory for them:\n",
    "HTML_DIRECTORY = NOTEBOOK_PATH / \"html\"\n",
    "HTML_DIRECTORY.mkdir(exist_ok=True)"
   ]
  },
  {
   "cell_type": "code",
   "execution_count": null,
   "id": "b0f8a4fd",
   "metadata": {},
   "outputs": [],
   "source": []
  },
  {
   "cell_type": "markdown",
   "id": "ab9d18bd",
   "metadata": {},
   "source": [
    "### Save the resulting map\n",
    "\n",
    "To save this map to an HTML file that can be opened in any web browser,\n",
    "use [`folium.Map.save()`](https://python-visualization.github.io/branca/element.html#branca.element.Element.save):"
   ]
  },
  {
   "cell_type": "code",
   "execution_count": null,
   "id": "994b3682",
   "metadata": {},
   "outputs": [],
   "source": []
  },
  {
   "cell_type": "markdown",
   "id": "6d264e64",
   "metadata": {},
   "source": [
    "### Change the base map\n",
    "\n",
    "If you want to use a different base layer than the default OpenStreetMap,\n",
    "`folium.Map` accepts a parameter `tiles`, that can either reference [one of the\n",
    "built-in map providers](https://python-visualization.github.io/folium/modules.html#folium.folium.Map)\n",
    "or point to a custom *tileset URL*.\n",
    "\n",
    "While we’re at it, let’s also vary the centre location and the zoom level\n",
    "of the map:"
   ]
  },
  {
   "cell_type": "code",
   "execution_count": null,
   "id": "e079978a",
   "metadata": {},
   "outputs": [],
   "source": []
  },
  {
   "cell_type": "markdown",
   "id": "7925b5e8",
   "metadata": {},
   "source": [
    "## Add a point marker\n",
    "\n",
    "To add a single marker to a *Folium* map, create a\n",
    "[`folium.Marker`](https://python-visualization.github.io/folium/modules.html#folium.map.Marker).\n",
    "Supply a\n",
    "[`folium.Icon`](https://python-visualization.github.io/folium/modules.html#folium.map.Icon)\n",
    "as a parameter `icon` to influence how the marker is styled, and set `tooltip`\n",
    "to display a text when the mouse pointer hovers over it."
   ]
  },
  {
   "cell_type": "code",
   "execution_count": null,
   "id": "8bd97696",
   "metadata": {},
   "outputs": [],
   "source": []
  },
  {
   "cell_type": "markdown",
   "id": "bc7fa6c6",
   "metadata": {},
   "source": [
    "## Add a layer of points\n",
    "\n",
    "*Folium* also supports to add entire layers, for instance, as\n",
    "`geopandas.GeoDataFrames`. *Folium* implements [*Leaflet*’s `geoJSON`\n",
    "layers](https://leafletjs.com/reference.html#geojson) in its\n",
    "`folium.features.GeoJson` class. We can initialise such a class (and layer)\n",
    "with a geo-data frame, and add it to a map. In the example below, we use the\n",
    "`addresses.gpkg` data set we create [in lesson\n",
    "3](../lesson-3/geocoding-in-geopandas)."
   ]
  },
  {
   "cell_type": "code",
   "execution_count": null,
   "id": "16f8a03a",
   "metadata": {},
   "outputs": [],
   "source": []
  },
  {
   "cell_type": "code",
   "execution_count": null,
   "id": "cd682c57",
   "metadata": {},
   "outputs": [],
   "source": []
  },
  {
   "cell_type": "markdown",
   "id": "0cf6a22e",
   "metadata": {},
   "source": [
    "## Add a polygon layer\n",
    "\n",
    "In the following section we are going to revisit another data set with which we have worked before: the Helsinki Region population grid we got to know in [lesson 2](../lesson-2/vector-data-io), and which you used during [exercise 3](../lesson-3/exercise-3). We can load the layer directly from [HSY’s open data WFS endpoint](https://hri.fi/):"
   ]
  },
  {
   "cell_type": "code",
   "execution_count": null,
   "id": "31b8f9da",
   "metadata": {},
   "outputs": [],
   "source": []
  },
  {
   "cell_type": "markdown",
   "id": "3b0d912d",
   "metadata": {},
   "source": [
    "Let’s first clean the data frame: drop all columns we don’t need, and\n",
    "rename the remaining ones to English."
   ]
  },
  {
   "cell_type": "code",
   "execution_count": null,
   "id": "8cde5426",
   "metadata": {},
   "outputs": [],
   "source": []
  },
  {
   "cell_type": "markdown",
   "id": "d986a32b",
   "metadata": {},
   "source": [
    ":::{admonition} Index column for choropleth maps\n",
    ":class: hint\n",
    "\n",
    "We will use the `folium.Choropleth` to display the population grid. Choropleth\n",
    "maps are more than simply polygon geometries, which could be displayed as a\n",
    "`folium.features.GeoJson` layer, just like we used for the address points,\n",
    "above. Rather, the class takes care of categorising data, adding a legend, and\n",
    "a few more small tasks to quickly create beautiful thematic maps.\n",
    "\n",
    "The class expects an input data set that has an explicit, `str`-type, index\n",
    "column, as it treats the geospatial input and the thematic input as separate\n",
    "data sets that need to be joint (see also, below, how we specify both\n",
    "`geo_data` and `data`).\n",
    "\n",
    "A good approach to create such a column is to copy the data frame’s index\n",
    "into a new column, for instance `id`.\n",
    ":::"
   ]
  },
  {
   "cell_type": "code",
   "execution_count": null,
   "id": "42136c1d",
   "metadata": {},
   "outputs": [],
   "source": []
  },
  {
   "cell_type": "markdown",
   "id": "7f7df1d2",
   "metadata": {},
   "source": [
    "Now we can create the polygon choropleth layer, and add it to a map object.\n",
    "Due to the slightly complex architecture of *Folium*, we have to supply a\n",
    "number of parameters:\n",
    "- `geo_data` and `data`, the geospatial and thematic input data sets,\n",
    "  respectively. Can be the same `geopandas.GeoDataFrame`.\n",
    "- `columns`: a tuple of the names of relevant columns in `data`: a unique\n",
    "  index column, and the column containing thematic data\n",
    "- `key_on`: which column in `geo_data` to use for joining `data` (this is\n",
    "  basically identical to `columns`, except it’s only the first value)"
   ]
  },
  {
   "cell_type": "code",
   "execution_count": null,
   "id": "f1dd05d3",
   "metadata": {},
   "outputs": [],
   "source": []
  },
  {
   "cell_type": "markdown",
   "id": "e69f74ed",
   "metadata": {},
   "source": [
    "To make the map slightly nicer, let’s still request more categories (`bins`),\n",
    "change the colour range (using `fill_color`), set the line thickness to zero,\n",
    "and add a layer name to the legend:"
   ]
  },
  {
   "cell_type": "code",
   "execution_count": null,
   "id": "ffddebb3",
   "metadata": {},
   "outputs": [],
   "source": []
  },
  {
   "cell_type": "markdown",
   "id": "a4c476b8",
   "metadata": {},
   "source": [
    "### Add a tooltip to a choropleth map\n",
    "\n",
    "In such an interactive map, it would be nice to display the value of each\n",
    "grid cell polygon when hovering the mouse over it. *Folium* does not support\n",
    "this out-of-the-box, but with a simple trick, we can extend its functionality:\n",
    "We add a transparent polygon layer using a ‘basic‘ `folium.features.GeoJson`,\n",
    "and configure it to display tooltips.\n",
    "\n",
    "We can keep the `map` we created above, and simply add another layer to it."
   ]
  },
  {
   "cell_type": "code",
   "execution_count": null,
   "id": "393afaca",
   "metadata": {},
   "outputs": [],
   "source": []
  },
  {
   "cell_type": "markdown",
   "id": "912c9889",
   "metadata": {},
   "source": [
    ":::{admonition} Python packages for interactive (web) maps\n",
    ":class: note\n",
    "\n",
    "*Folium* is just one of many packages that provide an easy way to create interactive maps using data stored in (geo-)pandas data frames. Other interesting libraries include:\n",
    "\n",
    "- [GeoViews](https://geoviews.org/),\n",
    "- [Mapbox GL for Jupyter](https://github.com/mapbox/mapboxgl-jupyter),\n",
    "- [Bokeh](https://docs.bokeh.org/en/latest/docs/gallery.html),\n",
    "- [Plotly Express](https://plotly.com/python/maps/), and many more.\n",
    ":::"
   ]
  }
 ],
 "metadata": {
  "kernelspec": {
   "display_name": "Python 3 (ipykernel)",
   "language": "python",
   "name": "python3"
  },
  "language_info": {
   "codemirror_mode": {
    "name": "ipython",
    "version": 3
   },
   "file_extension": ".py",
   "mimetype": "text/x-python",
   "name": "python",
   "nbconvert_exporter": "python",
   "pygments_lexer": "ipython3",
   "version": "3.10.8"
  }
 },
 "nbformat": 4,
 "nbformat_minor": 5
}
