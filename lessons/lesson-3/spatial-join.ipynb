{
 "cells": [
  {
   "cell_type": "markdown",
   "id": "19d88437",
   "metadata": {},
   "source": [
    "# Spatial join\n",
    "\n",
    "*Spatial joins* are operations that combine data from two or more spatial data\n",
    "sets based on their geometric relationship. In the previous sections, we got to\n",
    "know two specific cases of spatial joins: [Point-in-polygon\n",
    "queries](point-in-polygon-queries) and [intersects-queries](intersect). However,\n",
    "there is more to using the geometric relationship between features and between\n",
    "entire layers.\n",
    "\n",
    "Spatial join operations require two input parameters: the *predicament*, i.e., the\n",
    "geometric condition that needs to be met between two geometries, and the\n",
    "*join-type*: whether only rows with matching geometries are kept, or all of one\n",
    "input table’s rows, or all records. \n",
    "\n",
    "*Geopandas* (using `shapely` to implement geometric relationships) [supports a\n",
    "standard set of geometric\n",
    "predicates](https://geopandas.org/en/stable/docs/user_guide/mergingdata.html#binary-predicate-joins),\n",
    "that is similar to most GIS analysis tools and applications:\n",
    "\n",
    "- intersects\n",
    "- contains\n",
    "- within\n",
    "- touches\n",
    "- crosses\n",
    "- overlaps\n",
    "\n",
    "Geometric predicaments are expressed as verbs, so they have an intuitive\n",
    "meaning. See the [shapely user\n",
    "manual](https://shapely.readthedocs.io/en/stable/manual.html#binary-predicates)\n",
    "for a detailed description of each geometric predicate.\n",
    "\n",
    "\n",
    ":::{admonition} Binary geometric predicates\n",
    ":class: hint\n",
    "\n",
    "Shapely supports more *binary geometric predicates* than geopandas implements\n",
    "for spatial joins. What are they? Can they be expressed by combining the\n",
    "implemented ones?\n",
    ":::\n",
    "\n",
    "\n",
    "In terms of the *join-type*, geopandas implements three different options:\n",
    "\n",
    "- *left*: keep all records of the *left* data frame, fill with empty values if\n",
    "  no match, keep *left* geometry column\n",
    "- *right*: keep all records of the *left* data frame, fill with empty values if\n",
    "  no match, keep *right* geometry column\n",
    "- *inner*: keep only records of matching records, keep *left* geometry column\n",
    "\n",
    "\n",
    ":::{tip}\n",
    "The [PyGIS\n",
    "book](https://pygis.io/docs/e_spatial_joins.html) has a great overview of\n",
    "spatial predicaments and join-types with explanatory drawings.\n",
    ":::\n",
    "\n",
    "\n",
    "---\n",
    "\n",
    "\n",
    "## Load input data\n",
    "\n",
    "As a practical example, let’s find the population density at each of the\n",
    "addresses from [earlier in this lesson](geocoding-in-geopandas), by combining\n",
    "the data set with data from a population grid.\n",
    "\n",
    "The population grid data is available from [HSY, the Helsinki Region\n",
    "Environmental\n",
    "Services](https://www.hsy.fi/en/environmental-information/open-data/), for\n",
    "instance via their WFS endpoint."
   ]
  },
  {
   "cell_type": "code",
   "execution_count": 2,
   "id": "3e936f80",
   "metadata": {},
   "outputs": [],
   "source": [
    "import pathlib \n",
    "NOTEBOOK_PATH = pathlib.Path().resolve()\n",
    "DATA_DIRECTORY = NOTEBOOK_PATH / \"data\""
   ]
  },
  {
   "cell_type": "code",
   "execution_count": 3,
   "id": "201931c8",
   "metadata": {},
   "outputs": [
    {
     "ename": "DriverError",
     "evalue": "C:\\developerZone\\clones\\autogis\\Lesson_transfer\\Lessons\\lesson-3\\data\\addresses.gpkg: No such file or directory",
     "output_type": "error",
     "traceback": [
      "\u001b[1;31m---------------------------------------------------------------------------\u001b[0m",
      "\u001b[1;31mCPLE_OpenFailedError\u001b[0m                      Traceback (most recent call last)",
      "File \u001b[1;32mfiona\\ogrext.pyx:136\u001b[0m, in \u001b[0;36mfiona.ogrext.gdal_open_vector\u001b[1;34m()\u001b[0m\n",
      "File \u001b[1;32mfiona\\_err.pyx:291\u001b[0m, in \u001b[0;36mfiona._err.exc_wrap_pointer\u001b[1;34m()\u001b[0m\n",
      "\u001b[1;31mCPLE_OpenFailedError\u001b[0m: C:\\developerZone\\clones\\autogis\\Lesson_transfer\\Lessons\\lesson-3\\data\\addresses.gpkg: No such file or directory",
      "\nDuring handling of the above exception, another exception occurred:\n",
      "\u001b[1;31mDriverError\u001b[0m                               Traceback (most recent call last)",
      "Cell \u001b[1;32mIn[3], line 7\u001b[0m\n\u001b[0;32m      3\u001b[0m \u001b[38;5;28;01mimport\u001b[39;00m \u001b[38;5;21;01mgeopandas\u001b[39;00m\n\u001b[0;32m      4\u001b[0m \u001b[38;5;66;03m#import ssl\u001b[39;00m\n\u001b[0;32m      5\u001b[0m \u001b[38;5;66;03m#ssl._create_default_https_context = ssl._create_unverified_context\u001b[39;00m\n\u001b[1;32m----> 7\u001b[0m addresses \u001b[38;5;241m=\u001b[39m \u001b[43mgeopandas\u001b[49m\u001b[38;5;241;43m.\u001b[39;49m\u001b[43mread_file\u001b[49m\u001b[43m(\u001b[49m\u001b[43mDATA_DIRECTORY\u001b[49m\u001b[43m \u001b[49m\u001b[38;5;241;43m/\u001b[39;49m\u001b[43m \u001b[49m\u001b[38;5;124;43m\"\u001b[39;49m\u001b[38;5;124;43maddresses.gpkg\u001b[39;49m\u001b[38;5;124;43m\"\u001b[39;49m\u001b[43m)\u001b[49m\n\u001b[0;32m      9\u001b[0m population_grid \u001b[38;5;241m=\u001b[39m geopandas\u001b[38;5;241m.\u001b[39mread_file(\n\u001b[0;32m     10\u001b[0m     (\n\u001b[0;32m     11\u001b[0m         \u001b[38;5;124m\"\u001b[39m\u001b[38;5;124mhttps://kartta.hsy.fi/geoserver/wfs\u001b[39m\u001b[38;5;124m\"\u001b[39m\n\u001b[1;32m   (...)\u001b[0m\n\u001b[0;32m     17\u001b[0m     ),\n\u001b[0;32m     18\u001b[0m )\n\u001b[0;32m     19\u001b[0m population_grid\u001b[38;5;241m.\u001b[39mcrs \u001b[38;5;241m=\u001b[39m crs\u001b[38;5;241m=\u001b[39m\u001b[38;5;124m\"\u001b[39m\u001b[38;5;124mEPSG:3879\u001b[39m\u001b[38;5;124m\"\u001b[39m  \u001b[38;5;66;03m# for WFS data, the CRS needs to be specified manually\u001b[39;00m\n",
      "File \u001b[1;32m~\\miniconda3\\envs\\autogis\\lib\\site-packages\\geopandas\\io\\file.py:297\u001b[0m, in \u001b[0;36m_read_file\u001b[1;34m(filename, bbox, mask, rows, engine, **kwargs)\u001b[0m\n\u001b[0;32m    294\u001b[0m     \u001b[38;5;28;01melse\u001b[39;00m:\n\u001b[0;32m    295\u001b[0m         path_or_bytes \u001b[38;5;241m=\u001b[39m filename\n\u001b[1;32m--> 297\u001b[0m     \u001b[38;5;28;01mreturn\u001b[39;00m _read_file_fiona(\n\u001b[0;32m    298\u001b[0m         path_or_bytes, from_bytes, bbox\u001b[38;5;241m=\u001b[39mbbox, mask\u001b[38;5;241m=\u001b[39mmask, rows\u001b[38;5;241m=\u001b[39mrows, \u001b[38;5;241m*\u001b[39m\u001b[38;5;241m*\u001b[39mkwargs\n\u001b[0;32m    299\u001b[0m     )\n\u001b[0;32m    301\u001b[0m \u001b[38;5;28;01melse\u001b[39;00m:\n\u001b[0;32m    302\u001b[0m     \u001b[38;5;28;01mraise\u001b[39;00m \u001b[38;5;167;01mValueError\u001b[39;00m(\u001b[38;5;124mf\u001b[39m\u001b[38;5;124m\"\u001b[39m\u001b[38;5;124munknown engine \u001b[39m\u001b[38;5;124m'\u001b[39m\u001b[38;5;132;01m{\u001b[39;00mengine\u001b[38;5;132;01m}\u001b[39;00m\u001b[38;5;124m'\u001b[39m\u001b[38;5;124m\"\u001b[39m)\n",
      "File \u001b[1;32m~\\miniconda3\\envs\\autogis\\lib\\site-packages\\geopandas\\io\\file.py:338\u001b[0m, in \u001b[0;36m_read_file_fiona\u001b[1;34m(path_or_bytes, from_bytes, bbox, mask, rows, where, **kwargs)\u001b[0m\n\u001b[0;32m    335\u001b[0m     reader \u001b[38;5;241m=\u001b[39m fiona\u001b[38;5;241m.\u001b[39mopen\n\u001b[0;32m    337\u001b[0m \u001b[38;5;28;01mwith\u001b[39;00m fiona_env():\n\u001b[1;32m--> 338\u001b[0m     \u001b[38;5;28;01mwith\u001b[39;00m reader(path_or_bytes, \u001b[38;5;241m*\u001b[39m\u001b[38;5;241m*\u001b[39mkwargs) \u001b[38;5;28;01mas\u001b[39;00m features:\n\u001b[0;32m    339\u001b[0m         crs \u001b[38;5;241m=\u001b[39m features\u001b[38;5;241m.\u001b[39mcrs_wkt\n\u001b[0;32m    340\u001b[0m         \u001b[38;5;66;03m# attempt to get EPSG code\u001b[39;00m\n",
      "File \u001b[1;32m~\\miniconda3\\envs\\autogis\\lib\\site-packages\\fiona\\env.py:457\u001b[0m, in \u001b[0;36mensure_env_with_credentials.<locals>.wrapper\u001b[1;34m(*args, **kwds)\u001b[0m\n\u001b[0;32m    454\u001b[0m     session \u001b[38;5;241m=\u001b[39m DummySession()\n\u001b[0;32m    456\u001b[0m \u001b[38;5;28;01mwith\u001b[39;00m env_ctor(session\u001b[38;5;241m=\u001b[39msession):\n\u001b[1;32m--> 457\u001b[0m     \u001b[38;5;28;01mreturn\u001b[39;00m f(\u001b[38;5;241m*\u001b[39margs, \u001b[38;5;241m*\u001b[39m\u001b[38;5;241m*\u001b[39mkwds)\n",
      "File \u001b[1;32m~\\miniconda3\\envs\\autogis\\lib\\site-packages\\fiona\\__init__.py:292\u001b[0m, in \u001b[0;36mopen\u001b[1;34m(fp, mode, driver, schema, crs, encoding, layer, vfs, enabled_drivers, crs_wkt, allow_unsupported_drivers, **kwargs)\u001b[0m\n\u001b[0;32m    289\u001b[0m     path \u001b[38;5;241m=\u001b[39m parse_path(fp)\n\u001b[0;32m    291\u001b[0m \u001b[38;5;28;01mif\u001b[39;00m mode \u001b[38;5;129;01min\u001b[39;00m (\u001b[38;5;124m\"\u001b[39m\u001b[38;5;124ma\u001b[39m\u001b[38;5;124m\"\u001b[39m, \u001b[38;5;124m\"\u001b[39m\u001b[38;5;124mr\u001b[39m\u001b[38;5;124m\"\u001b[39m):\n\u001b[1;32m--> 292\u001b[0m     colxn \u001b[38;5;241m=\u001b[39m Collection(\n\u001b[0;32m    293\u001b[0m         path,\n\u001b[0;32m    294\u001b[0m         mode,\n\u001b[0;32m    295\u001b[0m         driver\u001b[38;5;241m=\u001b[39mdriver,\n\u001b[0;32m    296\u001b[0m         encoding\u001b[38;5;241m=\u001b[39mencoding,\n\u001b[0;32m    297\u001b[0m         layer\u001b[38;5;241m=\u001b[39mlayer,\n\u001b[0;32m    298\u001b[0m         enabled_drivers\u001b[38;5;241m=\u001b[39menabled_drivers,\n\u001b[0;32m    299\u001b[0m         allow_unsupported_drivers\u001b[38;5;241m=\u001b[39mallow_unsupported_drivers,\n\u001b[0;32m    300\u001b[0m         \u001b[38;5;241m*\u001b[39m\u001b[38;5;241m*\u001b[39mkwargs\n\u001b[0;32m    301\u001b[0m     )\n\u001b[0;32m    302\u001b[0m \u001b[38;5;28;01melif\u001b[39;00m mode \u001b[38;5;241m==\u001b[39m \u001b[38;5;124m\"\u001b[39m\u001b[38;5;124mw\u001b[39m\u001b[38;5;124m\"\u001b[39m:\n\u001b[0;32m    303\u001b[0m     colxn \u001b[38;5;241m=\u001b[39m Collection(\n\u001b[0;32m    304\u001b[0m         path,\n\u001b[0;32m    305\u001b[0m         mode,\n\u001b[1;32m   (...)\u001b[0m\n\u001b[0;32m    314\u001b[0m         \u001b[38;5;241m*\u001b[39m\u001b[38;5;241m*\u001b[39mkwargs\n\u001b[0;32m    315\u001b[0m     )\n",
      "File \u001b[1;32m~\\miniconda3\\envs\\autogis\\lib\\site-packages\\fiona\\collection.py:243\u001b[0m, in \u001b[0;36mCollection.__init__\u001b[1;34m(self, path, mode, driver, schema, crs, encoding, layer, vsi, archive, enabled_drivers, crs_wkt, ignore_fields, ignore_geometry, include_fields, wkt_version, allow_unsupported_drivers, **kwargs)\u001b[0m\n\u001b[0;32m    241\u001b[0m \u001b[38;5;28;01mif\u001b[39;00m \u001b[38;5;28mself\u001b[39m\u001b[38;5;241m.\u001b[39mmode \u001b[38;5;241m==\u001b[39m \u001b[38;5;124m\"\u001b[39m\u001b[38;5;124mr\u001b[39m\u001b[38;5;124m\"\u001b[39m:\n\u001b[0;32m    242\u001b[0m     \u001b[38;5;28mself\u001b[39m\u001b[38;5;241m.\u001b[39msession \u001b[38;5;241m=\u001b[39m Session()\n\u001b[1;32m--> 243\u001b[0m     \u001b[38;5;28mself\u001b[39m\u001b[38;5;241m.\u001b[39msession\u001b[38;5;241m.\u001b[39mstart(\u001b[38;5;28mself\u001b[39m, \u001b[38;5;241m*\u001b[39m\u001b[38;5;241m*\u001b[39mkwargs)\n\u001b[0;32m    244\u001b[0m \u001b[38;5;28;01melif\u001b[39;00m \u001b[38;5;28mself\u001b[39m\u001b[38;5;241m.\u001b[39mmode \u001b[38;5;129;01min\u001b[39;00m (\u001b[38;5;124m\"\u001b[39m\u001b[38;5;124ma\u001b[39m\u001b[38;5;124m\"\u001b[39m, \u001b[38;5;124m\"\u001b[39m\u001b[38;5;124mw\u001b[39m\u001b[38;5;124m\"\u001b[39m):\n\u001b[0;32m    245\u001b[0m     \u001b[38;5;28mself\u001b[39m\u001b[38;5;241m.\u001b[39msession \u001b[38;5;241m=\u001b[39m WritingSession()\n",
      "File \u001b[1;32mfiona\\ogrext.pyx:588\u001b[0m, in \u001b[0;36mfiona.ogrext.Session.start\u001b[1;34m()\u001b[0m\n",
      "File \u001b[1;32mfiona\\ogrext.pyx:143\u001b[0m, in \u001b[0;36mfiona.ogrext.gdal_open_vector\u001b[1;34m()\u001b[0m\n",
      "\u001b[1;31mDriverError\u001b[0m: C:\\developerZone\\clones\\autogis\\Lesson_transfer\\Lessons\\lesson-3\\data\\addresses.gpkg: No such file or directory"
     ]
    }
   ],
   "source": [
    "#import os\n",
    "#os.environ['USE_PYGEOS'] = '0'\n",
    "import geopandas\n",
    "#import ssl\n",
    "#ssl._create_default_https_context = ssl._create_unverified_context\n",
    "\n",
    "addresses = geopandas.read_file(DATA_DIRECTORY / \"addresses.gpkg\")\n",
    "\n",
    "population_grid = geopandas.read_file(\n",
    "    (\n",
    "        \"https://kartta.hsy.fi/geoserver/wfs\"\n",
    "        \"?service=wfs\"\n",
    "        \"&version=2.0.0\"\n",
    "        \"&request=GetFeature\"\n",
    "        \"&typeName=asuminen_ja_maankaytto:Vaestotietoruudukko_2020\"\n",
    "        \"&srsName=EPSG:3879\"\n",
    "    ),\n",
    ")\n",
    "population_grid.crs = \"EPSG:3879\"  # for WFS data, the CRS needs to be specified manually"
   ]
  },
  {
   "cell_type": "markdown",
   "id": "e09621b3",
   "metadata": {},
   "source": [
    ":::{admonition} Concatenating long strings\n",
    ":class: note\n",
    "\n",
    "In the WFS address above, we split a long string across multiple lines. Strings\n",
    "between parentheses are automatically concatenated (joint together), even\n",
    "without any operator (e.g., `+`).\n",
    "\n",
    "For the sake of clarity, the example has an additional set of parentheses, but\n",
    "already the parentheses of the method call would suffice.\n",
    ":::\n",
    "\n",
    "\n",
    "---"
   ]
  },
  {
   "cell_type": "code",
   "execution_count": null,
   "id": "6e48a22a",
   "metadata": {},
   "outputs": [],
   "source": []
  },
  {
   "cell_type": "markdown",
   "id": "c77269ea",
   "metadata": {},
   "source": [
    "The population grid has many columns, and all of its column names are in\n",
    "Finnish. Let’s drop (delete) all of the columns except the population total,\n",
    "and rename the remaining to English:"
   ]
  },
  {
   "cell_type": "code",
   "execution_count": null,
   "id": "d0846c6c",
   "metadata": {},
   "outputs": [],
   "source": []
  },
  {
   "cell_type": "markdown",
   "id": "5d84ffd3",
   "metadata": {},
   "source": [
    "Finally, calculate the population density by dividing the number of inhabitants\n",
    "of each grid cell by its area in km²:"
   ]
  },
  {
   "cell_type": "code",
   "execution_count": null,
   "id": "4c1addee",
   "metadata": {},
   "outputs": [],
   "source": []
  },
  {
   "cell_type": "markdown",
   "id": "db2f23c2",
   "metadata": {},
   "source": [
    ":::{admonition} Coding style: big numbers, operators in multi-line expressions\n",
    ":class: tip\n",
    "\n",
    "If you need to use very large numbers, such as, in the above example, the *1\n",
    "million* to convert m² to km², you can use underscore characters (`_`) as\n",
    "thousands separators. The Python interpreter will treat a sequence of numbers\n",
    "interleaved with underscores as a regular numeric value.\n",
    "[You can use the same syntax to group\n",
    "numbers](https://peps.python.org/pep-0515/) by a different logic, for instance,\n",
    "to group hexadecimal or binary values into groups of four.\n",
    "\n",
    "In case an expression, such as, e.g., a mathematical formula, spreads across\n",
    "multiple lines, it is considered good coding style to place an operator at the\n",
    "beginning of a new line, rather than let it trail in the previous line. This is\n",
    "considered more readable, as explained in the [PEP-8 styling\n",
    "guidelines](https://peps.python.org/pep-0008/#should-a-line-break-before-or-after-a-binary-operator)\n",
    ":::\n",
    "\n",
    "\n",
    "---\n",
    "\n",
    "\n",
    "## Join input layers\n",
    "\n",
    "\n",
    "Now we are ready to perform the spatial join between the two layers.\n",
    "Remember: the aim is to find the population density around each of the address\n",
    "points. We want to attach population density information from the\n",
    "`population_grid` polygon layer to the `addresses` point layer, depending on\n",
    "whether the **point is within the polygon**. During this operation, we want to\n",
    "**retain the geometries of the point layer**.\n",
    "\n",
    "Before we can go ahead with the join operation, we have to make sure the two\n",
    "layers are in the same cartographic reference system:"
   ]
  },
  {
   "cell_type": "code",
   "execution_count": null,
   "id": "4183201e",
   "metadata": {
    "tags": [
     "raises-exception"
    ]
   },
   "outputs": [],
   "source": []
  },
  {
   "cell_type": "markdown",
   "id": "44db105e",
   "metadata": {},
   "source": [
    "They do not share the same CRS, let’s reproject one of them:"
   ]
  },
  {
   "cell_type": "code",
   "execution_count": null,
   "id": "1a1f9002",
   "metadata": {},
   "outputs": [],
   "source": []
  },
  {
   "cell_type": "markdown",
   "id": "ddc91b2c",
   "metadata": {},
   "source": [
    "Now we are ready to carry out the actual spatial join using the\n",
    "[`geopandas.GeoDataFrame.sjoin()`](https://geopandas.org/en/stable/docs/reference/api/geopandas.GeoDataFrame.sjoin.html)\n",
    "method. Remember, we want to use a *within* geometric predicate and retain the\n",
    "point layer’s geometries (in the example below the *left* data frame)."
   ]
  },
  {
   "cell_type": "code",
   "execution_count": null,
   "id": "7a3b15bf",
   "metadata": {},
   "outputs": [],
   "source": []
  },
  {
   "cell_type": "markdown",
   "id": "c4d31277",
   "metadata": {},
   "source": [
    "That looks great! We now have an address data set with population density\n",
    "information attached to it. \n",
    "\n",
    "\n",
    "---\n",
    "\n",
    "\n",
    "As a final task, let’s look at how to plot data using a *graduated*\n",
    "cartographic visualisation scheme. \n",
    "\n",
    "The `geopandas.GeoDataFrame.plot()` method can vary the map colours depending on a column’s values by passing its name as a named argument `column`. On top of that, the method accepts many arguments to influence the style of the map. Among them are `scheme` and `cmap` that define the [categorisation scheme](https://geopandas.org/en/stable/gallery/choropleths.html), and the [colour map](https://matplotlib.org/stable/tutorials/colors/colormaps.html) used. Many more arguments are passed through to `matplotlib`, such as `markersize` to set the size of point symbols, and `facecolor` to set the colour of polygon areas. To draw a legend, set `legend` to `True`, to set the size of the figure, pass a tuple (with values in inch) as `figsize`."
   ]
  },
  {
   "cell_type": "code",
   "execution_count": null,
   "id": "f6faccfa",
   "metadata": {},
   "outputs": [],
   "source": []
  },
  {
   "cell_type": "markdown",
   "id": "b091f550",
   "metadata": {},
   "source": [
    "We can apply the same arguments to plot a population density map using the\n",
    "entire `population_grid` data set:"
   ]
  },
  {
   "cell_type": "code",
   "execution_count": null,
   "id": "267e901b",
   "metadata": {},
   "outputs": [],
   "source": [
    "ax = population_grid.plot(\n",
    "    figsize=(10, 10),\n",
    "    column=\"population_density\",\n",
    "    cmap=\"Reds\",\n",
    "    scheme=\"quantiles\",\n",
    "    legend=True\n",
    ")\n",
    "ax.set_title(\"Population density in the Helsinki metropolitan area\")"
   ]
  },
  {
   "cell_type": "markdown",
   "id": "cd3208c9",
   "metadata": {},
   "source": [
    "Finally, remember to save the output data frame to a file. We can append it to\n",
    "the existing *GeoPackage* by specifying a new layer name:"
   ]
  },
  {
   "cell_type": "code",
   "execution_count": null,
   "id": "c3b46f1a",
   "metadata": {},
   "outputs": [],
   "source": [
    "addresses_with_population_data.to_file(\n",
    "    DATA_DIRECTORY / \"addresses.gpkg\",\n",
    "    layer=\"addresses_with_population_data\"\n",
    ")"
   ]
  }
 ],
 "metadata": {
  "kernelspec": {
   "display_name": "Python 3 (ipykernel)",
   "language": "python",
   "name": "python3"
  },
  "language_info": {
   "codemirror_mode": {
    "name": "ipython",
    "version": 3
   },
   "file_extension": ".py",
   "mimetype": "text/x-python",
   "name": "python",
   "nbconvert_exporter": "python",
   "pygments_lexer": "ipython3",
   "version": "3.10.12"
  }
 },
 "nbformat": 4,
 "nbformat_minor": 5
}
