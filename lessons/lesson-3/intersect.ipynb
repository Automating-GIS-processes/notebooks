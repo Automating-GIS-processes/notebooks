{
 "cells": [
  {
   "cell_type": "markdown",
   "id": "ddd238f0",
   "metadata": {},
   "source": [
    "# Intersect\n",
    " \n",
    "Similar to the spatial relationships `within` and `contains` covered in the [previous section](point-in-polygon-queries), another common geospatial query asks whether two geometries intersect or touch.\n",
    "\n",
    "Both queries are implemented in `shapely`:\n",
    "- [`intersects()`](https://shapely.readthedocs.io/en/stable/manual.html#object.intersects): two objects intersect if the boundary or interior of one object intersect in any way with the boundary or interior of the other object.\n",
    "- [`touches()`](https://shapely.readthedocs.io/en/stable/manual.html#object.touches): two objects touch if the objects have at least one point in common, but their interiors do not intersect with any part of the other object.\n",
    "\n",
    "Let’s try these functions out, for instance, using two lines:"
   ]
  },
  {
   "cell_type": "code",
   "execution_count": null,
   "id": "12073ab7",
   "metadata": {},
   "outputs": [],
   "source": []
  },
  {
   "cell_type": "code",
   "execution_count": null,
   "id": "19888c52",
   "metadata": {},
   "outputs": [],
   "source": []
  },
  {
   "cell_type": "markdown",
   "id": "03d06fee",
   "metadata": {},
   "source": [
    "The lines intersect. Do they also touch?"
   ]
  },
  {
   "cell_type": "code",
   "execution_count": null,
   "id": "14292d67",
   "metadata": {},
   "outputs": [],
   "source": []
  },
  {
   "cell_type": "markdown",
   "id": "53397772",
   "metadata": {},
   "source": [
    "`line1` touches `line2`. Adding them both to a multi-line is a quick way of\n",
    "drawing them inside a Jupyter notebook:"
   ]
  },
  {
   "cell_type": "code",
   "execution_count": null,
   "id": "e84e89b7",
   "metadata": {},
   "outputs": [],
   "source": []
  },
  {
   "cell_type": "markdown",
   "id": "986f5d21",
   "metadata": {},
   "source": [
    "We can see here, that the share the point `(1, 1)`, in which `line1` ends, and\n",
    "`line2` begins. The two lines do not intersect otherwise (‘in their interior’),\n",
    "so the predicament ’`touch()`’ - as defined above - is true.\n",
    "\n",
    "If the lines would share some of their interior, the would not be counted as\n",
    "touching. For instance, `line1` does not touch `line1` (itself), but fulfils\n",
    "all requirements to be counted as `intersect()`ing with itself:"
   ]
  },
  {
   "cell_type": "code",
   "execution_count": null,
   "id": "6f8723c7",
   "metadata": {},
   "outputs": [],
   "source": []
  },
  {
   "cell_type": "code",
   "execution_count": null,
   "id": "0065f62e",
   "metadata": {},
   "outputs": [],
   "source": []
  }
 ],
 "metadata": {
  "kernelspec": {
   "display_name": "Python 3 (ipykernel)",
   "language": "python",
   "name": "python3"
  },
  "language_info": {
   "codemirror_mode": {
    "name": "ipython",
    "version": 3
   },
   "file_extension": ".py",
   "mimetype": "text/x-python",
   "name": "python",
   "nbconvert_exporter": "python",
   "pygments_lexer": "ipython3",
   "version": "3.10.8"
  }
 },
 "nbformat": 4,
 "nbformat_minor": 5
}
