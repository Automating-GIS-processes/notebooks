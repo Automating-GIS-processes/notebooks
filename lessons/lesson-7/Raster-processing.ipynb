{
 "cells": [
  {
   "cell_type": "markdown",
   "id": "5aa8848e-7f92-4b29-9275-e98ff673bb31",
   "metadata": {},
   "source": [
    "# Processing and Analysis of Raster Data\n",
    "\n",
    "In the first part of our lesson, we reviewed the basics of raster files and explored how to read and work with both single-band and multiband raster files, as well as retrieve raster images via WMS. Now, in the second part of the lesson, we will focus on how to process and analyze raster data. Specifically, we will cover:\n",
    "\n",
    "- Merging multiple raster files to create a `raster mosaic`\n",
    "- Clipping rasters using a polygon\n",
    "- Reclassifying raster data\n",
    "- Performing `slope` analysis\n",
    "\n",
    "For this part of the lesson, we will continue using the elevation model data provided by the [National Land Survey of Finland](https://www.maanmittauslaitos.fi/en/maps-and-spatial-data/datasets-and-interfaces/product-descriptions/elevation-model-2-m). This time, we will work with all four raster tiles (L4133A, L4133B, L4133C, L4133D), which cover parts of Helsinki's city center. These tiles have already been downloaded to the `data` directory and will be used in this lesson.\n",
    "\n",
    "Now let's read all four raster tiles and visualize them using subplots.   "
   ]
  },
  {
   "cell_type": "code",
   "execution_count": null,
   "id": "587fb42b-074c-4fcf-bf82-d00084d4e97d",
   "metadata": {},
   "outputs": [],
   "source": [
    "import rioxarray\n",
    "import matplotlib.pyplot as plt\n",
    "\n",
    "# Load the rasters and reproject them to EPSG:3067\n",
    "raster1 = rioxarray.open_rasterio('data/L4133A.tif').rio.reproject(\"EPSG:3067\")\n",
    "raster2 = rioxarray.open_rasterio('data/L4133B.tif').rio.reproject(\"EPSG:3067\")\n",
    "raster3 = rioxarray.open_rasterio('data/L4133C.tif').rio.reproject(\"EPSG:3067\")\n",
    "raster4 = rioxarray.open_rasterio('data/L4133D.tif').rio.reproject(\"EPSG:3067\")\n",
    "\n",
    "# Create a subplot with 2x2 grid\n",
    "fig, axes = plt.subplots(2, 2, figsize=(12, 10))\n",
    "\n",
    "# Plot each raster in a separate subplot\n",
    "raster1.plot(ax=axes[0, 0], cmap='viridis')\n",
    "axes[0, 0].set_title('Raster 1 (L4133A)')\n",
    "\n",
    "raster2.plot(ax=axes[0, 1], cmap='viridis')\n",
    "axes[0, 1].set_title('Raster 2 (L4133B)')\n",
    "\n",
    "raster3.plot(ax=axes[1, 0], cmap='viridis')\n",
    "axes[1, 0].set_title('Raster 3 (L4133C)')\n",
    "\n",
    "raster4.plot(ax=axes[1, 1], cmap='viridis')\n",
    "axes[1, 1].set_title('Raster 4 (L4133D)')\n",
    "\n",
    "# Adjust layout\n",
    "plt.tight_layout()\n",
    "plt.show()"
   ]
  },
  {
   "cell_type": "markdown",
   "id": "31adafe5-6842-42c4-910d-17fd4d1c6129",
   "metadata": {},
   "source": [
    "<div style=\"border-left: 4px solid #f39c12; background-color: #fdf6e3; padding: 15px; margin: 20px 0;\">\n",
    "    <strong>Note:</strong> We are again using <code>matplotlib</code> for visualization of our raster datasets. Everything we’ve previously learned about visualization with <code>matplotlib</code> and styling still applies here. We have extensively used <code>matplotlib</code> during the \n",
    "    <a href=\"https://geo-python-site.readthedocs.io/en/latest/lessons/L7/python-plotting.html\" target=\"_blank\">GeoPython Lesson 7</a> and throughout this course, especially in \n",
    "    <a href=\"https://autogis-site.readthedocs.io/en/latest/lessons/lesson-5/static-maps.html\" target=\"_blank\">Lesson 5</a> where we focused on creating static maps.\n",
    "</div>\n"
   ]
  },
  {
   "cell_type": "markdown",
   "id": "b2f614d5-225b-4836-82ba-91944dc97026",
   "metadata": {},
   "source": [
    "As you can see, the four raster tiles cover adjacent areas in the Helsinki city center. However, they are still separate files! In the next step, we will merge these tiles into a single raster mosaic, creating a seamless representation that covers the entire central area of Helsinki."
   ]
  },
  {
   "cell_type": "markdown",
   "id": "abbc9a6a-6c7d-4286-b3f3-ecdc2a5e8558",
   "metadata": {},
   "source": [
    "### Create raster mosaic \n",
    "\n",
    "Raster files are usualy large in size, therefor it is quite common for providers to publish them in smaller pieces or tiles. While this makes it easier to transfer the data, it may not be so practical when it comes to the actual analysis. For example, as seen above, the elevation model from center of Helsinki is divided into 4 separate raster files. \n",
    "\n",
    "Now we want to merge multiple raster files together and create a raster mosaic. This can be done with the `merge_arrays()` -function in `rioxarray`.\n",
    "\n",
    "> **Aligning raster tiles** <br>\n",
    ">  In our case, the raster files are coming from the same source, and are actually pieces of a larger data. If that was not the case, it would have been a good idea to start by aligning our raster tiles, ensuring that they can be combined without alignment problems. The `Align` function helps align your raster files in terms of resolution, projection, and spatial extent ([docs.xarray](https://docs.xarray.dev/en/stable/generated/xarray.align.html)).\n",
    ">\n",
    "> ```python\n",
    "> import xarray as xr\n",
    "> # Ensure all rasters have the same CRS\n",
    "> assert raster1.rio.crs == raster2.rio.crs == raster3.rio.crs == raster4.rio.crs, \"Rasters have different CRS\"\n",
    ">\n",
    "> # Align the rasters to the same resolution and spatial extent\n",
    "> raster1, raster2 = xr.align(raster1, raster2)\n",
    "> raster3, raster4 = xr.align(raster3, raster4)\n",
    "> ```\n",
    "\n",
    "\n",
    "Now let's merge our data:"
   ]
  },
  {
   "cell_type": "code",
   "execution_count": null,
   "id": "3ec0b8fe-1f6b-4ed7-9f69-72ce9be8340d",
   "metadata": {},
   "outputs": [],
   "source": []
  },
  {
   "cell_type": "markdown",
   "id": "d86a4cad-2575-4f97-9d6c-689cc34f65b7",
   "metadata": {},
   "source": [
    "### Clipping raster using a polygon\n",
    "\n",
    "Clipping a raster using vector data (i.e., a polygon) is another common operation with raster data. In this part of lesson, we use wfs to get the administrative boundaries in Helsinki area. "
   ]
  },
  {
   "cell_type": "code",
   "execution_count": null,
   "id": "75315d39-14d8-4c27-9863-f41144beae16",
   "metadata": {},
   "outputs": [],
   "source": [
    "from owslib.wfs import WebFeatureService\n",
    "import geopandas as gpd\n",
    "\n",
    "# Define the bounding box for Helsinki (EPSG:3879)\n",
    "bbox_helsinki = \"25400000,6670000,25500000,6680000\"\n",
    "\n",
    "# Fetch the Paavo data limited to the Helsinki area using WFS\n",
    "paavo_data_helsinki = gpd.read_file(\n",
    "    \"https://geo.stat.fi/geoserver/wfs\"\n",
    "    \"?service=wfs\"\n",
    "    \"&version=2.0.0\"\n",
    "    \"&request=GetFeature\"\n",
    "    \"&typeName=postialue:pno\"  # Adjust to the correct layer if needed\n",
    "    \"&srsName=EPSG:3879\"\n",
    "    f\"&bbox={bbox_helsinki},EPSG:3879\"\n",
    ")\n",
    "\n",
    "# Display the first few rows of the data\n",
    "paavo_data_helsinki.head()\n",
    "\n",
    "# Save to a file if needed\n",
    "# paavo_data_helsinki.to_file(\"paavo_data_helsinki.gpkg\", driver=\"GPKG\")\n"
   ]
  },
  {
   "cell_type": "markdown",
   "id": "acd2866b-f363-4e46-b60b-885cd93c8bae",
   "metadata": {},
   "source": [
    "Now we can use the contents of the column *posti_alue* to select a ppostal area of our choice. Let's try Kamppi; we know that the postal code for Kamppi is `00100`."
   ]
  },
  {
   "cell_type": "code",
   "execution_count": null,
   "id": "d61804b3-79da-46ad-823f-8f5f237f97db",
   "metadata": {},
   "outputs": [],
   "source": [
    "# Select Kamppi polygon based on postal code\n",
    "kamppi = paavo_data_helsinki[paavo_data_helsinki['posti_alue'] == '00100']\n",
    "\n",
    "# Transfrom the polygon to the same CRS as our raster data\n"
   ]
  },
  {
   "cell_type": "markdown",
   "id": "7d425042-efc0-4447-af5c-ba7bbde5b8f5",
   "metadata": {},
   "source": [
    "> **Note:**\n",
    "> Similar to other map overlay analyses, it is essential to ensure that the CRS (Coordinate Reference System) of the raster files and the clipping feature are matching."
   ]
  },
  {
   "cell_type": "markdown",
   "id": "e349536c-9d40-4d21-b1e0-ac1edfb3cfc2",
   "metadata": {},
   "source": [
    "Once again, let's make sure that the CRS are matching and then let's proceed with the clipping. "
   ]
  },
  {
   "cell_type": "code",
   "execution_count": null,
   "id": "c1a5aee8-e3c8-4d0b-bc06-f5b97e782e31",
   "metadata": {},
   "outputs": [],
   "source": [
    "# Double check that the CRS match\n",
    "assert raster1.rio.crs == kamppi.crs , \"CRS Mismatch\"\n",
    "\n",
    "# Clip the raster using the Kamppi polygon\n",
    "\n",
    "\n",
    "# Save the clipped raster (optional)\n",
    "# clipped_mosaic.rio.to_raster(\"clipped_mosaic_kamppi.tif\")\n",
    "\n"
   ]
  },
  {
   "cell_type": "code",
   "execution_count": null,
   "id": "f06076a5-a97a-44e1-93f3-3179f679d70b",
   "metadata": {},
   "outputs": [],
   "source": [
    "# masking nodata values\n"
   ]
  },
  {
   "cell_type": "markdown",
   "id": "9309e643-b1a1-41e7-964b-762df62404d1",
   "metadata": {},
   "source": [
    "> ### The function `np.where` in NumPy\n",
    "> The **`np.where`** function in NumPy is a conditional function that allows you to select elements from an array based on a condition. It can be thought of as an element-wise if-else for arrays.\n",
    "> \n",
    "> #### Basic Syntax\n",
    "> ```python\n",
    "> np.where(condition, x, y)\n",
    "> ```\n",
    "> - **`condition`**: A boolean array or condition that’s checked for each element.\n",
    "> - **`x`**: The value (or array) to use when the condition is `True`.\n",
    "> - **`y`**: The value (or array) to use when the condition is `False`.\n",
    ">\n",
    "> For each element, if the `condition` is `True`, `np.where` returns the corresponding value from `x`; otherwise, it returns the corresponding value from `y`.\n",
    "> \n",
    "> #### Example\n",
    "> Here's a simple example to clarify how it works:\n",
    "> ```python\n",
    "> import numpy as np\n",
    ">\n",
    "> arr = np.array([1, -2, 3, -4, 5])\n",
    "> result = np.where(arr > 0, arr, 0)\n",
    "> print(result)\n",
    "> ```\n",
    "> **Output:**\n",
    "> ```\n",
    "> [1, 0, 3, 0, 5]\n",
    "> ```\n",
    "> In this case:\n",
    "> - The condition `arr > 0` checks if each element is positive.\n",
    "> - Where the condition is `True` (for positive numbers), `np.where` returns the original `arr` value.\n",
    "> - Where the condition is `False` (for negative numbers), it returns `0`.\n",
    "> \n",
    "> #### Practical Uses\n",
    "> `np.where` is often used for:\n",
    "> - **Masking values** in an array (e.g., setting invalid values to NaN).\n",
    "> - **Conditional selection** in data processing and filtering.\n",
    "> - **Replacing values** in an array based on certain conditions."
   ]
  },
  {
   "cell_type": "markdown",
   "id": "e6a02340-bc8d-4e98-a9d5-114f999fcaf8",
   "metadata": {},
   "source": [
    "## Raster reclassification\n",
    "\n",
    "**Raster reclassification** is another common procedure with raster dataset. Raster reclassification is the process of assigning new values to the pixels of a raster dataset based on their existing values. This is often used to simplify or categorize continuous data, such as elevation or land cover, into distinct classes. For example, in an elevation map, reclassification can group different elevation ranges into categories like \"low\", \"medium\", and \"high\" altitude, making it easier to analyze or visualize the data for specific applications such as hazard assessment or land management.\n",
    "\n",
    "let's first have a look at the range of values (altitudes) in our raster data:"
   ]
  },
  {
   "cell_type": "code",
   "execution_count": null,
   "id": "cfa4ecaf-8196-4b6c-9c7e-fcc492977722",
   "metadata": {},
   "outputs": [],
   "source": [
    "# Check the data range\n",
    "print(clipped_raster.min().values, clipped_raster.max().values)"
   ]
  },
  {
   "cell_type": "markdown",
   "id": "21326021-86d9-4562-b851-dd1ff1a8fa51",
   "metadata": {},
   "source": [
    "Now we want to reclassify our data using two approaches. First, let's do it manually using the `numpy` library. **[NumPy](https://numpy.org/doc/)** is a powerful Python library used for numerical and scientific computing. It provides support for large, multi-dimensional arrays and matrices, along with a wide collection of mathematical functions to operate on these arrays efficiently. So basically here, we are treating our pixel values as an `Array` and do the calculations accordingly. "
   ]
  },
  {
   "cell_type": "markdown",
   "id": "95325dea-a271-47ea-85a7-629824453fed",
   "metadata": {},
   "source": [
    "> **Note:**\n",
    "> An **array** (such as those created by NumPy) is a multi-dimensional container for data, but it lacks metadata like coordinate labels or attributes. In contrast, an **xarray.DataArray** enhances the array by adding labeled dimensions, coordinates, and attributes, making it easier to work with multi-dimensional data, especially in geospatial and time-series contexts.\n"
   ]
  },
  {
   "cell_type": "code",
   "execution_count": null,
   "id": "fe7dfc1a-d61f-4ce8-85ee-3a725e36e9c8",
   "metadata": {},
   "outputs": [],
   "source": [
    "import numpy as np\n",
    "import xarray as xr\n",
    "import matplotlib.pyplot as plt\n",
    "\n",
    "# Define the bins and new class values\n",
    "bins = [-10, 10, 20, np.inf]  # Bins for elevation\n",
    "new_values = [1, 2, 3]  # Class values: 1 for Low, 2 for Mid, 3 for High\n",
    "\n",
    "# Mask out NaN values before reclassification\n",
    "masked_raster = np.where(~np.isnan(clipped_raster), clipped_raster, np.nan)\n",
    "\n",
    "# Apply the reclassification\n",
    "reclassified_raster = np.digitize(masked_raster, bins, right=True)\n",
    "\n",
    "# Retain NaN values by ensuring they are not reclassified\n",
    "reclassified_raster = np.where(~np.isnan(clipped_raster), reclassified_raster, np.nan)\n",
    "\n",
    "# Convert to an xarray DataArray\n",
    "reclassified_raster = xr.DataArray(\n",
    "    reclassified_raster,\n",
    "    dims=clipped_raster.dims,  # Keep the same dimensions\n",
    "    coords=clipped_raster.coords,  # Retain the spatial coordinates\n",
    "    attrs=clipped_raster.attrs  # Preserve the original attributes\n",
    ")\n",
    "\n",
    "# Plot using xarray's plot method\n",
    "plot = reclassified_raster.plot(cmap=plt.matplotlib.colors.ListedColormap(['blue', 'green', 'brown']))\n",
    "\n",
    "# Set only the ticks [1, 2, 3] on the colorbar\n",
    "colorbar = plot.colorbar\n",
    "colorbar.set_ticks([1, 2, 3])\n",
    "colorbar.set_ticklabels(['Low', 'Mid', 'High'])  # Rename the labels\n",
    "colorbar.set_label(\"Elevation class\")\n",
    "\n",
    "plt.title(\"Classified elevation\")\n",
    "plt.show()"
   ]
  },
  {
   "cell_type": "markdown",
   "id": "84a82049-514d-4641-a46f-04ef98e553a3",
   "metadata": {},
   "source": [
    "> **Note:**\n",
    "> When using `np.digitize()`, the function returns indices of the bins, starting from `1`. This means the output will not directly contain the desired reclassified values. To map the bin indices to the actual values, you need to create a mapping, such as using a list comprehension to convert the indices into the specified new values. Don't forget to subtract `1` from the indices because Python lists are zero-indexed, while `np.digitize()` starts indexing at `1`.\n"
   ]
  },
  {
   "cell_type": "code",
   "execution_count": null,
   "id": "2fd0ded0-7db5-44e5-859c-2339c7321d80",
   "metadata": {},
   "outputs": [],
   "source": [
    "import numpy as np\n",
    "import xarray as xr\n",
    "import matplotlib.pyplot as plt\n",
    "\n",
    "# Define the bins and new class values\n",
    "bins = [-10, 10, 20, np.inf]  # Bins for elevation\n",
    "new_values = [4, 5, 7]  # Class values: 1 for Low, 2 for Mid, 3 for High\n",
    "\n",
    "# Mask out NaN values before reclassification\n",
    "masked_raster = np.where(~np.isnan(clipped_raster), clipped_raster, np.nan)\n",
    "\n",
    "# Apply the reclassification\n",
    "reclassified_raster = np.digitize(masked_raster, bins, right=True)\n",
    "\n",
    "# Retain NaN values by ensuring they are not reclassified\n",
    "reclassified_raster = np.where(~np.isnan(clipped_raster), reclassified_raster, np.nan)\n",
    "\n",
    "# Convert to an xarray DataArray\n",
    "reclassified_raster = xr.DataArray(\n",
    "    reclassified_raster,\n",
    "    dims=clipped_raster.dims,  # Keep the same dimensions\n",
    "    coords=clipped_raster.coords,  # Retain the spatial coordinates\n",
    "    attrs=clipped_raster.attrs  # Preserve the original attributes\n",
    ")\n",
    "\n",
    "# Plot using xarray's plot method\n",
    "plot = reclassified_raster.plot(cmap=plt.matplotlib.colors.ListedColormap(['blue', 'green', 'brown']))\n",
    "\n",
    "# Set only the ticks [1, 2, 3] on the colorbar\n",
    "colorbar = plot.colorbar\n",
    "colorbar.set_ticks([1, 2, 3])\n",
    "#colorbar.set_ticklabels(['Low', 'Mid', 'High'])  # Rename the labels\n",
    "colorbar.set_label(\"Elevation class\")\n",
    "\n",
    "plt.title(\"Classified elevation\")\n",
    "plt.show()\n"
   ]
  },
  {
   "cell_type": "markdown",
   "id": "9bea88fb-5431-4afb-8c43-bbebaa51d3e6",
   "metadata": {},
   "source": [
    "We can use the `mapclassify` library which we learned about in Lesson 4, to reclassify our raster. Let's Try *NaturalBreaks* method here.  "
   ]
  },
  {
   "cell_type": "code",
   "execution_count": null,
   "id": "cedf187b-1e31-4ff1-87e6-c7741d19759d",
   "metadata": {},
   "outputs": [],
   "source": [
    "import numpy as np\n",
    "import xarray as xr\n",
    "import mapclassify\n",
    "\n",
    "# Flatten the raster data and store the original shape\n",
    "raster_data_flattened = clipped_raster.values.flatten()\n",
    "original_shape = clipped_raster.shape\n",
    "\n",
    "# Create a mask for NaN values and remove NaNs for classification\n",
    "nan_mask = np.isnan(raster_data_flattened)\n",
    "raster_data_no_nan = raster_data_flattened[~nan_mask]\n",
    "\n",
    "# Apply Natural Breaks classification with 7 classes\n",
    "natural_breaks = mapclassify.NaturalBreaks(raster_data_no_nan, k=7)\n",
    "\n",
    "# Get the classified bins\n",
    "breaks = natural_breaks.bins\n",
    "\n",
    "# Classify the non-NaN raster values\n",
    "classified_raster = np.digitize(raster_data_no_nan, bins=breaks)\n",
    "\n",
    "# Create an array to hold the full reclassified data\n",
    "reclassified_full_raster = np.full_like(raster_data_flattened, np.nan)\n",
    "\n",
    "# Insert the classified data back, keeping NaNs in place\n",
    "reclassified_full_raster[~nan_mask] = classified_raster\n",
    "\n",
    "# Reshape the reclassified raster to its original shape\n",
    "reclassified_full_raster = reclassified_full_raster.reshape(original_shape)\n",
    "\n",
    "# Convert to xarray DataArray\n",
    "reclassified_raster_nb = xr.DataArray(\n",
    "    reclassified_full_raster,\n",
    "    dims=clipped_raster.dims,\n",
    "    coords=clipped_raster.coords,\n",
    "    attrs=clipped_raster.attrs\n",
    ")\n",
    "\n",
    "# Plot the reclassified raster\n",
    "reclassified_raster_nb.plot()\n"
   ]
  },
  {
   "cell_type": "markdown",
   "id": "9ccd9fdb-aca4-4a31-b4c1-54780299eeba",
   "metadata": {},
   "source": [
    "<div style=\"border: 2px solid #f39c12; padding: 15px; background-color: #fdf6e3;\"> \n",
    "    <strong>Raster reclassification and NaN values</strong> <br>When reclassifying raster data, it's crucial to handle null values (NaNs) carefully. \n",
    "    If not properly masked, NaN values can be incorrectly classified, leading to erroneous results. Always ensure \n",
    "    that NaN values are preserved or treated appropriately to avoid classification issues and maintain accurate analysis.\n",
    "</div>\n"
   ]
  },
  {
   "cell_type": "markdown",
   "id": "fb7e218e-1810-4647-a954-06a18d04f8d6",
   "metadata": {},
   "source": [
    "## Slope analysis\n",
    "\n",
    "**Slope analysis** is a key terrain analysis technique used in GIS and spatial analysis to measure the steepness or incline of the terrain at any given point. It is calculated by examining the rate of change in elevation between neighboring pixels in a digital elevation model (DEM). Slope analysis helps identify areas with steep gradients, which is useful in applications like land-use planning, erosion risk assessment, hydrological modeling, and infrastructure development. The slope is typically expressed in degrees or as a percentage.\n",
    "\n",
    "Of course, we can perform slope analysis anywhere, including on the Helsinki city center raster we worked with earlier. However, for this course's purpose, it will be more interesting to calculate it for an area with more elevation variation. Since Finland is generally quite flat, we need to look further north to find terrain that is more elevation-wise interesting for slope analysis. For this purpose, we are heading to [Ylläs](https://en.wikipedia.org/wiki/Yll%C3%A4s) in Lapland, located in the northern part of Finland. Ylläs is a fell, or mountainous hill, and offers more diverse elevation changes, making it ideal for our slope analysis!\n",
    "\n",
    "<div style=\"border-left: 4px solid #3498db; background-color: #f0f8ff; padding: 15px; margin: 20px 0;\">\n",
    "    <h3>About Ylläs</h3>\n",
    "    <p>Ylläs is one of the highest fells in Finland, standing at 718 meters. It is located in the Pallas-Yllästunturi National Park and is a popular destination for outdoor activities such as hiking and skiing. Ylläs is known for its stunning natural landscapes, including vast forests, pristine lakes, and dramatic fells that rise above the surrounding terrain.</p>\n",
    "    <img src=\"fig/yllas.jpg\" alt=\"Raster Data Representation\" style=\"max-width:100%; height:auto;\">\n",
    "    <p><em>Image Source: <a href=\"https://en.wikipedia.org/wiki/Yll%C3%A4s\" target=\"_blank\">Wikipedia - Ylläs</a> - <a href=\"https://www.metsa.fi/en/responsible-business/kiinteistokauppa-eng/business-sites/spectacular-yllas/\" target=\"_blank\">Metsähallitus</a></em></p>\n",
    "</div>"
   ]
  },
  {
   "cell_type": "markdown",
   "id": "2f5ed91a-6326-4166-860d-c3660c144f2f",
   "metadata": {},
   "source": [
    "The raster we will be working with is from the same source as the previous ones, provided by the [National Land Survey of Finland](https://www.maanmittauslaitos.fi/en/maps-and-spatial-data/datasets-and-interfaces/product-descriptions/elevation-model-2-m), but from a different tile (`U4234`). We will calculate the slope using our clipped elevation raster. The slope at each point is derived by determining the rate of change in elevation between neighboring cells in the raster. This is done by:\n",
    "\n",
    "1. **Gradient Calculation**: We use the elevation differences between adjacent cells in both the x (horizontal) and y (vertical) directions. The gradient represents how quickly elevation changes in these directions.\n",
    "   \n",
    "2. **Slope Formula**: The slope is calculated by combining these gradients using the Pythagorean theorem:\n",
    "$$\n",
    "\\text{slope} = \\sqrt{\\left(\\frac{\\Delta z}{\\Delta x}\\right)^2 + \\left(\\frac{\\Delta z}{\\Delta y}\\right)^2}\n",
    "$$\n",
    "\n",
    "where $ \\Delta z $ is the change in elevation, and $ \\Delta x $ and $ \\Delta y $ are the distances between the cells in the x and y directions.\n",
    "\n",
    "\n",
    "3. **Final Slope Values**: The result is often expressed in degrees or as a percentage, with steeper areas showing higher slope values. We use degrees here. "
   ]
  },
  {
   "cell_type": "code",
   "execution_count": null,
   "id": "a4471f38-8928-4c0b-9419-89fa844cad2d",
   "metadata": {},
   "outputs": [],
   "source": [
    "yllas_dem = rioxarray.open_rasterio('data/U4234A.tif')\n",
    "yllas_dem.plot()"
   ]
  },
  {
   "cell_type": "code",
   "execution_count": null,
   "id": "9e29a2b7-38cc-4d65-b1b3-6ae6f1068828",
   "metadata": {},
   "outputs": [],
   "source": [
    "# Get the pixel resolution\n",
    "xres = yllas_dem.rio.resolution()[0]  # Resolution in x direction (longitude)\n",
    "yres = yllas_dem.rio.resolution()[1]  # Resolution in y direction (latitude)\n",
    "\n",
    "# Calculate gradients in the x and y directions\n",
    "dzdx = yllas_dem.differentiate(coord='x') / xres  # Gradient in the x direction\n",
    "dzdy = yllas_dem.differentiate(coord='y') / yres  # Gradient in the y direction\n",
    "\n",
    "# Calculate the slope (in degrees)\n",
    "slope = np.sqrt(dzdx**2 + dzdy**2)\n",
    "slope = np.arctan(slope) * (180 / np.pi)\n",
    "\n",
    "# Update the attributes to reflect that this is a slope raster\n",
    "slope.attrs['long_name'] = 'Slope'\n",
    "slope.attrs['units'] = 'degrees'"
   ]
  },
  {
   "cell_type": "markdown",
   "id": "09d29e88-f257-4796-a51a-3c3399b73645",
   "metadata": {},
   "source": [
    "Now let's plot our Slope raster. "
   ]
  },
  {
   "cell_type": "code",
   "execution_count": null,
   "id": "5ef5c94f-7959-46c7-b793-355dae142b64",
   "metadata": {},
   "outputs": [],
   "source": [
    "# Plot the slope raster\n",
    "plt.figure(figsize=(10, 8))\n",
    "slope.plot(cmap='terrain', add_colorbar=True)\n",
    "plt.title(\"Slope Map (Degrees)\")\n",
    "plt.xlabel(\"X Coordinate\")\n",
    "plt.ylabel(\"Y Coordinate\")\n",
    "plt.show()"
   ]
  },
  {
   "cell_type": "markdown",
   "id": "eb42fa56-0358-48e9-b48f-1fd5b2725d79",
   "metadata": {},
   "source": [
    "### Raster-to-Raster Calculations\n",
    "\n",
    "Raster-to-raster calculations involve performing mathematical or logical operations on two or more raster datasets to derive new information. Each raster grid cell is processed based on corresponding cells from the input rasters. This method is commonly used in geospatial analysis to perform tasks like:\n",
    "\n",
    "- **Combining terrain attributes**: Slope, aspect, and DEM can be used to calculate terrain stability or hydrological indices.\n",
    "- **Environmental modeling**: Calculating indices such as vegetation health (NDVI) using different raster bands.\n",
    "- **Suitability analysis**: Combining different factors such as elevation and slope to determine land use or habitat suitability.\n",
    "\n",
    "**Example: Slope Stability Index (SSI)**\n",
    "*SSI* is a basic measure to assess the potential stability of a terrain. It combines both the slope steepness and elevation of the terrain, providing an index that indicates the likelihood of a slope to remain stable. Steeper slopes and higher elevations tend to be more prone to instability, which can lead to phenomena such as landslides, rockfalls, or soil erosion.\n",
    "\n",
    "The Slope Stability Index can be calculated as:\n",
    "\n",
    "$$\n",
    "\\text{SSI} = \\frac{1}{\\text{Slope} \\times \\text{Elevation}}\n",
    "$$\n",
    "\n",
    "- **Slope**: The steepness of the terrain, typically measured in degrees or percentage.\n",
    "- **Elevation (DEM)**: The height of the terrain above a reference point (usually sea level).\n",
    "- **SSI**: The lower the value of the SSI, the higher the instability risk. Conversely, higher values indicate more stable terrain.\n",
    "\n",
    "\n",
    "Now let's write this in Python:"
   ]
  },
  {
   "cell_type": "code",
   "execution_count": null,
   "id": "211582fb-59d1-46bd-b44f-c3e0b7b032d7",
   "metadata": {},
   "outputs": [],
   "source": [
    "import numpy as np\n",
    "import rioxarray as rxr\n",
    "\n",
    "# Read the first band \n",
    "slope = slope[0]\n",
    "dem = yllas_dem[0]\n",
    "\n",
    "# Avoid division by zero by setting zero or negative DEM values to NaN\n",
    "dem = yllas_dem.where(dem > 0)\n",
    "\n",
    "# Calculate the Slope Stability Index (SSI)\n",
    "\n",
    "\n",
    "# Handle any infinities resulting from division by zero (set them to NaN)\n",
    "ssi = ssi.where(np.isfinite(ssi), np.nan)\n",
    "\n",
    "# Update SSI attributes to match input slope raster\n",
    "ssi.rio.write_crs(slope.rio.crs)\n",
    "ssi.rio.write_nodata(np.nan, inplace=True)\n",
    "\n",
    "# Save the result as a GeoTIFF\n",
    "ssi.plot()"
   ]
  },
  {
   "cell_type": "markdown",
   "id": "495e6167-7983-4419-bcf6-d522ed6c5f4e",
   "metadata": {},
   "source": [
    "> **Lazy Loading?**  \n",
    "> If data loads poorly or improves on re-run, it’s likely due to **lazy loading**. Libraries like `xarray` defer loading large datasets until explicitly needed, and slow I/O or caching issues can result in incomplete reads. Re-running ensures full loading and processing. To avoid this, use `.load()` to force immediate data loading and minimize reliance on deferred operations."
   ]
  }
 ],
 "metadata": {
  "kernelspec": {
   "display_name": "Python 3 (ipykernel)",
   "language": "python",
   "name": "python3"
  },
  "language_info": {
   "codemirror_mode": {
    "name": "ipython",
    "version": 3
   },
   "file_extension": ".py",
   "mimetype": "text/x-python",
   "name": "python",
   "nbconvert_exporter": "python",
   "pygments_lexer": "ipython3",
   "version": "3.11.7"
  },
  "nbsphinx": {
   "execute": "never"
  }
 },
 "nbformat": 4,
 "nbformat_minor": 5
}
