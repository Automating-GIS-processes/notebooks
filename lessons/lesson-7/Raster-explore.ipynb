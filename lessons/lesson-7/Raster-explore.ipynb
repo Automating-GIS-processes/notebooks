{
 "cells": [
  {
   "cell_type": "markdown",
   "id": "b11534cc-f2f7-4c04-bd69-37e26a1f50e6",
   "metadata": {
    "editable": true,
    "slideshow": {
     "slide_type": ""
    },
    "tags": []
   },
   "source": [
    "# Exploring raster data in Python \n",
    "\n",
    "Raster data consists of rows and columns of cells or pixels, with each cell representing a single value. This type of data is often thought of as images, although raster datasets can be stored in various formats such as **ASCII text files** or **Binary Large Objects (BLOBs)** within databases.\n",
    "\n",
    "![Raster Data Representation](fig/raster_rep.png)\n",
    "\n",
    "*Image Source: [ESRI - What is Raster Data](https://desktop.arcgis.com/en/arcmap/latest/manage-data/raster-and-images/what-is-raster-data.htm)*\n",
    "\n",
    "Raster data represents the world as a grid of equally sized cells or pixels, where each cell has a value representing information, such as temperature, elevation, or land cover. There are two primary ways of working with raster data:\n",
    "\n",
    "- Single-band raster: Each pixel has one value (e.g., elevation or temperature).\n",
    "- Multiband raster: Each pixel has multiple values (e.g., Red, Green, and Blue bands in satellite imagery).\n",
    "\n",
    "A key characterestic of any raster data is its **Resolution**. Resolution refers to the ground distance that each cell represents. For example, if the resolution is two meters, each cell corresponds to an area two meters by two meters. A raster dataset with higher resolution can show more detail, but it will also have larger file sizes.\n",
    "\n",
    "Raster data can be stored in a variety of **formats**, some of the more common ones include:\n",
    "\n",
    "- **TIFF (Tagged Image File Format)**: This is the most common geospatial raster format due to its flexibility. It allows for storage of multiple bands, metadata, and internal compression. However, TIFF files can sometimes be incompatible across software.\n",
    "- **JPEG, GIF, BMP, PNG**: These formats are more suitable for images used in presentations or online applications. While common, they are not as robust for storing geospatial data due to lack of metadata support.\n",
    "- **ASCII Grid**: This format is often used for storing elevation data as simple text files, with spatial information stored in a header."
   ]
  },
  {
   "cell_type": "markdown",
   "id": "a6c88bf8-6aab-4771-a93d-df063fc8b464",
   "metadata": {},
   "source": [
    "## Raster data analysis with Python\n",
    "\n",
    "In this lesson we will learn to perform raster GIS analysis using a number of Python libraries. You'll learn how to read, manipulate, analyze, and visualize raster data using `xarray`, `rioxarray`, and `xarray-spatial`. \n",
    "\n",
    "- [`xarray`](https://docs.xarray.dev/en/stable/): A powerful library for working with labeled, multi-dimensional arrays in Python. It is particularly useful for handling scientific data, including time series and spatial data.\n",
    "- [`rioxarray`](https://corteva.github.io/rioxarray/stable/): An extension of `xarray` designed for geospatial raster data operations. It builds on top of `rasterio` to handle reading and writing raster formats like GeoTIFF, working with CRS (Coordinate Reference Systems), and performing GIS-specific tasks like reprojection. This combination allows for easy manipulation of spatial data in a highly efficient manner.\n",
    "- [`xarray-spatial`](https://xarray-spatial.org/): A high-performance spatial analysis library that works with `xarray` to perform raster-based spatial analysis tasks such as terrain analysis, focal operations, and zonal statistics. It is designed for fast processing of large datasets.\n",
    "\n",
    "These libraries are closely related to **`rasterio`**, which is the core library for handling raster data formats. [`rasterio`](https://rasterio.readthedocs.io/en/latest/) is built on the GDAL (Geospatial Data Abstraction Library) and provides efficient, low-level input and output operations for raster data, supporting various formats like GeoTIFF, PNG, and JPEG. It allows you to read and write raster files, access pixel values, manage CRS, and perform raster data manipulation.\n",
    "\n",
    "`rioxarray` uses `rasterio` under the hood to handle the actual reading and writing of raster files. The flexibility of `xarray` combined with `rasterio`'s capabilities provides us with useful tools for analysis of raster data. \n",
    "\n",
    "In this part of our raster lesson, we will learn how to:\n",
    "\n",
    "- Import and read raster data in Python\n",
    "- Visualize raster data"
   ]
  },
  {
   "cell_type": "markdown",
   "id": "6de58662-1183-45d0-ae89-3e9de685ddd6",
   "metadata": {},
   "source": [
    "## Loading raster data\n",
    "\n",
    "For this lesson, we will work with two raster datasets (and briefly preview an additional one):\n",
    "\n",
    "- Sentinetl 2 satelite image from Nuuksio national park in Finland. Data is obtained from [Copernicus Data Space Ecosystem](https://dataspace.copernicus.eu)\n",
    "- Elevation model data retrieved from [National Land Survey of Finland](https://www.maanmittauslaitos.fi/en/maps-and-spatial-data/datasets-and-interfaces/product-descriptions/elevation-model-2-m)."
   ]
  },
  {
   "cell_type": "markdown",
   "id": "f9ed213b-0adb-44af-9c55-72eeff3ef4a9",
   "metadata": {},
   "source": [
    "### Loading Single-Band Raster Data\n",
    "\n",
    "To load single-band raster data, we use the `rioxarray` library. `rioxarray` is built on top of `xarray` and `rasterio`. Under the hood, `rioxarray` utilizes `rasterio` to handle reading the raster file formats like GeoTIFF. This means that when we import a raster file using `rioxarray`, it uses `rasterio` to read the file and load it into an `xarray.DataArray` structure, making it easy to manipulate, visualize, and analyze the data.\n",
    "\n",
    "The data we will use here elevation model data provided from [National Land Survey of Finland](https://www.maanmittauslaitos.fi/en/maps-and-spatial-data/datasets-and-interfaces/product-descriptions/elevation-model-2-m). Let's start with loading one of the four tiles that we will be working with later during this lesson (`L4133A.TIF`)."
   ]
  },
  {
   "cell_type": "code",
   "execution_count": null,
   "id": "1717e5e0-f0d2-4f25-9eb2-3b0df0f55406",
   "metadata": {},
   "outputs": [],
   "source": [
    "import rioxarray\n",
    "\n",
    "raster_file = 'data/L4133A.tif'\n",
    "\n",
    "# Load raster\n"
   ]
  },
  {
   "cell_type": "markdown",
   "id": "64d87c9c-d8ef-464e-80e3-cb97dbe3dfaa",
   "metadata": {},
   "source": [
    "Let's have a look at the meatdata: "
   ]
  },
  {
   "cell_type": "code",
   "execution_count": null,
   "id": "38b106c2-3d3f-480a-b9b4-d11c21a48b27",
   "metadata": {},
   "outputs": [],
   "source": []
  },
  {
   "cell_type": "markdown",
   "id": "a10fe8be-9f2c-4a4a-9579-c536eeae70b9",
   "metadata": {},
   "source": [
    "We can see from the metadata that the raster file contains a single band with dimensions of 3000x3000 pixels, and the pixel values are stored as 32-bit floating point numbers. The coordinates are georeferenced, with `x` and `y` representing the spatial extent of the image, and there is a defined fill value of `-9999.0` for missing data.\n",
    "\n",
    "Now let's check the CRS and then make a quick plot of our raster data to see what it looks like."
   ]
  },
  {
   "cell_type": "code",
   "execution_count": null,
   "id": "185b0190-c6d4-47b0-9cc0-381465c1c950",
   "metadata": {},
   "outputs": [],
   "source": [
    "# Checking the CRS of our raster data\n"
   ]
  },
  {
   "cell_type": "code",
   "execution_count": null,
   "id": "02ac3b99-cb2a-49ec-88b9-8662b269abf2",
   "metadata": {},
   "outputs": [],
   "source": [
    "# Make a quick plot\n"
   ]
  },
  {
   "cell_type": "markdown",
   "id": "66f3982a-155f-4651-92c6-d556c6d8844b",
   "metadata": {},
   "source": [
    "Now let's use numpy library and print some basic raster statistics:"
   ]
  },
  {
   "cell_type": "code",
   "execution_count": null,
   "id": "06674ae1-fa30-436c-83b1-811eacc4fd64",
   "metadata": {},
   "outputs": [],
   "source": [
    "# Print basic statistics\n",
    "print(f\"Min value: {elevation_raster.min().item()}\")\n",
    "print(f\"Max value: {elevation_raster.max().item()}\")\n",
    "print(f\"Mean value: {elevation_raster.mean().item()}\")\n",
    "print(f\"Median value: {elevation_raster.median().item()}\")\n",
    "print(f\"Standard deviation: {elevation_raster.std().item()}\")"
   ]
  },
  {
   "cell_type": "markdown",
   "id": "40c6f7a6-5db6-4bb2-b73c-84ab1c5bca2a",
   "metadata": {},
   "source": [
    "### Loading raster through WMS\n",
    "\n",
    "Let's take a quick look at an example of how we can retrieve raster files or map images via **Web Map Service (WMS)**. WMS is a standard protocol developed by the **Open Geospatial Consortium (OGC)** that allows users to request and retrieve georeferenced map images over the internet, typically in common formats such as PNG, JPEG, and GeoTIFF. It's widely used in GIS applications, serving as a common method for organizations, like the City of Helsinki in our case, to share raster data.\n",
    "\n",
    "In the example below, we fetch a base map of Helsinki from the [Helsingin kantakartta dataset](https://www.avoindata.fi/data/en_GB/dataset/helsingin-kantakartta/resource/070e6c10-1cf8-4e4e-8caa-2beddf6814f5?view_id=ce27e198-ff71-4829-b0c8-b9c88b2c4acd), which is provided by the Helsinki City Geographic Information Service through their WMS. This dataset includes detailed maps of the Helsinki area, containing information about land use, urban planning, and public infrastructure. We use [**OWSLib**](https://github.com/geopython/OWSLib) to retrieve the data and then read and visualize it using the `rioxarray` and `rasterio` libraries. The layer we work with, **\"avoindata:Kantakartta\"**, is in the WGS84 (EPSG:4326) coordinate system and covers part of the city."
   ]
  },
  {
   "cell_type": "code",
   "execution_count": null,
   "id": "9a49461c-76bf-4152-966d-002fbe753e2d",
   "metadata": {},
   "outputs": [],
   "source": [
    "import requests\n",
    "from owslib.wms import WebMapService\n",
    "from io import BytesIO\n",
    "import rasterio\n",
    "from rasterio.plot import show\n",
    "\n",
    "# WMS URL from Helsingin kantakartta dataset\n",
    "wms_url = \"https://kartta.hel.fi/ws/geoserver/avoindata/wms\"\n",
    "\n",
    "# Connect to the WMS service\n",
    "wms = WebMapService(wms_url, version=\"1.3.0\")\n",
    "\n",
    "# List available layers (Only print the first 3 to avoide clutter)\n",
    "for i, (layer_name, layer) in enumerate(wms.contents.items()):\n",
    "    if i < 3:\n",
    "        print(f\"Layer: {layer_name} - {layer.title}\")\n",
    "    else:\n",
    "        print(\"More layers available...\")\n",
    "        break\n",
    "\n",
    "# Define the layer and bounding box (for Helsinki region)\n",
    "layer_name = \"avoindata:Kantakartta\"\n",
    "bbox = (24.93, 60.16, 24.97, 60.18)  # Example bounding box in EPSG:4326 (longitude, latitude)\n",
    "\n",
    "# Define the GetMap request parameters\n",
    "wms_request_url = wms.getmap(\n",
    "    layers=[layer_name],\n",
    "    srs='EPSG:4326',  # Coordinate system (WGS84)\n",
    "    bbox=bbox,        # Bounding box for Helsinki area\n",
    "    size=(800, 800),  # Image size in pixels\n",
    "    format='image/png',  # Request PNG image format\n",
    "    transparent=True\n",
    ")\n",
    "\n",
    "# Extract the actual URL from the ResponseWrapper\n",
    "url = wms_request_url.geturl()  # This extracts the URL string\n",
    "\n",
    "# Fetch the map from the WMS as a PNG image\n",
    "response = requests.get(url)\n",
    "\n",
    "# Check if the request was successful\n",
    "if response.status_code == 200:\n",
    "    # Load the image into rasterio\n",
    "    with rasterio.open(BytesIO(response.content)) as src:\n",
    "        # Plot the map image\n",
    "        show(src)\n",
    "else:\n",
    "    print(f\"Failed to retrieve WMS data. Status code: {response.status_code}\")"
   ]
  },
  {
   "cell_type": "markdown",
   "id": "f4d470d4-4cac-4491-ad93-5b4fef536dcc",
   "metadata": {},
   "source": [
    "### Loading a Multiband Raster File\n",
    "\n",
    "In GIS and remote sensing, multiband raster files are commonly used to store imagery, such as satellite images, where each band represents a different wavelength of the electromagnetic spectrum (e.g., red, green, blue, near-infrared). In such files, each pixel has multiple values corresponding to the reflectance in different bands.\n",
    "\n",
    "For this section, we will explore how to load a multiband raster file, examine the individual bands, and visualize the data. We'll be working with a multiband Sentinel-2 satellite image from Nuuksio National Park, located near Helsinki (`sentinel2_Nuuksio_small.tif`)."
   ]
  },
  {
   "cell_type": "code",
   "execution_count": null,
   "id": "e02580ea-0abe-4e23-8031-b2c34eb7bff3",
   "metadata": {},
   "outputs": [],
   "source": [
    "import rioxarray\n",
    "import matplotlib.pyplot as plt\n",
    "import numpy as np\n",
    "\n",
    "Nuuksio_sentinel_path = \"data/sentinel2_Nuuksio_small.tif\"\n",
    "\n",
    "# Load the multiband raster file\n",
    "Nuuksio_sentinel = rioxarray.open_rasterio(Nuuksio_sentinel_path)"
   ]
  },
  {
   "cell_type": "markdown",
   "id": "eebba70b-a592-432e-9a82-16a06e6f7eb2",
   "metadata": {},
   "source": [
    "Let's plot our raster:"
   ]
  },
  {
   "cell_type": "code",
   "execution_count": null,
   "id": "c8471022-b0e9-4444-86de-e61c5b94992c",
   "metadata": {},
   "outputs": [],
   "source": [
    "Nuuksio_sentinel.plot()"
   ]
  },
  {
   "cell_type": "markdown",
   "id": "e551bdc1-daf6-4092-a5ca-5e0d71836d1b",
   "metadata": {},
   "source": [
    "WHat just happened? The output is probabely not what you expected!\n",
    "\n",
    "When you try to plot a multiband raster directly using the `plot()` function, `xarray` interprets the data as a multi-dimensional array and creates a summary, such as a bar chart, to represent the entire dataset. This happens because `xarray` doesn't know you're working with geospatial raster data and tries to plot all bands together, leading to an unexpected result like a bar chart.\n",
    "\n",
    "To correctly visualize the raster data, you need to plot individual bands or create an RGB composite. But before getting there, let's have a look at the metadata: "
   ]
  },
  {
   "cell_type": "code",
   "execution_count": null,
   "id": "5c4d0945-cdc6-4bab-8915-2ff7abdbfb29",
   "metadata": {},
   "outputs": [],
   "source": [
    "# Print metadata and band information\n"
   ]
  },
  {
   "cell_type": "markdown",
   "id": "f1a175b7-2cdc-438b-bf23-9d1549330d79",
   "metadata": {},
   "source": [
    "From this metadata, we learn that the raster file contains 12 bands, each with dimensions of 723x910 pixels, and the pixel values are stored as 32-bit floating point numbers. The coordinates provide the geospatial reference with `x` and `y` representing the spatial extent, while each band corresponds to a different spectral band. Additionally, the file has attributes such as a scale factor of 1.0 and no offset applied.\n",
    "\n",
    "However, this brief metadata does not tell us which spectral band does each raster band refer to. However, this is the kind of information that you should get from the data source. In our case, [Sentinel-2 User Guide](https://sentinel.esa.int/web/sentinel/user-guides/sentinel-2-msi) is a good resource to find this information. \n",
    "\n",
    "For Sentinel-2 imagery, the bands are predefined and consistent across products. Here is a quick reference for the Sentinel-2 bands:\n",
    "\n",
    "| **Band**   | **Description**                     | **Wavelength (nm)** |\n",
    "|------------|-------------------------------------|---------------------|\n",
    "| Band 1     | Coastal aerosol                     | 443 nm              |\n",
    "| Band 2     | Blue                                | 490 nm              |\n",
    "| Band 3     | Green                               | 560 nm              |\n",
    "| Band 4     | Red                                 | 665 nm              |\n",
    "| Band 5     | Vegetation Red Edge                 | 705 nm              |\n",
    "| Band 6     | Vegetation Red Edge                 | 740 nm              |\n",
    "| Band 7     | Vegetation Red Edge                 | 783 nm              |\n",
    "| Band 8     | Near Infrared                       | 842 nm              |\n",
    "| Band 8A    | Narrow Near Infrared                | 865 nm              |\n",
    "| Band 9     | Water Vapor                         | 945 nm              |\n",
    "| Band 10    | Short-Wave Infrared – Cirrus        | 1375 nm             |\n",
    "| Band 11    | Short-Wave Infrared                 | 1610 nm             |\n",
    "| Band 12    | Short-Wave Infrared                 | 2190 nm             |\n",
    "\n",
    "\n",
    "These are the bands in our raster data, in order from 1 to 12. Depending on our data processing needs, we can use this reference to select the relevant bands for tasks such as true color composites (using Bands 4, 3, and 2) or vegetation analysis (using Bands 8 and 4 for NDVI).\n",
    "\n",
    "Let's start by accessing the red band from our raster file. In (`rioxarray`), an individual band can be accessed using the `sel()` method, where you specify the band number. According to the reference above,  `band=4` retrieves the red band: "
   ]
  },
  {
   "cell_type": "code",
   "execution_count": null,
   "id": "19c3937d-2011-4c03-b602-369352e0d930",
   "metadata": {},
   "outputs": [],
   "source": [
    "# Access red band\n"
   ]
  },
  {
   "cell_type": "markdown",
   "id": "19c658c2-b4b6-4fbf-a9ea-ab8ab66f6401",
   "metadata": {},
   "source": [
    "Let's see what happen now if we try to plot this specific band of the raster file:"
   ]
  },
  {
   "cell_type": "code",
   "execution_count": null,
   "id": "a6a8ebee-6410-40d9-a6bb-50942f3e6645",
   "metadata": {},
   "outputs": [],
   "source": []
  },
  {
   "cell_type": "markdown",
   "id": "c381c591-8552-4d24-a96e-a7a4b6fede24",
   "metadata": {},
   "source": [
    "Now our raster file is visualized (the red band). We could also select the band and plot on the fly. let's try for the blue band (`band=2`)."
   ]
  },
  {
   "cell_type": "code",
   "execution_count": null,
   "id": "e29f44dd-d57c-400a-a630-e079aabb3616",
   "metadata": {},
   "outputs": [],
   "source": []
  },
  {
   "cell_type": "markdown",
   "id": "e8450fe6-30ad-489a-ab7f-53e523b60122",
   "metadata": {},
   "source": [
    "### Creating an RGB Composite\n",
    "\n",
    "In remote sensing and GIS, creating an RGB composite is a common method for visualizing multiband satellite imagery in natural or false colors. By combining the red, green, and blue bands of a satellite image, we can generate a true-color image that resembles what the human eye would see, or we can create false-color composites for enhanced analysis (e.g., vegetation health, water bodies, etc.).\n",
    "\n",
    "For Sentinel-2 imagery, the red, green, and blue bands correspond to:\n",
    "- **Red**: Band 4\n",
    "- **Green**: Band 3\n",
    "- **Blue**: Band 2\n",
    "\n",
    "We accomplish this by loading the individual red, green, and blue bands, stacking them together into an RGB image, and normalizing the values to be suitable for display. The Numpy's `np.dstack()` function stacks arrays along a new depth axis (3rd dimension), which is useful for combining multiple 2D arrays (e.g., raster bands) into a 3D RGB image ([NumPy *dstack* documentation](https://numpy.org/doc/stable/reference/generated/numpy.dstack.html)). "
   ]
  },
  {
   "cell_type": "code",
   "execution_count": null,
   "id": "7d8b7b1f-a7ac-4385-b5dc-f9e0adbf5fb3",
   "metadata": {},
   "outputs": [],
   "source": [
    "# Extract the red, green, and blue bands\n",
    "red_band = Nuuksio_sentinel.sel(band=4)\n",
    "green_band = Nuuksio_sentinel.sel(band=3)\n",
    "blue_band = Nuuksio_sentinel.sel(band=2)\n",
    "\n",
    "# Stack the bands together to create an RGB composite\n",
    "\n",
    "\n",
    "# Normalize the image values between 0 and 1 by dividing by the max value\n",
    "\n",
    "\n",
    "# Plot the RGB composite image\n",
    "plt.imshow(rgb_image)\n",
    "plt.title(\"RGB Composite of Nuuksio National Park (Sentinel-2)\")\n",
    "plt.axis('off')  # Hide the axis for better visualization\n",
    "plt.show()"
   ]
  },
  {
   "cell_type": "markdown",
   "id": "34d34c56-d812-4e82-bd77-e7502caff0c5",
   "metadata": {},
   "source": [
    "Great! Now we can visualize the image in true color, just as it would appear to the human eye."
   ]
  }
 ],
 "metadata": {
  "kernelspec": {
   "display_name": "Python 3 (ipykernel)",
   "language": "python",
   "name": "python3"
  },
  "language_info": {
   "codemirror_mode": {
    "name": "ipython",
    "version": 3
   },
   "file_extension": ".py",
   "mimetype": "text/x-python",
   "name": "python",
   "nbconvert_exporter": "python",
   "pygments_lexer": "ipython3",
   "version": "3.11.7"
  },
  "nbsphinx": {
   "execute": "never"
  }
 },
 "nbformat": 4,
 "nbformat_minor": 5
}
