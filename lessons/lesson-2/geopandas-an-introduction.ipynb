{
 "cells": [
  {
   "cell_type": "markdown",
   "id": "7c9e25f1",
   "metadata": {},
   "source": [
    "# Geopandas: an introduction\n",
    "\n",
    "In this section, we will cover the basics of *geopandas*, a Python library to\n",
    "interact with geospatial vector data.\n",
    "\n",
    "[Geopandas](https://geopandas.org/) provides an easy-to-use interface to vector\n",
    "data sets. It combines the capabilities of *pandas*, the data analysis package\n",
    "we got to know in the [Geo-Python\n",
    "course](https://geo-python-site.readthedocs.io/en/latest/lessons/L5/pandas-overview.html),\n",
    "with the geometry handling functionality of\n",
    "[shapely](../lesson-1/geometry-objects), the [geo-spatial file format support\n",
    "of fiona](vector-data-io) and the [map projection libraries of\n",
    "pyproj](map-projections).\n",
    "\n",
    "The main data structures in geopandas are `GeoDataFrame`s and `GeoSeries`. They\n",
    "extend the functionality of `pandas.DataFrame`s and `pandas.Series`. This means\n",
    "that **we can use all our *pandas* skills also when we work with\n",
    "*geopandas*!**. \n",
    "\n",
    ":::{tip}\n",
    "\n",
    "If you feel like you need to refresh your memory about pandas, head back to\n",
    "[lesson\n",
    "5](https://geo-python-site.readthedocs.io/en/latest/lessons/L5/pandas-overview.html)\n",
    "and [lesson\n",
    "6](https://geo-python-site.readthedocs.io/en/latest/notebooks/L6/advanced-data-processing-with-pandas.html)\n",
    "of Geo-Python.\n",
    ":::\n",
    "\n",
    "There is one key difference between pandas’s data frames and geopandas’\n",
    "[`GeoDataFrame`s](https://geopandas.org/en/stable/docs/user_guide/data_structures.html#geodataframe):\n",
    "a `GeoDataFrame` contains an additional column for geometries. By default, the\n",
    "name of this column is `geometry`, and it is a\n",
    "[`GeoSeries`](https://geopandas.org/en/stable/docs/user_guide/data_structures.html#geoseries)\n",
    "that contains the geometries (points, lines, polygons, ...) as\n",
    "`shapely.geometry` objects."
   ]
  },
  {
   "cell_type": "code",
   "execution_count": 1,
   "id": "5d2461f9",
   "metadata": {
    "metadata": {
     "jupyter": {
      "source_hidden": true
     }
    },
    "tags": [
     "remove-input",
     "hide-input"
    ]
   },
   "outputs": [
    {
     "data": {
      "text/html": [
       "<style type=\"text/css\">\n",
       "#T_7e112_row0_col2, #T_7e112_row1_col2, #T_7e112_row2_col2, #T_7e112_row3_col2, #T_7e112_row4_col2 {\n",
       "  background: #f66161;\n",
       "}\n",
       "#T_7e112_level0_col2 {\n",
       "  background: #f66161;\n",
       "}\n",
       "</style>\n",
       "<table id=\"T_7e112\">\n",
       "  <thead>\n",
       "    <tr>\n",
       "      <th class=\"blank level0\" >&nbsp;</th>\n",
       "      <th id=\"T_7e112_level0_col0\" class=\"col_heading level0 col0\" >GROUP</th>\n",
       "      <th id=\"T_7e112_level0_col1\" class=\"col_heading level0 col1\" >CLASS</th>\n",
       "      <th id=\"T_7e112_level0_col2\" class=\"col_heading level0 col2\" >geometry</th>\n",
       "    </tr>\n",
       "  </thead>\n",
       "  <tbody>\n",
       "    <tr>\n",
       "      <th id=\"T_7e112_level0_row0\" class=\"row_heading level0 row0\" >0</th>\n",
       "      <td id=\"T_7e112_row0_col0\" class=\"data row0 col0\" >64</td>\n",
       "      <td id=\"T_7e112_row0_col1\" class=\"data row0 col1\" >32421</td>\n",
       "      <td id=\"T_7e112_row0_col2\" class=\"data row0 col2\" >POLYGON ((379394.248 6689991.936, 379389 ...</td>\n",
       "    </tr>\n",
       "    <tr>\n",
       "      <th id=\"T_7e112_level0_row1\" class=\"row_heading level0 row1\" >1</th>\n",
       "      <td id=\"T_7e112_row1_col0\" class=\"data row1 col0\" >64</td>\n",
       "      <td id=\"T_7e112_row1_col1\" class=\"data row1 col1\" >32421</td>\n",
       "      <td id=\"T_7e112_row1_col2\" class=\"data row1 col2\" >POLYGON ((378980.811 6689359.377, 378983 ...</td>\n",
       "    </tr>\n",
       "    <tr>\n",
       "      <th id=\"T_7e112_level0_row2\" class=\"row_heading level0 row2\" >2</th>\n",
       "      <td id=\"T_7e112_row2_col0\" class=\"data row2 col0\" >64</td>\n",
       "      <td id=\"T_7e112_row2_col1\" class=\"data row2 col1\" >32421</td>\n",
       "      <td id=\"T_7e112_row2_col2\" class=\"data row2 col2\" >POLYGON ((378804.766 6689256.471, 378817 ...</td>\n",
       "    </tr>\n",
       "    <tr>\n",
       "      <th id=\"T_7e112_level0_row3\" class=\"row_heading level0 row3\" >3</th>\n",
       "      <td id=\"T_7e112_row3_col0\" class=\"data row3 col0\" >64</td>\n",
       "      <td id=\"T_7e112_row3_col1\" class=\"data row3 col1\" >32421</td>\n",
       "      <td id=\"T_7e112_row3_col2\" class=\"data row3 col2\" >POLYGON ((379229.695 6685025.111, 379233 ...</td>\n",
       "    </tr>\n",
       "    <tr>\n",
       "      <th id=\"T_7e112_level0_row4\" class=\"row_heading level0 row4\" >4</th>\n",
       "      <td id=\"T_7e112_row4_col0\" class=\"data row4 col0\" >64</td>\n",
       "      <td id=\"T_7e112_row4_col1\" class=\"data row4 col1\" >32421</td>\n",
       "      <td id=\"T_7e112_row4_col2\" class=\"data row4 col2\" >POLYGON ((379825.199 6685096.247, 379829 ...</td>\n",
       "    </tr>\n",
       "  </tbody>\n",
       "</table>\n"
      ],
      "text/plain": [
       "<pandas.io.formats.style.Styler at 0x7f55db484640>"
      ]
     },
     "execution_count": 1,
     "metadata": {},
     "output_type": "execute_result"
    }
   ],
   "source": [
    "import pathlib\n",
    "import geopandas\n",
    "import numpy\n",
    "import pandas\n",
    "\n",
    "DATA_DIRECTORY = pathlib.Path().resolve() / \"data\"\n",
    "\n",
    "HIGHLIGHT_STYLE = \"background: #f66161;\"\n",
    "\n",
    "df = geopandas.read_file(DATA_DIRECTORY / \"finland_topographic_database\" / \"m_L4132R_p.shp\")\n",
    "\n",
    "df[\"geom\"] = df.geometry.to_wkt().apply(lambda wkt: wkt[:40] + \" ...\")\n",
    "\n",
    "df = df[[\"RYHMA\", \"LUOKKA\", \"geom\"]]\n",
    "df = df.rename(columns={\"RYHMA\": \"GROUP\", \"LUOKKA\": \"CLASS\", \"geom\": \"geometry\"})\n",
    "\n",
    "(\n",
    "    df.head().style\n",
    "        .applymap(lambda x: HIGHLIGHT_STYLE, subset=[\"geometry\"])\n",
    "        .apply_index(lambda x: numpy.where(x.isin([\"geometry\"]), HIGHLIGHT_STYLE, \"\"), axis=1)\n",
    ")"
   ]
  },
  {
   "cell_type": "markdown",
   "id": "dba5aafa",
   "metadata": {},
   "source": [
    "---\n",
    "\n",
    "\n",
    "## Input data: Finnish topographic database \n",
    "\n",
    "In this lesson, we will work with the [National Land Survey of Finland (NLS)/Maanmittauslaitos (MML) topographic database](https://www.maanmittauslaitos.fi/en/maps-and-spatial-data/expert-users/product-descriptions/topographic-database). \n",
    "- The data set is licensed under the NLS’ [open data licence](https://www.maanmittauslaitos.fi/en/opendata-licence-cc40) (CC BY 4.0).\n",
    "- The structure of the data is described in a [separate Excel file](http://www.nic.funet.fi/index/geodata/mml/maastotietokanta/2022/maastotietokanta_kohdemalli_eng_2019.xlsx).\n",
    "- Further information about file naming is available at [fairdata.fi](https://etsin.fairdata.fi/dataset/5023ecc7-914a-4494-9e32-d0a39d3b56ae) (this link relates to the 2018 issue of the topographic database, but is still valid).\n",
    "\n",
    "For this lesson, we have acquired a subset of the topographic database as\n",
    "shapefiles from the Helsinki Region in Finland via the [CSC’s Paituli download\n",
    "portal](https://paituli.csc.fi). You can find the files in `data/finland_topographic_database/`.\n",
    "\n",
    ":::{figure} ../../static/images/lesson-2/paituli-download_700x650px.png\n",
    ":alt: Screenshot of the Paituli download page\n",
    "\n",
    "The Paituli *spatial download service* offers data from a long list of national institutes and agencies.\n",
    ":::\n",
    "\n",
    "\n",
    "---\n",
    "\n",
    "\n",
    "## Read and explore geo-spatial data sets\n",
    "\n",
    "Before we attempt to load any files, let’s not forget to defining a constant\n",
    "that points to our data directory:"
   ]
  },
  {
   "cell_type": "code",
   "execution_count": null,
   "id": "e7f22de4",
   "metadata": {},
   "outputs": [],
   "source": [
    "import pathlib \n",
    "NOTEBOOK_PATH = pathlib.Path().resolve()\n",
    "DATA_DIRECTORY = NOTEBOOK_PATH / \"data\""
   ]
  },
  {
   "cell_type": "markdown",
   "id": "c5d5d29a",
   "metadata": {},
   "source": [
    "In this lesson, we will focus on **terrain objects** (Feature group:\n",
    "\"Terrain/1\" in the topographic database). The Terrain/1 feature group contains\n",
    "several feature classes. \n",
    "\n",
    "**Our aim in this lesson is to save all the Terrain/1\n",
    "feature classes into separate files**.\n",
    "\n",
    "*Terrain/1 features in the Topographic Database:*\n",
    "\n",
    "|  feature class | Name of feature                                            | Feature group |\n",
    "|----------------|------------------------------------------------------------|---------------|\n",
    "| 32421          | Motor traffic area                                         | Terrain/1     |\n",
    "| 32200          | Cemetery                                                   | Terrain/1     |\n",
    "| 34300          | Sand                                                       | Terrain/1     |\n",
    "| 34100          | Rock - area                                                | Terrain/1     |\n",
    "| 34700          | Rocky area                                                 | Terrain/1     |\n",
    "| 32500          | Quarry                                                     | Terrain/1     |\n",
    "| 32112          | Mineral resources extraction area, fine-grained material   | Terrain/1     |\n",
    "| 32111          | Mineral resources extraction area, coarse-grained material | Terrain/1     |\n",
    "| 32611          | Field                                                      | Terrain/1     |\n",
    "| 32612          | Garden                                                     | Terrain/1     |\n",
    "| 32800          | Meadow                                                     | Terrain/1     |\n",
    "| 32900          | Park                                                       | Terrain/1     |\n",
    "| 35300          | Paludified land                                            | Terrain/1     |\n",
    "| 35412          | Bog, easy to traverse forested                             | Terrain/1     |\n",
    "| 35411          | Open bog, easy to traverse treeless                        | Terrain/1     |\n",
    "| 35421          | Open fen, difficult to traverse treeless                   | Terrain/1     |\n",
    "| 33000          | Earth fill                                                 | Terrain/1     |\n",
    "| 33100          | Sports and recreation area                                 | Terrain/1     |\n",
    "| 36200          | Lake water                                                 | Terrain/1     |\n",
    "| 36313          | Watercourse area                                           | Terrain/1     |\n",
    "\n",
    "\n",
    ":::{admonition} Search for files using a pattern\n",
    ":class: hint\n",
    "\n",
    "A `pathlib.Path` (such as `DATA_DIRECTORY`) has a handy method to list all\n",
    "files in a directory (or subdirectories) that match a pattern:\n",
    "[`glob()`](https://docs.python.org/3/library/pathlib.html#pathlib.Path.glob).\n",
    "To list all shapefiles in our topographic database directory, we can use the\n",
    "following expression:\n",
    "\n",
    "```{code}\n",
    "(DATA_DIRECTORY / \"finland_topographic_database\").glob(\"*.shp\")\n",
    "```\n",
    "\n",
    "In the search pattern, `?` represents any one single character, `*` multiple\n",
    "(or none, or one) characters, and `**` multiple characters that can include\n",
    "subdirectories.\n",
    "\n",
    "Did you notice the parentheses in the code example above? They work just like\n",
    "they would in a mathematical expression: first, the expression inside the\n",
    "parentheses is evaluated, only then, the code outside.\n",
    ":::\n",
    "\n",
    "\n",
    "If you take a quick look at the data directory using a file browser, you will\n",
    "notice that the topographic database consists of *many* smaller files. Their\n",
    "names follow a strictly defined \n",
    "[convention](https://etsin.fairdata.fi/dataset/5023ecc7-914a-4494-9e32-d0a39d3b56ae),\n",
    "according to this file naming convention, all files that we interested in\n",
    "(*Terrain/1* and *polygons*) start with a letter `m` and end with a `p`.\n",
    "\n",
    "We can use the `glob()` pattern search functionality to find those files:"
   ]
  },
  {
   "cell_type": "code",
   "execution_count": null,
   "id": "f00f7250",
   "metadata": {},
   "outputs": [],
   "source": []
  },
  {
   "cell_type": "code",
   "execution_count": null,
   "id": "ed784435",
   "metadata": {},
   "outputs": [],
   "source": []
  },
  {
   "cell_type": "markdown",
   "id": "3e80172c",
   "metadata": {},
   "source": [
    "(Note that `glob()` returns an iterator, but, for now, we quickly convert\n",
    "it to a list)\n",
    "\n",
    "It seems our input data set has only one file that matches our search pattern.\n",
    "We can save its filename into a new variable, choosing the first item of the\n",
    "list (index 0):"
   ]
  },
  {
   "cell_type": "code",
   "execution_count": null,
   "id": "f33f085a",
   "metadata": {},
   "outputs": [],
   "source": []
  },
  {
   "cell_type": "markdown",
   "id": "d1a8a508",
   "metadata": {},
   "source": [
    "Now, it’s finally time to open the file and look at its contents:"
   ]
  },
  {
   "cell_type": "code",
   "execution_count": null,
   "id": "c91fbb9a",
   "metadata": {},
   "outputs": [],
   "source": []
  },
  {
   "cell_type": "markdown",
   "id": "b8c7ea74",
   "metadata": {},
   "source": [
    "First, check the data type of the read data set:"
   ]
  },
  {
   "cell_type": "code",
   "execution_count": null,
   "id": "d6e8a55d",
   "metadata": {},
   "outputs": [],
   "source": []
  },
  {
   "cell_type": "markdown",
   "id": "6ad5ebd0",
   "metadata": {},
   "source": [
    "Everything went fine, and we have a `geopandas.GeoDataFrame`. \n",
    "Let’s also explore the data: (1) print the first few rows, and \n",
    "(2) list the columns."
   ]
  },
  {
   "cell_type": "code",
   "execution_count": null,
   "id": "2caea45c",
   "metadata": {},
   "outputs": [],
   "source": []
  },
  {
   "cell_type": "code",
   "execution_count": null,
   "id": "f6c18c41",
   "metadata": {},
   "outputs": [],
   "source": []
  },
  {
   "cell_type": "markdown",
   "id": "f01372ed",
   "metadata": {},
   "source": [
    "Oh boy! This data set has many columns, and all of the column names are in\n",
    "Finnish.\n",
    "\n",
    "Let’s select a few useful ones and also translate their names to\n",
    "English. We’ll keep ’RYHMA’ and ’LUOKKA’ (‘group’ and ‘class’, respectively),\n",
    "and, of course, the `geometry` column."
   ]
  },
  {
   "cell_type": "code",
   "execution_count": null,
   "id": "4628e34d",
   "metadata": {},
   "outputs": [],
   "source": []
  },
  {
   "cell_type": "markdown",
   "id": "08c7c801",
   "metadata": {},
   "source": [
    "Renaming a column in (geo)pandas works by passing a dictionary to\n",
    "`DataFrame.rename()`. In this dictionary, the keys are the old names, the values\n",
    "the new ones:"
   ]
  },
  {
   "cell_type": "code",
   "execution_count": null,
   "id": "50d0da8f",
   "metadata": {},
   "outputs": [],
   "source": []
  },
  {
   "cell_type": "markdown",
   "id": "64038354",
   "metadata": {},
   "source": [
    "How does the data set look now?"
   ]
  },
  {
   "cell_type": "code",
   "execution_count": null,
   "id": "fd360c8e",
   "metadata": {},
   "outputs": [],
   "source": []
  },
  {
   "cell_type": "markdown",
   "id": "20eb251f",
   "metadata": {},
   "source": [
    ":::{admonition} Check your understanding:\n",
    ":class: hint\n",
    "\n",
    "Use your pandas skills on this geopandas data set to figure out the following\n",
    "information:\n",
    "\n",
    "- How many rows does the data set have?\n",
    "- How many unique classes?\n",
    "- ... and how many unique groups?\n",
    ":::\n",
    "\n",
    "\n",
    "---\n",
    "\n",
    "### Explore the data set in a map:\n",
    "\n",
    "As geographers, we love maps. But beyond that, it’s always a good idea to\n",
    "explore a new data set also in a map. To create a simple map of a\n",
    "`geopandas.GeoDataFrame`, simply use its `plot()` method. It works similar to\n",
    "pandas (see [Lesson 7 of the Geo-Python \n",
    "course](https://geo-python.github.io/site/notebooks/L7/matplotlib.html), but\n",
    "**draws a map based on the geometries of the data set** instead of a chart."
   ]
  },
  {
   "cell_type": "code",
   "execution_count": null,
   "id": "09938d11",
   "metadata": {},
   "outputs": [],
   "source": []
  },
  {
   "cell_type": "markdown",
   "id": "619aa6bc",
   "metadata": {},
   "source": [
    "Voilá! It is indeed this easy to produce a map out of an geospatial data set.\n",
    "Geopandas automatically positions your map in a way that it covers the whole\n",
    "extent of your data.\n",
    "\n",
    ":::{note}\n",
    "If you live in the Helsinki region, you might recognise some of the shapes in\n",
    "the map ;)\n",
    ":::\n",
    "\n",
    "### Geometries in geopandas\n",
    "\n",
    "Geopandas takes advantage of shapely’s geometry objects. Geometries are stored\n",
    "in a column called *geometry*.\n",
    "\n",
    "Let’s print the first 5 rows of the column `geometry`:"
   ]
  },
  {
   "cell_type": "code",
   "execution_count": null,
   "id": "d0913a1d",
   "metadata": {},
   "outputs": [],
   "source": []
  },
  {
   "cell_type": "markdown",
   "id": "de7ae270",
   "metadata": {},
   "source": [
    "Lo and behold, the `geometry` column contains familiar-looking values:\n",
    "*Well-Known Text* (WKT) strings. Don’t be fooled, they are, in fact,\n",
    "`shapely.geometry` objects (you might remember from [last week’s\n",
    "lesson](../lesson-1/geometry-objects)) that, when `print()`ed or type-cast into\n",
    "a `str`, are represented as a WKT string).\n",
    "\n",
    "Since the geometries in a `GeoDataFrame` are stored as shapely objects, we can\n",
    "use **shapely methods** to handle geometries in geopandas.\n",
    "\n",
    "Let’s take a closer look at (one of) the polygon geometries in the terrain data\n",
    "set, and try to use some of the shapely functionality we are already familiar\n",
    "with. For the sake of clarity, first, we’ll work with the geometry of the very\n",
    "first record, only:"
   ]
  },
  {
   "cell_type": "code",
   "execution_count": null,
   "id": "4a816819",
   "metadata": {},
   "outputs": [],
   "source": []
  },
  {
   "cell_type": "code",
   "execution_count": null,
   "id": "d24db515",
   "metadata": {},
   "outputs": [],
   "source": []
  },
  {
   "cell_type": "markdown",
   "id": "59825a0a",
   "metadata": {},
   "source": [
    ":::{admonition} Area measurement unit\n",
    ":class: note\n",
    "\n",
    "Here, we know the coordinate reference system (CRS) of the input data set. The\n",
    "CRS also defines the unit of measurement (in our case, metres). That’s why we\n",
    "can print the computed area including an area measurement unit (square metres).\n",
    ":::\n",
    "\n",
    "\n",
    "Let’s do the same for multiple rows, and explore different options of how to.\n",
    "First, use the reliable and tried `iterrows()` pattern we learned in [lesson 6\n",
    "of the Geo-Python course](https://geo-python.github.io/site/notebooks/L6/pandas/advanced-data-processing-with-pandas.html#Iterating-rows-and-using-self-made-functions-in-Pandas)."
   ]
  },
  {
   "cell_type": "code",
   "execution_count": null,
   "id": "4a10bdca",
   "metadata": {},
   "outputs": [],
   "source": []
  },
  {
   "cell_type": "markdown",
   "id": "2af5cac7",
   "metadata": {},
   "source": [
    "As you see, all **pandas** functions, such as the `iterrows()` method, are\n",
    "available in geopandas without the need to call pandas separately. Geopandas\n",
    "builds on top of pandas, and it inherits most of its functionality.\n",
    "\n",
    "Of course the `iterrows()` pattern is not the most convenient and efficient way\n",
    "to calculate the area of many rows. Both `GeoSeries` (geometry columns) and\n",
    "`GeoDataFrame`s have an `area` property:"
   ]
  },
  {
   "cell_type": "code",
   "execution_count": null,
   "id": "8963b0ff",
   "metadata": {},
   "outputs": [],
   "source": []
  },
  {
   "cell_type": "code",
   "execution_count": null,
   "id": "dd8de823",
   "metadata": {},
   "outputs": [],
   "source": []
  },
  {
   "cell_type": "markdown",
   "id": "8beecf7c",
   "metadata": {},
   "source": [
    "It’s straight-forward to create a new column holding the area:"
   ]
  },
  {
   "cell_type": "code",
   "execution_count": null,
   "id": "73a7b523",
   "metadata": {},
   "outputs": [],
   "source": []
  },
  {
   "cell_type": "markdown",
   "id": "59c2179f",
   "metadata": {},
   "source": [
    ":::{admonition} Descriptive statistics\n",
    ":class: hint\n",
    "\n",
    "Do you remember how to calculate the *minimum*, *maximum*, *sum*, *mean*, and\n",
    "*standard deviation* of a pandas column? ([Lesson 5 of\n",
    "Geo-Python](https://geo-python-site.readthedocs.io/en/latest/notebooks/L5/exploring-data-using-pandas.html#descriptive-statistics))\n",
    "What are these values for the area column of the data set?\n",
    ":::\n",
    "\n",
    "\n",
    "\n",
    "## Write a subset of data to a file\n",
    "\n",
    "[In the previous section](./vector-data-io.md#writing-geospatial-data-to-a-file), we\n",
    "learnt how to write an entire `GeoDataFrame` to a file. We can also write a\n",
    "filtered subset of a data set to a new file, e.g., to help with processing\n",
    "complex data sets.\n",
    "\n",
    "First, isolate the lakes in the input data set (class number `36200`, see table\n",
    "above):"
   ]
  },
  {
   "cell_type": "code",
   "execution_count": null,
   "id": "daa291ca",
   "metadata": {},
   "outputs": [],
   "source": []
  },
  {
   "cell_type": "markdown",
   "id": "fdd77368",
   "metadata": {},
   "source": [
    "Then, plot the data subset to visually check whether it looks correct:"
   ]
  },
  {
   "cell_type": "code",
   "execution_count": null,
   "id": "e7754a26",
   "metadata": {},
   "outputs": [],
   "source": []
  },
  {
   "cell_type": "markdown",
   "id": "e9761400",
   "metadata": {},
   "source": [
    "And finally, write the filtered data to a Shapefile:"
   ]
  },
  {
   "cell_type": "code",
   "execution_count": null,
   "id": "d11e0543",
   "metadata": {},
   "outputs": [],
   "source": []
  },
  {
   "cell_type": "markdown",
   "id": "201a7498",
   "metadata": {},
   "source": [
    "Check the [Vector Data I/O](vector-data-io) section to see which data formats\n",
    "geopandas can write to.\n",
    "\n",
    "\n",
    "\n",
    "## Grouping data\n",
    "\n",
    "A particularly useful method of (geo)pandas’ data frames is their grouping\n",
    "function: [`groupby()`](https://pandas.pydata.org/docs/user_guide/groupby.html)\n",
    "can **split data into groups** based on some criteria, **apply** a function\n",
    "individually to each of the groups, and **combine** results of such an\n",
    "operation into a common data structure.\n",
    "\n",
    "We have used this function earlier: in [Geo-Python, \n",
    "lesson 6](https://geo-python-site.readthedocs.io/en/latest/notebooks/L6/advanced-data-processing-with-pandas.html#aggregating-data-in-pandas-by-grouping).\n",
    "\n",
    "We can use *grouping* here to split our input data set into subsets that relate\n",
    "to each of the `CLASS`es of terrain cover, then save a separate file for each\n",
    "class.\n",
    "\n",
    "Let’s start this by, again, taking a look at how the data set actually looks\n",
    "like:"
   ]
  },
  {
   "cell_type": "code",
   "execution_count": null,
   "id": "c20740c5",
   "metadata": {},
   "outputs": [],
   "source": []
  },
  {
   "cell_type": "markdown",
   "id": "40f6d5e8",
   "metadata": {},
   "source": [
    "Remember: the `CLASS` column contains information about a polygon’s land use\n",
    "type. Use the\n",
    "[`pandas.Series.unique()`](https://pandas.pydata.org/docs/reference/api/pandas.Series.unique.html)\n",
    "method to list all values that occur:"
   ]
  },
  {
   "cell_type": "code",
   "execution_count": null,
   "id": "b4e184ce",
   "metadata": {},
   "outputs": [],
   "source": []
  },
  {
   "cell_type": "markdown",
   "id": "3402bcfc",
   "metadata": {},
   "source": [
    "To group data, use the data frame’s `groupby()` method, supply a column name as\n",
    "a parameter:"
   ]
  },
  {
   "cell_type": "code",
   "execution_count": null,
   "id": "a84f1f0f",
   "metadata": {},
   "outputs": [],
   "source": []
  },
  {
   "cell_type": "markdown",
   "id": "95ccb1fc",
   "metadata": {},
   "source": [
    "So, `grouped_data` is a `DataFrameGroupBy` object. Inside a `GroupBy` object,\n",
    "its property `groups` is a dictionary that works as a lookup table: it records\n",
    "which rows belong to which group. The keys of the dictionary are the unique\n",
    "values of the grouping column:"
   ]
  },
  {
   "cell_type": "code",
   "execution_count": null,
   "id": "395a40e8",
   "metadata": {},
   "outputs": [],
   "source": []
  },
  {
   "cell_type": "markdown",
   "id": "5c40fb3e",
   "metadata": {},
   "source": [
    "However, one can also simply iterate over the entire `GroupBy` object. Let’s\n",
    "count how many rows of data each group has:"
   ]
  },
  {
   "cell_type": "code",
   "execution_count": null,
   "id": "5704c9c1",
   "metadata": {},
   "outputs": [],
   "source": []
  },
  {
   "cell_type": "markdown",
   "id": "aaee9fe8",
   "metadata": {},
   "source": [
    "There are, for instance, 56 lake polygons (class `36200`) in the input data set.\n",
    "\n",
    "To obtain all rows that belong to one particular group, use the `get_group()`\n",
    "method, which returns a brand-new `GeoDataFrame`:"
   ]
  },
  {
   "cell_type": "code",
   "execution_count": null,
   "id": "afbafa25",
   "metadata": {},
   "outputs": [],
   "source": []
  },
  {
   "cell_type": "markdown",
   "id": "5fd8cda9",
   "metadata": {},
   "source": [
    ":::{caution}\n",
    "The index in the new data frame stays the same as in the ungrouped input data\n",
    "set. This can be helpful, for instance, when you want to join the grouped data\n",
    "back to the original input data.\n",
    ":::\n",
    "\n",
    "\n",
    "## Write grouped data to separate files\n",
    "\n",
    "Now we have all the necessary tools in hand to split the input data into\n",
    "separate data sets for each terrain class, and write the individual subsets to\n",
    "new, separate, files. In fact, the code looks almost too simple, doesn’t it?"
   ]
  },
  {
   "cell_type": "code",
   "execution_count": null,
   "id": "b22488df",
   "metadata": {},
   "outputs": [],
   "source": []
  },
  {
   "cell_type": "markdown",
   "id": "5351eb0e",
   "metadata": {},
   "source": [
    ":::{admonition} File name\n",
    ":class: attention\n",
    "\n",
    "We used a `pathlib.Path` combined with an f-string to generate the new output\n",
    "file’s path and name. Check this week’s section [Managing file\n",
    "paths](managing-file-paths), and [Geo-Python lesson\n",
    "2](https://geo-python-site.readthedocs.io/en/latest/notebooks/L2/Python-basic-elements.html#f-string-formatting)\n",
    "to revisit how they work.\n",
    ":::\n",
    "\n",
    "\n",
    "## Extra: save summary statistics to CSV spreadsheet\n",
    "\n",
    "Whenever the results of an operation on a `GeoDataFrame` do not include a\n",
    "geometry, the output data frame will automatically become a ‘plain’\n",
    "`pandas.DataFrame`, and can be saved to the standard table formats.\n",
    "\n",
    "One interesting application of this is to save basic descriptive statistics of\n",
    "a geospatial data set into a CSV table. For instance, we might want to know the\n",
    "area each terrain class covers. \n",
    "\n",
    "Again, we start by grouping the input data by terrain classes, and then compute\n",
    "the sum of each classes’ area. This can be condensed into one line of code:"
   ]
  },
  {
   "cell_type": "code",
   "execution_count": null,
   "id": "7f64d380",
   "metadata": {},
   "outputs": [],
   "source": []
  },
  {
   "cell_type": "markdown",
   "id": "fd04bb64",
   "metadata": {},
   "source": [
    "We can then save the resulting table into a CSV file using the standard pandas\n",
    "approach we learned about in [Geo-Python\n",
    "lesson 5](https://geo-python-site.readthedocs.io/en/latest/notebooks/L5/processing-data-with-pandas.html#writing-data-to-a-file)."
   ]
  },
  {
   "cell_type": "code",
   "execution_count": null,
   "id": "60c5a2b2",
   "metadata": {},
   "outputs": [],
   "source": []
  }
 ],
 "metadata": {
  "kernelspec": {
   "display_name": "Python 3 (ipykernel)",
   "language": "python",
   "name": "python3"
  },
  "language_info": {
   "codemirror_mode": {
    "name": "ipython",
    "version": 3
   },
   "file_extension": ".py",
   "mimetype": "text/x-python",
   "name": "python",
   "nbconvert_exporter": "python",
   "pygments_lexer": "ipython3",
   "version": "3.10.8"
  }
 },
 "nbformat": 4,
 "nbformat_minor": 5
}
